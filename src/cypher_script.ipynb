{
 "cells": [
  {
   "cell_type": "code",
   "execution_count": 1,
   "metadata": {},
   "outputs": [],
   "source": [
    "from py2neo import Graph\n",
    "from igraph import Graph as IGraph\n",
    "from pprint import pprint"
   ]
  },
  {
   "cell_type": "code",
   "execution_count": 2,
   "metadata": {},
   "outputs": [],
   "source": [
    "graph = Graph('bolt://127.0.0.1:7687', password='neo4jneo4j')"
   ]
  },
  {
   "cell_type": "code",
   "execution_count": 3,
   "metadata": {},
   "outputs": [
    {
     "data": {
      "text/plain": [
       "[{'m': Node('Stock', code='2330', community=0, market='上市', name='台積電', pagerank=0.0026358874823793387, stock_id='2330')}]"
      ]
     },
     "execution_count": 3,
     "metadata": {},
     "output_type": "execute_result"
    }
   ],
   "source": [
    "# 查詢台GG\n",
    "query = '''\n",
    "match (m:Stock{code:'2330'}) return m\n",
    "'''\n",
    "graph.run(query).data()"
   ]
  },
  {
   "cell_type": "code",
   "execution_count": 4,
   "metadata": {},
   "outputs": [
    {
     "data": {
      "text/html": [
       "<table><tr><th>count(distinct(n))</th></tr><tr><td style=\"text-align:right\">126</td></tr></table>"
      ],
      "text/plain": [
       " count(distinct(n)) \n",
       "--------------------\n",
       "                126 "
      ]
     },
     "execution_count": 4,
     "metadata": {},
     "output_type": "execute_result"
    }
   ],
   "source": [
    "# Concept(概念股)種類的總數\n",
    "query = '''\n",
    "match (n:Concept) return count(distinct(n))\n",
    "'''\n",
    "\n",
    "graph.run(query)"
   ]
  },
  {
   "cell_type": "code",
   "execution_count": 5,
   "metadata": {},
   "outputs": [
    {
     "data": {
      "text/plain": [
       "[{'n': Node('Person', community=1, name='李俊賢', pagerank=5.8791424382182885e-05, person_id='b9c64214b5e97d40aea34cfa75a390ac'),\n",
       "  'e2': employ_of(Node('Person', community=1, name='李俊賢', pagerank=5.8791424382182885e-05, person_id='b9c64214b5e97d40aea34cfa75a390ac'), Node('Stock', code='2530', market='上市', name='華建', stock_id='2530'), jobs='副總經理', stock_num=203)},\n",
       " {'n': Node('Person', community=1, name='李俊賢', pagerank=5.8791424382182885e-05, person_id='b9c64214b5e97d40aea34cfa75a390ac'),\n",
       "  'e2': employ_of(Node('Person', community=1, name='李俊賢', pagerank=5.8791424382182885e-05, person_id='b9c64214b5e97d40aea34cfa75a390ac'), Node('Stock', code='5201', market='上櫃', name='凱衛', stock_id='5201'), jobs='副總經理', stock_num=0, stock_ratio=0.0)},\n",
       " {'n': Node('Person', community=1, name='李俊賢', pagerank=5.8791424382182885e-05, person_id='b9c64214b5e97d40aea34cfa75a390ac'),\n",
       "  'e2': employ_of(Node('Person', community=1, name='李俊賢', pagerank=5.8791424382182885e-05, person_id='b9c64214b5e97d40aea34cfa75a390ac'), Node('Stock', code='1569', market='上櫃', name='濱川', stock_id='1569'), jobs='獨立董事', stock_num=0, stock_ratio=0.0)}]"
      ]
     },
     "execution_count": 5,
     "metadata": {},
     "output_type": "execute_result"
    }
   ],
   "source": [
    "# GG有多少副總在其他公司也是董監事經理人或大股東\n",
    "query = '''\n",
    "MATCH (m:Stock{code:'2330'})<-[:employ_of{jobs:'副總經理'}]-(n:Person)-[e2:employ_of]->(q:Stock)\n",
    "RETURN n, e2\n",
    "'''\n",
    "graph.run(query).data()"
   ]
  },
  {
   "cell_type": "code",
   "execution_count": 6,
   "metadata": {},
   "outputs": [
    {
     "name": "stdout",
     "output_type": "stream",
     "text": [
      "[igraph.Vertex(<igraph.Graph object at 0x7f9c6840f940>, 0, {'name': Node('Person', community=1, name='摩西．蓋弗瑞', pagerank=1.8901045091885342e-05, person_id='f7e8a7073af3c121a18aba032a2b1a04')}),\n",
      " igraph.Vertex(<igraph.Graph object at 0x7f9c6840f940>, 1, {'name': 1}),\n",
      " igraph.Vertex(<igraph.Graph object at 0x7f9c6840f940>, 2, {'name': Node('Person', community=1, name='麥克。史賓林', pagerank=1.8901045091885342e-05, person_id='427f0333d16f224bedea4570e6cd9410')}),\n",
      " igraph.Vertex(<igraph.Graph object at 0x7f9c6840f940>, 3, {'name': Node('Person', community=1, name='陳國慈', pagerank=1.8901045091885342e-05, person_id='94417b1d3d9bec10492592510c3e3e40')}),\n",
      " igraph.Vertex(<igraph.Graph object at 0x7f9c6840f940>, 4, {'name': Node('Person', community=1, name='海英俊', pagerank=5.510402566637519e-05, person_id='6bcaa268b1b2ad70fc7a641edd421528')}),\n",
      " igraph.Vertex(<igraph.Graph object at 0x7f9c6840f940>, 5, {'name': Node('Person', community=1, name='拉斐爾‧萊夫', pagerank=1.8901045091885342e-05, person_id='6998f1362e7689ea0023517fbc2af681')}),\n",
      " igraph.Vertex(<igraph.Graph object at 0x7f9c6840f940>, 6, {'name': Node('Person', community=1, name='彼得.邦菲', pagerank=1.8901045091885342e-05, person_id='f58593da0c0f6602ef06cbcd6195f986')})]\n"
     ]
    }
   ],
   "source": [
    "# GG有多少獨立董事\n",
    "query = '''\n",
    "MATCH (m:Stock{name:'台積電'})<-[:employ_of{jobs:'獨立董事'}]-(n:Person)\n",
    "RETURN n, count(distinct(n))\n",
    "'''\n",
    "ig = IGraph.TupleList(graph.run(query), weights=True)\n",
    "pprint([v for v in ig.vs])\n"
   ]
  },
  {
   "cell_type": "code",
   "execution_count": 7,
   "metadata": {},
   "outputs": [
    {
     "data": {
      "text/plain": [
       "[{'m': Node('Stock', code='6414', community=0, market='上市', name='樺漢', pagerank=0.00112715267499116, stock_id='6414'),\n",
       "  'count(distinct(m))': 1},\n",
       " {'m': Node('Stock', code='6166', community=0, market='上市', name='凌華', pagerank=0.0007455384110258626, stock_id='6166'),\n",
       "  'count(distinct(m))': 1},\n",
       " {'m': Node('Stock', code='3231', community=0, market='上市', name='緯創', pagerank=0.002340426239425494, stock_id='3231'),\n",
       "  'count(distinct(m))': 1},\n",
       " {'m': Node('Stock', code='2395', community=0, market='上市', name='研華', pagerank=0.0016078274695243253, stock_id='2395'),\n",
       "  'count(distinct(m))': 1},\n",
       " {'m': Node('Stock', code='2382', community=0, market='上市', name='廣達', pagerank=0.002108673851452949, stock_id='2382'),\n",
       "  'count(distinct(m))': 1},\n",
       " {'m': Node('Stock', code='2377', community=0, market='上市', name='微星', pagerank=0.0013429646826712258, stock_id='2377'),\n",
       "  'count(distinct(m))': 1},\n",
       " {'m': Node('Stock', code='2357', community=0, market='上市', name='華碩', pagerank=0.0019307332802150363, stock_id='2357'),\n",
       "  'count(distinct(m))': 1},\n",
       " {'m': Node('Stock', code='2356', community=0, market='上市', name='英業達', pagerank=0.0021179553042174654, stock_id='2356'),\n",
       "  'count(distinct(m))': 1},\n",
       " {'m': Node('Stock', code='2353', community=0, market='上市', name='宏碁', pagerank=0.0017135950939753768, stock_id='2353'),\n",
       "  'count(distinct(m))': 1}]"
      ]
     },
     "execution_count": 7,
     "metadata": {},
     "output_type": "execute_result"
    }
   ],
   "source": [
    "# 有多少'電腦及週邊設備業'也是'AI概念股'\n",
    "query = '''\n",
    "MATCH (:Concept{name:'AI人工智慧'})<-[:concept_of]-(m:Stock)-[:industry_of]->(:Industry{name:'電腦及週邊設備業'})\n",
    "RETURN m, count(distinct(m))\n",
    "'''\n",
    "graph.run(query).data()"
   ]
  },
  {
   "cell_type": "code",
   "execution_count": 8,
   "metadata": {},
   "outputs": [
    {
     "data": {
      "text/plain": [
       "[{'p1': Node('Person', community=1, name='黃士宏', pagerank=1.8256794678695572e-05, person_id='94d28f59154d23980b270c0d1dde4bd2'),\n",
       "  'count(distinct(p1))': 1},\n",
       " {'p1': Node('Person', community=1, name='劉厚鈞', pagerank=1.8256794678695572e-05, person_id='4129087636a78ce3e7c9510cd11a9d51'),\n",
       "  'count(distinct(p1))': 1},\n",
       " {'p1': Node('Person', community=1, name='劉平貴', pagerank=1.8256794678695572e-05, person_id='9b56a43be3f126da334b781d63da53bb'),\n",
       "  'count(distinct(p1))': 1},\n",
       " {'p1': Node('Person', community=1, name='詹鵬弘', pagerank=1.8256794678695572e-05, person_id='124bc059485cb56ce5d3067dc03a6e6f'),\n",
       "  'count(distinct(p1))': 1},\n",
       " {'p1': Node('Person', community=1, name='溫志偉', pagerank=1.8256794678695572e-05, person_id='e706756e2d1a336602b2e891279af81e'),\n",
       "  'count(distinct(p1))': 1},\n",
       " {'p1': Node('Person', community=1, name='陳禧冠', pagerank=1.8256794678695572e-05, person_id='08881ed4de0d4e8a9f92584f1db92f1e'),\n",
       "  'count(distinct(p1))': 1},\n",
       " {'p1': Node('Person', community=1, name='譚仲興', pagerank=1.8256794678695572e-05, person_id='3cc7b5fa5551f097f639929c06732ccf'),\n",
       "  'count(distinct(p1))': 1},\n",
       " {'p1': Node('Person', community=1, name='魏秋瑞', pagerank=3.2108093516054436e-05, person_id='d89eb6aa1f27216e95679b70773f69df'),\n",
       "  'count(distinct(p1))': 1},\n",
       " {'p1': Node('Person', community=1, name='戚務慶', pagerank=1.8256794678695572e-05, person_id='f89fdb19d5fd772f3173a564f7bd26cd'),\n",
       "  'count(distinct(p1))': 1},\n",
       " {'p1': Node('Person', community=1, name='張睿騰', pagerank=1.8256794678695572e-05, person_id='73937c38266aceb17815aa814b1b5ca8'),\n",
       "  'count(distinct(p1))': 1},\n",
       " {'p1': Node('Person', community=1, name='許振昌', pagerank=1.8256794678695572e-05, person_id='c08d88765a2de2363e4ef38802071926'),\n",
       "  'count(distinct(p1))': 1},\n",
       " {'p1': Node('Person', community=1, name='徐睿鈞', pagerank=1.8256794678695572e-05, person_id='54f137598102a1e321082564ba280b85'),\n",
       "  'count(distinct(p1))': 1},\n",
       " {'p1': Node('Person', community=1, name='仇祖天', pagerank=1.8256794678695572e-05, person_id='d278a3c8fa8ea402bafdf661e72a2d84'),\n",
       "  'count(distinct(p1))': 1},\n",
       " {'p1': Node('Person', community=1, name='丁長捷', pagerank=1.8256794678695572e-05, person_id='0ff517a84f9f9804684e892db01acc5f'),\n",
       "  'count(distinct(p1))': 1}]"
      ]
     },
     "execution_count": 8,
     "metadata": {},
     "output_type": "execute_result"
    }
   ],
   "source": [
    "# 列出仁寶所有零持股的副總\n",
    "query = '''\n",
    "MATCH (:Stock{name:'仁寶'})<-[:employ_of{jobs:'副總經理', stock_num:0}]-(p1:Person)\n",
    "RETURN p1, count(distinct(p1))\n",
    "'''\n",
    "graph.run(query).data()"
   ]
  },
  {
   "cell_type": "code",
   "execution_count": 9,
   "metadata": {},
   "outputs": [
    {
     "data": {
      "text/plain": [
       "[{'min': 0,\n",
       "  'max': 10662,\n",
       "  'avg_characters': 854.3714285714284,\n",
       "  'stdev': 2155.553253476107}]"
      ]
     },
     "execution_count": 9,
     "metadata": {},
     "output_type": "execute_result"
    }
   ],
   "source": [
    "# 列出仁寶副總所有持股的統計\n",
    "query = '''\n",
    "MATCH (:Stock{name:'仁寶'})<-[emp:employ_of{jobs:'副總經理'}]-(p1:Person)\n",
    "WITH emp.stock_num AS num\n",
    "RETURN min(num) AS min, max(num) AS max, avg(num) AS avg_characters, stdev(num) AS stdev\n",
    "'''\n",
    "graph.run(query).data()"
   ]
  },
  {
   "cell_type": "code",
   "execution_count": 10,
   "metadata": {},
   "outputs": [
    {
     "data": {
      "text/html": [
       "<table><tr><th>ratio</th></tr><tr><td style=\"text-align:right\">0.4</td></tr></table>"
      ],
      "text/plain": [
       " ratio \n",
       "-------\n",
       "   0.4 "
      ]
     },
     "execution_count": 10,
     "metadata": {},
     "output_type": "execute_result"
    }
   ],
   "source": [
    "# 仁寶副總有多少比例零持股\n",
    "query = '''\n",
    "MATCH (:Stock{name:'仁寶'})<-[:employ_of{jobs:'副總經理', stock_num:0}]-(p1:Person)\n",
    "MATCH (:Stock{name:'仁寶'})<-[:employ_of{jobs:'副總經理'}]-(p2:Person)\n",
    "RETURN count(distinct(p1))*1.0/ count(distinct(p2)) as ratio\n",
    "'''\n",
    "graph.run(query)\n"
   ]
  },
  {
   "cell_type": "code",
   "execution_count": 11,
   "metadata": {},
   "outputs": [
    {
     "data": {
      "text/html": [
       "<table><tr><th>ratio</th></tr><tr><td style=\"text-align:right\">0.8571428571428571</td></tr></table>"
      ],
      "text/plain": [
       "              ratio \n",
       "--------------------\n",
       " 0.8571428571428571 "
      ]
     },
     "execution_count": 11,
     "metadata": {},
     "output_type": "execute_result"
    }
   ],
   "source": [
    "# 仁寶副總有多少比例持股小於1000\n",
    "query = '''\n",
    "MATCH (:Stock{name:'仁寶'})<-[emp:employ_of{jobs:'副總經理'}]-(p1:Person)\n",
    "MATCH (:Stock{name:'仁寶'})<-[:employ_of{jobs:'副總經理'}]-(p2:Person)\n",
    "WHERE emp.stock_num < 1000\n",
    "RETURN count(distinct(p1))*1.0/ count(distinct(p2)) as ratio\n",
    "'''\n",
    "graph.run(query)\n"
   ]
  },
  {
   "cell_type": "code",
   "execution_count": 12,
   "metadata": {},
   "outputs": [
    {
     "data": {
      "text/html": [
       "<table><tr><th>bs</th><th>d</th><th>s</th></tr><tr><td style=\"text-align:left\">(美林)-[:buy_or_sell {amount: 1647}]-&gt;(群創)</td><td style=\"text-align:left\">(_1084:Dealer {dealer_id: &#039;1b1a8637036ae1e6a4f01618527e6914&#039;, name: &#039;\\u7f8e\\u6797&#039;})</td><td style=\"text-align:left\">(_11406:Stock {code: &#039;3481&#039;, community: 0, market: &#039;\\u4e0a\\u5e02&#039;, name: &#039;\\u7fa4\\u5275&#039;, pagerank: 0.0017248332372997882, stock_id: &#039;3481&#039;})</td></tr><tr><td style=\"text-align:left\">(美林)-[:buy_or_sell {amount: 3686}]-&gt;(緯創)</td><td style=\"text-align:left\">(_1084:Dealer {dealer_id: &#039;1b1a8637036ae1e6a4f01618527e6914&#039;, name: &#039;\\u7f8e\\u6797&#039;})</td><td style=\"text-align:left\">(_11382:Stock {code: &#039;3231&#039;, community: 0, market: &#039;\\u4e0a\\u5e02&#039;, name: &#039;\\u7def\\u5275&#039;, pagerank: 0.002340426239425494, stock_id: &#039;3231&#039;})</td></tr><tr><td style=\"text-align:left\">(美林)-[:buy_or_sell {amount: 2163}]-&gt;(第一金)</td><td style=\"text-align:left\">(_1084:Dealer {dealer_id: &#039;1b1a8637036ae1e6a4f01618527e6914&#039;, name: &#039;\\u7f8e\\u6797&#039;})</td><td style=\"text-align:left\">(_11302:Stock {code: &#039;2892&#039;, community: 21, market: &#039;\\u4e0a\\u5e02&#039;, name: &#039;\\u7b2c\\u4e00\\u91d1&#039;, pagerank: 0.0004362672117722965, stock_id: &#039;2892&#039;})</td></tr></table>"
      ],
      "text/plain": [
       " bs                                        | d                                                                                    | s                                                                                                                                                   \n",
       "-------------------------------------------|--------------------------------------------------------------------------------------|-----------------------------------------------------------------------------------------------------------------------------------------------------\n",
       " (美林)-[:buy_or_sell {amount: 1647}]->(群創)  | (_1084:Dealer {dealer_id: '1b1a8637036ae1e6a4f01618527e6914', name: '\\u7f8e\\u6797'}) | (_11406:Stock {code: '3481', community: 0, market: '\\u4e0a\\u5e02', name: '\\u7fa4\\u5275', pagerank: 0.0017248332372997882, stock_id: '3481'})        \n",
       " (美林)-[:buy_or_sell {amount: 3686}]->(緯創)  | (_1084:Dealer {dealer_id: '1b1a8637036ae1e6a4f01618527e6914', name: '\\u7f8e\\u6797'}) | (_11382:Stock {code: '3231', community: 0, market: '\\u4e0a\\u5e02', name: '\\u7def\\u5275', pagerank: 0.002340426239425494, stock_id: '3231'})         \n",
       " (美林)-[:buy_or_sell {amount: 2163}]->(第一金) | (_1084:Dealer {dealer_id: '1b1a8637036ae1e6a4f01618527e6914', name: '\\u7f8e\\u6797'}) | (_11302:Stock {code: '2892', community: 21, market: '\\u4e0a\\u5e02', name: '\\u7b2c\\u4e00\\u91d1', pagerank: 0.0004362672117722965, stock_id: '2892'}) "
      ]
     },
     "execution_count": 12,
     "metadata": {},
     "output_type": "execute_result"
    }
   ],
   "source": [
    "# 隔日沖券商 美林 買超張數超過1000張的股票\n",
    "query = '''\n",
    "MATCH (d:Dealer{name:'美林'})-[bs:buy_or_sell]->(s:Stock)\n",
    "WHERE bs.amount>1000\n",
    "RETURN *\n",
    "'''\n",
    "graph.run(query)"
   ]
  },
  {
   "cell_type": "code",
   "execution_count": 13,
   "metadata": {},
   "outputs": [
    {
     "data": {
      "text/plain": [
       "[{'concept': ['華為']},\n",
       " {'concept': ['AI人工智慧']},\n",
       " {'concept': ['3D感測']},\n",
       " {'concept': ['車聯網']},\n",
       " {'concept': ['手機']},\n",
       " {'concept': ['網通']},\n",
       " {'concept': ['山寨手機']},\n",
       " {'concept': ['APPLE概念']},\n",
       " {'concept': ['3D技術']},\n",
       " {'concept': ['iTV']},\n",
       " {'concept': ['車用電子相關']},\n",
       " {'concept': ['5G']}]"
      ]
     },
     "execution_count": 13,
     "metadata": {},
     "output_type": "execute_result"
    }
   ],
   "source": [
    "# GG跟發哥在概念股上的最短路徑\n",
    "query = '''\n",
    "MATCH (a:Stock {code:'2330'}), (b:Stock {code:'2454'})\n",
    "MATCH p=allShortestPaths((a)-[:concept_of*]-(b))\n",
    "WITH [node IN nodes(p) where node:Concept | node.name] AS concept\n",
    "RETURN concept \n",
    "'''\n",
    "graph.run(query).data()"
   ]
  },
  {
   "cell_type": "code",
   "execution_count": 14,
   "metadata": {},
   "outputs": [
    {
     "data": {
      "text/plain": [
       "[{'stock': '彰銀', 'degree': 268},\n",
       " {'stock': '臺企銀', 'degree': 221},\n",
       " {'stock': '安泰銀', 'degree': 197},\n",
       " {'stock': '凌群', 'degree': 190},\n",
       " {'stock': '遠東銀', 'degree': 188},\n",
       " {'stock': '聯邦銀', 'degree': 175},\n",
       " {'stock': '開發金', 'degree': 163},\n",
       " {'stock': '上海商銀', 'degree': 161},\n",
       " {'stock': '台中銀', 'degree': 161},\n",
       " {'stock': '中華電', 'degree': 147}]"
      ]
     },
     "execution_count": 14,
     "metadata": {},
     "output_type": "execute_result"
    }
   ],
   "source": [
    "# 查詢含有最多degree(不考慮方向以及關聯類別)的前10個Stock\n",
    "# 彰銀主要靠董事成員夠多\n",
    "query = '''\n",
    "MATCH (s:Stock)\n",
    "RETURN s.name AS stock, apoc.node.degree(s) AS degree \n",
    "ORDER BY degree DESC LIMIT 10\n",
    "'''\n",
    "\n",
    "graph.run(query).data()"
   ]
  },
  {
   "cell_type": "code",
   "execution_count": 15,
   "metadata": {},
   "outputs": [
    {
     "data": {
      "text/plain": [
       "[{'person': '莊永順', 'degree': 11},\n",
       " {'person': '李俊德', 'degree': 9},\n",
       " {'person': '焦佑衡', 'degree': 9},\n",
       " {'person': '王文淵', 'degree': 8},\n",
       " {'person': '姚德彰', 'degree': 7},\n",
       " {'person': '陳金龍', 'degree': 7},\n",
       " {'person': '陳建志', 'degree': 7},\n",
       " {'person': '林志隆', 'degree': 7},\n",
       " {'person': '陳俊成', 'degree': 6},\n",
       " {'person': '陳進財', 'degree': 6},\n",
       " {'person': '胡秋江', 'degree': 6},\n",
       " {'person': '徐旭東', 'degree': 6},\n",
       " {'person': '焦佑鈞', 'degree': 6},\n",
       " {'person': '陳冠華', 'degree': 6},\n",
       " {'person': '統一企業(股)-羅智先', 'degree': 6},\n",
       " {'person': '王俊傑', 'degree': 6},\n",
       " {'person': '鄭更義', 'degree': 6},\n",
       " {'person': '陳建州', 'degree': 6},\n",
       " {'person': '林志峰', 'degree': 6},\n",
       " {'person': '王光祥', 'degree': 6},\n",
       " {'person': '汪雅康', 'degree': 6},\n",
       " {'person': '陳雍之', 'degree': 6},\n",
       " {'person': '李英珍', 'degree': 6},\n",
       " {'person': '蔡政憲', 'degree': 6},\n",
       " {'person': '郭淑珍', 'degree': 5},\n",
       " {'person': '席家宜', 'degree': 5},\n",
       " {'person': '陳怡君', 'degree': 5},\n",
       " {'person': '林建宏', 'degree': 5},\n",
       " {'person': '陳信宏', 'degree': 5},\n",
       " {'person': '陳淑玲', 'degree': 5},\n",
       " {'person': '蔡高忠', 'degree': 5},\n",
       " {'person': '蕭珍琪', 'degree': 5},\n",
       " {'person': '嚴維群', 'degree': 5},\n",
       " {'person': '王宏仁', 'degree': 5},\n",
       " {'person': '林建興', 'degree': 5}]"
      ]
     },
     "execution_count": 15,
     "metadata": {},
     "output_type": "execute_result"
    }
   ],
   "source": [
    "# 查詢跟最多股票有關係的前35位董事\n",
    "# 涂水城是大股東\n",
    "query = '''\n",
    "MATCH (p:Person)\n",
    "RETURN p.name AS person, apoc.node.degree(p) AS degree \n",
    "ORDER BY degree DESC LIMIT 35\n",
    "'''\n",
    "\n",
    "graph.run(query).data()"
   ]
  },
  {
   "cell_type": "code",
   "execution_count": 16,
   "metadata": {},
   "outputs": [
    {
     "data": {
      "text/plain": [
       "[{'person': '財政部-許國郎', 'stockNum': 3651323},\n",
       " {'person': '財政部-鄧延達', 'stockNum': 3651323},\n",
       " {'person': '財政部-雷仲達', 'stockNum': 3651323},\n",
       " {'person': '財政部-陳美足', 'stockNum': 3651323},\n",
       " {'person': '財政部-江瑞堂', 'stockNum': 3651323},\n",
       " {'person': '財政部-周惠美', 'stockNum': 3651323},\n",
       " {'person': '經濟部(股)-劉明忠', 'stockNum': 3486011},\n",
       " {'person': '台灣化學纖維(股)-王文淵', 'stockNum': 3417801},\n",
       " {'person': '經濟部(股)-翁朝棟', 'stockNum': 3154709},\n",
       " {'person': '經濟部(股)-曾文生', 'stockNum': 3154709},\n",
       " {'person': '臺灣銀行(股)-王昭文', 'stockNum': 2896526},\n",
       " {'person': '臺灣銀行(股)-鄭士卿', 'stockNum': 2896526},\n",
       " {'person': '臺灣銀行(股)-蔡偉德', 'stockNum': 2896526},\n",
       " {'person': '臺灣銀行(股)-王文杰', 'stockNum': 2896526},\n",
       " {'person': '臺灣銀行(股)-王安邦', 'stockNum': 2896526},\n",
       " {'person': '萬寶開發(股)', 'stockNum': 2788405},\n",
       " {'person': '交通部-蔡秀涓', 'stockNum': 2737719},\n",
       " {'person': '交通部-陳信宏', 'stockNum': 2737719},\n",
       " {'person': '交通部-謝繼茂', 'stockNum': 2737719},\n",
       " {'person': '交通部-曾世宏', 'stockNum': 2737719},\n",
       " {'person': '交通部-胡湘麟', 'stockNum': 2737719},\n",
       " {'person': '交通部-張信一', 'stockNum': 2737719},\n",
       " {'person': '交通部-郭水義', 'stockNum': 2737719},\n",
       " {'person': '交通部-李靜慧', 'stockNum': 2737719},\n",
       " {'person': '台灣塑膠工業(股)-陳寶郎', 'stockNum': 2720549},\n",
       " {'person': '台灣塑膠工業(股)-王瑞華', 'stockNum': 2720549},\n",
       " {'person': '交通部-潘清鴻', 'stockNum': 2420000},\n",
       " {'person': '交通部-祁文中', 'stockNum': 2420000},\n",
       " {'person': '霖園投資(股)', 'stockNum': 2248861},\n",
       " {'person': '南亞塑膠工業(股)-曹明', 'stockNum': 2201306},\n",
       " {'person': '南亞塑膠工業(股)-王文潮', 'stockNum': 2201306},\n",
       " {'person': '長庚醫療財團法人', 'stockNum': 1965875},\n",
       " {'person': '航發會-危永業', 'stockNum': 1867342},\n",
       " {'person': '航發會-丁廣鋐', 'stockNum': 1867342},\n",
       " {'person': '航發會-陳漢銘', 'stockNum': 1867342}]"
      ]
     },
     "execution_count": 16,
     "metadata": {},
     "output_type": "execute_result"
    }
   ],
   "source": [
    "# 查詢總持股前35最多的董事\n",
    "query = '''\n",
    "MATCH (p:Person)-[r:employ_of]-(:Stock)\n",
    "RETURN p.name AS person, sum(r.stock_num) as stockNum\n",
    "ORDER BY stockNum DESC LIMIT 35\n",
    "'''\n",
    "\n",
    "graph.run(query).data()"
   ]
  },
  {
   "cell_type": "code",
   "execution_count": 17,
   "metadata": {},
   "outputs": [
    {
     "name": "stdout",
     "output_type": "stream",
     "text": [
      "CPU times: user 222 ms, sys: 0 ns, total: 222 ms\n",
      "Wall time: 14 s\n"
     ]
    },
    {
     "data": {
      "text/plain": [
       "[{'name': '台達電', 'pagerank': 0.004449776383402385},\n",
       " {'name': '鴻海', 'pagerank': 0.0043005834611744885},\n",
       " {'name': '三星', 'pagerank': 0.003135367787337485},\n",
       " {'name': '瑞昱', 'pagerank': 0.0027106985889843197},\n",
       " {'name': '台積電', 'pagerank': 0.002635887482379148},\n",
       " {'name': '聯發科', 'pagerank': 0.002486829721305543},\n",
       " {'name': '緯創', 'pagerank': 0.0023404262394254066},\n",
       " {'name': '正崴', 'pagerank': 0.002323694754789855},\n",
       " {'name': '原相', 'pagerank': 0.0022495755471836046},\n",
       " {'name': '英業達', 'pagerank': 0.0021179553042175226},\n",
       " {'name': '廣達', 'pagerank': 0.00210867385145294},\n",
       " {'name': '仁寶', 'pagerank': 0.0020391599186539103},\n",
       " {'name': '偉詮電', 'pagerank': 0.001976949002979433},\n",
       " {'name': '和碩', 'pagerank': 0.0019500213697815926},\n",
       " {'name': '華碩', 'pagerank': 0.0019307332802153113},\n",
       " {'name': '鴻準', 'pagerank': 0.0019036205871657316},\n",
       " {'name': '東元', 'pagerank': 0.0018812958580418059},\n",
       " {'name': '大立光', 'pagerank': 0.0018679439176872003},\n",
       " {'name': '日月光投控', 'pagerank': 0.0017697817854847129},\n",
       " {'name': '群創', 'pagerank': 0.0017248332372999775}]"
      ]
     },
     "execution_count": 17,
     "metadata": {},
     "output_type": "execute_result"
    }
   ],
   "source": [
    "%%time\n",
    "# PageRank: The size of each node is proportional to the number and size of the other nodes pointing to it in the network. \n",
    "# 使用pagerank篩選在所有概念股類別當中，參與這些概念股前20多的股票\n",
    "query = '''\n",
    "MATCH (s:Stock)-[r:concept_of]->(c:Concept)\n",
    "RETURN s.name, c.name\n",
    "'''\n",
    "ig = IGraph.TupleList(graph.run(query), weights=True)\n",
    "\n",
    "pg = ig.pagerank()\n",
    "pgvs = []\n",
    "for p in zip(ig.vs, pg):\n",
    "    pgvs.append({\"name\": p[0][\"name\"], \"pg\": p[1]})\n",
    "\n",
    "write_clusters_query = '''\n",
    "UNWIND $nodes AS n\n",
    "MATCH (s:Stock) WHERE s.name = n.name\n",
    "SET s.pagerank = n.pg\n",
    "'''\n",
    "graph.run(write_clusters_query, nodes=pgvs)\n",
    "\n",
    "\n",
    "query = '''\n",
    "MATCH (s:Stock)--(st:StockType{name:'股票'})\n",
    "WHERE s.pagerank<>'none'\n",
    "RETURN s.name AS name, s.pagerank AS pagerank ORDER BY pagerank DESC LIMIT 20\n",
    "'''\n",
    "graph.run(query).data()"
   ]
  },
  {
   "cell_type": "code",
   "execution_count": 18,
   "metadata": {
    "tags": []
   },
   "outputs": [
    {
     "name": "stdout",
     "output_type": "stream",
     "text": [
      "CPU times: user 94.5 ms, sys: 1.05 ms, total: 95.5 ms\n",
      "Wall time: 11.1 s\n"
     ]
    },
    {
     "data": {
      "text/plain": [
       "{'cluster': 0,\n",
       " 'members': ['僑威',\n",
       "  '聯亞',\n",
       "  '笙泉',\n",
       "  '大綜',\n",
       "  '璟德',\n",
       "  '波若威',\n",
       "  '亞信',\n",
       "  '順達',\n",
       "  '優群',\n",
       "  '原相',\n",
       "  '金麗科',\n",
       "  '光環',\n",
       "  '鑫創',\n",
       "  '威剛',\n",
       "  '東碩',\n",
       "  '宇環',\n",
       "  '微端',\n",
       "  '尼克森',\n",
       "  '建舜電',\n",
       "  '雙鴻',\n",
       "  '尚立',\n",
       "  '上詮',\n",
       "  '崇越電',\n",
       "  '旭軟',\n",
       "  '由田',\n",
       "  '致振',\n",
       "  '力致',\n",
       "  '昇達科',\n",
       "  '矽瑪',\n",
       "  '鴻翊',\n",
       "  '迎輝',\n",
       "  '力旺',\n",
       "  '兆利',\n",
       "  '禾瑞亞',\n",
       "  '神準',\n",
       "  '牧德',\n",
       "  '泓格',\n",
       "  '磐儀',\n",
       "  '鼎翰',\n",
       "  '安可',\n",
       "  '富晶通',\n",
       "  '新鉅科',\n",
       "  '艾恩特',\n",
       "  '精聯',\n",
       "  '榮昌',\n",
       "  '湧德',\n",
       "  '營邦',\n",
       "  '鐿鈦',\n",
       "  '桓達',\n",
       "  '永捷',\n",
       "  '熒茂',\n",
       "  '聯光通',\n",
       "  '前鼎',\n",
       "  '新復興',\n",
       "  '友輝',\n",
       "  '亞電',\n",
       "  '緯軟',\n",
       "  '譜瑞-KY',\n",
       "  '華星光',\n",
       "  '新鼎',\n",
       "  '智晶',\n",
       "  '笙科',\n",
       "  '信驊',\n",
       "  '台林',\n",
       "  '協益',\n",
       "  '中光電',\n",
       "  '應華',\n",
       "  '中菲',\n",
       "  '宣德',\n",
       "  '通泰',\n",
       "  '松普',\n",
       "  '同亨',\n",
       "  '創惟',\n",
       "  '新普',\n",
       "  '上奇',\n",
       "  '萬旭',\n",
       "  '茂達',\n",
       "  '耕興',\n",
       "  '頎邦',\n",
       "  '欣技',\n",
       "  '華電網',\n",
       "  '亞通',\n",
       "  '幃翔',\n",
       "  '萬潤',\n",
       "  '廣明',\n",
       "  '萬泰科',\n",
       "  '系微',\n",
       "  '旺玖',\n",
       "  '立端',\n",
       "  '久元',\n",
       "  '普萊德',\n",
       "  '台燿',\n",
       "  '良維',\n",
       "  '沛亨',\n",
       "  '晶焱',\n",
       "  '統新',\n",
       "  '迅得',\n",
       "  '神盾',\n",
       "  '宇智',\n",
       "  '互動',\n",
       "  '創威',\n",
       "  '宏觀',\n",
       "  '光菱',\n",
       "  '榮群',\n",
       "  '晶采',\n",
       "  '廣積',\n",
       "  '凱碩',\n",
       "  '元太',\n",
       "  '宏捷科',\n",
       "  '華宏',\n",
       "  '泰藝',\n",
       "  '群聯',\n",
       "  '商之器',\n",
       "  '華研',\n",
       "  '信錦',\n",
       "  '聲寶',\n",
       "  '華榮',\n",
       "  '三洋電',\n",
       "  '川湖',\n",
       "  '光寶科',\n",
       "  '台達電',\n",
       "  '華通',\n",
       "  '台揚',\n",
       "  '鴻海',\n",
       "  '東訊',\n",
       "  '中環',\n",
       "  '仁寶',\n",
       "  '國巨',\n",
       "  '廣宇',\n",
       "  '台積電',\n",
       "  '精英',\n",
       "  '友訊',\n",
       "  '旺宏',\n",
       "  '智邦',\n",
       "  '錸德',\n",
       "  '佳世達',\n",
       "  '宏碁',\n",
       "  '鴻準',\n",
       "  '英業達',\n",
       "  '華碩',\n",
       "  '所羅門',\n",
       "  '致茂',\n",
       "  '昆盈',\n",
       "  '金像電',\n",
       "  '菱生',\n",
       "  '技嘉',\n",
       "  '微星',\n",
       "  '瑞昱',\n",
       "  '廣達',\n",
       "  '台光電',\n",
       "  '群光',\n",
       "  '精元',\n",
       "  '威盛',\n",
       "  '正崴',\n",
       "  '億光',\n",
       "  '研華',\n",
       "  '南亞科',\n",
       "  '友達',\n",
       "  '中華電',\n",
       "  '環科',\n",
       "  '精技',\n",
       "  '仲琦',\n",
       "  '新巨',\n",
       "  '燦坤',\n",
       "  '聯昌',\n",
       "  '偉詮電',\n",
       "  '美律',\n",
       "  '兆勁',\n",
       "  '京元電子',\n",
       "  '創見',\n",
       "  '凌群',\n",
       "  '聯發科',\n",
       "  '全新',\n",
       "  '飛宏',\n",
       "  '光群雷',\n",
       "  '良得電',\n",
       "  '麗臺',\n",
       "  '華經',\n",
       "  '資通',\n",
       "  '可成',\n",
       "  '鉅祥',\n",
       "  '連宇',\n",
       "  '兆赫',\n",
       "  '瑞軒',\n",
       "  '華新科',\n",
       "  '普安',\n",
       "  '宏達電',\n",
       "  '台新金',\n",
       "  '中信金',\n",
       "  '神基',\n",
       "  '大立光',\n",
       "  '晟銘電',\n",
       "  '聯陽',\n",
       "  '全漢',\n",
       "  '奇鋐',\n",
       "  '亞光',\n",
       "  '威強電',\n",
       "  '零壹',\n",
       "  '聯詠',\n",
       "  '智原',\n",
       "  '欣興',\n",
       "  '全台',\n",
       "  '晶技',\n",
       "  '科風',\n",
       "  '健鼎',\n",
       "  '台灣大',\n",
       "  '訊舟',\n",
       "  '益登',\n",
       "  '和鑫',\n",
       "  '力特',\n",
       "  '立德',\n",
       "  '銘異',\n",
       "  '建漢',\n",
       "  '聯傑',\n",
       "  '正達',\n",
       "  '景碩',\n",
       "  '全科',\n",
       "  '緯創',\n",
       "  '虹冠電',\n",
       "  '昇貿',\n",
       "  '閎暉',\n",
       "  '同泰',\n",
       "  '泰碩',\n",
       "  '新日興',\n",
       "  '明泰',\n",
       "  '玉晶光',\n",
       "  '京鼎',\n",
       "  '融程電',\n",
       "  '譁裕',\n",
       "  '榮創',\n",
       "  '創意',\n",
       "  '聯鈞',\n",
       "  '群創',\n",
       "  '安馳',\n",
       "  '嘉澤',\n",
       "  '晶彩科',\n",
       "  '敦泰',\n",
       "  '力銘',\n",
       "  '智易',\n",
       "  '谷崧',\n",
       "  '洋華',\n",
       "  '達邁',\n",
       "  '健策',\n",
       "  'TPK-KY',\n",
       "  '亞太電',\n",
       "  '大聯大',\n",
       "  '合勤控',\n",
       "  '日月光投控',\n",
       "  '東台',\n",
       "  '遠傳',\n",
       "  '正文',\n",
       "  '致伸',\n",
       "  '新唐',\n",
       "  '和碩',\n",
       "  '嘉彰',\n",
       "  '凌通',\n",
       "  '臻鼎-KY',\n",
       "  '十銓',\n",
       "  '立積',\n",
       "  '眾達-KY',\n",
       "  '鑫禾',\n",
       "  '三星',\n",
       "  '訊連',\n",
       "  '達興材料',\n",
       "  '祥碩',\n",
       "  '中磊',\n",
       "  '松翰',\n",
       "  '達運',\n",
       "  '友勁',\n",
       "  '百一',\n",
       "  '嘉聯益',\n",
       "  '鈞寶',\n",
       "  '凌華',\n",
       "  '瑞儀',\n",
       "  '大豐電',\n",
       "  '佳必琪',\n",
       "  '盛群',\n",
       "  '飛捷',\n",
       "  '今國光',\n",
       "  '聯茂',\n",
       "  '精誠',\n",
       "  '聚鼎',\n",
       "  '超眾',\n",
       "  '華孚',\n",
       "  '力成',\n",
       "  '迅杰',\n",
       "  '矽格',\n",
       "  '台郡',\n",
       "  '宏正',\n",
       "  '台表科',\n",
       "  '康舒',\n",
       "  '啟碁',\n",
       "  '旭隼',\n",
       "  '群電',\n",
       "  '樺漢',\n",
       "  '矽力-KY',\n",
       "  '瑞祺電通',\n",
       "  '光聖',\n",
       "  '訊芯-KY',\n",
       "  'GIS-KY',\n",
       "  '晶心科',\n",
       "  '台通',\n",
       "  '矽創',\n",
       "  '南電',\n",
       "  '致新',\n",
       "  '華冠',\n",
       "  '瀚荃',\n",
       "  '錸寶',\n",
       "  '至上',\n",
       "  '振樺電',\n",
       "  '勤誠',\n",
       "  '志超',\n",
       "  '明基材',\n",
       "  '中視',\n",
       "  '百和',\n",
       "  '泰金寶-DR',\n",
       "  '晨訊科-DR']}"
      ]
     },
     "execution_count": 18,
     "metadata": {},
     "output_type": "execute_result"
    }
   ],
   "source": [
    "%%time\n",
    "# 使用各檔股票的概念股來做各檔股票的community detection\n",
    "\n",
    "clusters = IGraph.community_walktrap(ig, steps=3).as_clustering()\n",
    "\n",
    "nodes = [{\"name\": node[\"name\"]} for node in ig.vs]\n",
    "for node in nodes:\n",
    "    idx = ig.vs.find(name=node[\"name\"]).index\n",
    "    node[\"community\"] = clusters.membership[idx]\n",
    "\n",
    "write_clusters_query = '''\n",
    "UNWIND $nodes AS n\n",
    "MATCH (s:Stock) WHERE s.name = n.name\n",
    "SET s.community = toInteger(n.community)\n",
    "'''\n",
    "\n",
    "graph.run(write_clusters_query, nodes=nodes)\n",
    "\n",
    "query = '''\n",
    "MATCH (s:Stock)\n",
    "WITH s.community AS cluster, collect(s.name) AS members\n",
    "WHERE cluster<>'none'\n",
    "RETURN cluster, members ORDER BY cluster ASC\n",
    "'''\n",
    "\n",
    "graph.run(query).data()[0]\n"
   ]
  },
  {
   "cell_type": "code",
   "execution_count": 19,
   "metadata": {},
   "outputs": [
    {
     "name": "stdout",
     "output_type": "stream",
     "text": [
      "CPU times: user 904 ms, sys: 13.7 ms, total: 918 ms\n",
      "Wall time: 8min 45s\n"
     ]
    },
    {
     "data": {
      "text/plain": [
       "[{'name': '莊永順', 'pagerank': 0.00013642862956526018},\n",
       " {'name': '李俊德', 'pagerank': 0.00012217924597266868},\n",
       " {'name': '焦佑衡', 'pagerank': 0.00011283704399921802},\n",
       " {'name': '王文淵', 'pagerank': 0.00010226818288853262},\n",
       " {'name': '林志隆', 'pagerank': 9.71753667194982e-05},\n",
       " {'name': '姚德彰', 'pagerank': 9.699060770552947e-05},\n",
       " {'name': '陳金龍', 'pagerank': 9.602838124622436e-05},\n",
       " {'name': '陳建志', 'pagerank': 9.147055518385646e-05},\n",
       " {'name': '陳俊成', 'pagerank': 8.491468337679678e-05},\n",
       " {'name': '汪雅康', 'pagerank': 8.394703479567012e-05},\n",
       " {'name': '王俊傑', 'pagerank': 8.34041199849523e-05},\n",
       " {'name': '鄭更義', 'pagerank': 8.30350869266328e-05},\n",
       " {'name': '林志峰', 'pagerank': 8.299302447762641e-05},\n",
       " {'name': '陳冠華', 'pagerank': 8.276717381662142e-05},\n",
       " {'name': '陳建州', 'pagerank': 8.274753451978074e-05},\n",
       " {'name': '陳進財', 'pagerank': 8.155889162700944e-05},\n",
       " {'name': '胡秋江', 'pagerank': 8.152911008675036e-05},\n",
       " {'name': '徐旭東', 'pagerank': 8.078803264253219e-05},\n",
       " {'name': '蔡政憲', 'pagerank': 8.048180218614529e-05},\n",
       " {'name': '李英珍', 'pagerank': 7.903887184364206e-05}]"
      ]
     },
     "execution_count": 19,
     "metadata": {},
     "output_type": "execute_result"
    }
   ],
   "source": [
    "%%time\n",
    "# 使用pagerank篩選在所有股票當中，參與這些股票前20多的董事\n",
    "\n",
    "query = '''\n",
    "MATCH (p:Person)-[r:employ_of]->(s:Stock)\n",
    "RETURN p.name, s.name\n",
    "'''\n",
    "ig = IGraph.TupleList(graph.run(query), weights=True)\n",
    "\n",
    "pg = ig.pagerank()\n",
    "pgvs = []\n",
    "for p in zip(ig.vs, pg):\n",
    "    pgvs.append({\"name\": p[0][\"name\"], \"pg\": p[1]})\n",
    "\n",
    "write_clusters_query = '''\n",
    "UNWIND $nodes AS n\n",
    "MATCH (p:Person) WHERE p.name = n.name\n",
    "SET p.pagerank = n.pg\n",
    "'''\n",
    "graph.run(write_clusters_query, nodes=pgvs)\n",
    "\n",
    "\n",
    "query = '''\n",
    "MATCH (p:Person)\n",
    "RETURN p.name AS name, p.pagerank AS pagerank ORDER BY pagerank DESC LIMIT 20\n",
    "'''\n",
    "graph.run(query).data()\n",
    "\n"
   ]
  },
  {
   "cell_type": "code",
   "execution_count": 20,
   "metadata": {},
   "outputs": [
    {
     "data": {
      "text/plain": [
       "27908"
      ]
     },
     "execution_count": 20,
     "metadata": {},
     "output_type": "execute_result"
    }
   ],
   "source": [
    "len(pgvs)"
   ]
  },
  {
   "cell_type": "code",
   "execution_count": 21,
   "metadata": {},
   "outputs": [
    {
     "name": "stdout",
     "output_type": "stream",
     "text": [
      "CPU times: user 22.9 s, sys: 81.4 ms, total: 23 s\n",
      "Wall time: 6min 39s\n"
     ]
    },
    {
     "data": {
      "text/plain": [
       "{'cluster': 0,\n",
       " 'members': ['徐維宏',\n",
       "  '邱紹齊',\n",
       "  '魏恒巍',\n",
       "  '茂元國際(股)-羅任芬',\n",
       "  '李安宗',\n",
       "  '李建裕',\n",
       "  '羅任芬',\n",
       "  '葉明球',\n",
       "  '韓千山',\n",
       "  '黃大中',\n",
       "  '瓏德國際事業股份-黃大中',\n",
       "  '林信鴻',\n",
       "  '鍾亮宏']}"
      ]
     },
     "execution_count": 21,
     "metadata": {},
     "output_type": "execute_result"
    }
   ],
   "source": [
    "%%time\n",
    "# 使用各檔股票來做董事的community detection\n",
    "# 看看是否有哪些董事是同一群的\n",
    "# 也就是共同都是某些股票的董事/大股東\n",
    "# 理論上只有少數人身兼多家公司董事/大股東\n",
    "\n",
    "\n",
    "clusters = IGraph.community_walktrap(ig, steps=2).as_clustering()\n",
    "\n",
    "nodes = [{\"name\": node[\"name\"]} for node in ig.vs]\n",
    "for node in nodes:\n",
    "    idx = ig.vs.find(name=node[\"name\"]).index\n",
    "    node[\"community\"] = clusters.membership[idx]\n",
    "\n",
    "write_clusters_query = '''\n",
    "UNWIND $nodes AS n\n",
    "MATCH (p:Person) WHERE p.name = n.name\n",
    "SET p.community = toInteger(n.community)\n",
    "'''\n",
    "\n",
    "graph.run(write_clusters_query, nodes=nodes)\n",
    "\n",
    "query = '''\n",
    "MATCH (p:Person)\n",
    "WITH p.community AS cluster, collect(p.name) AS members\n",
    "WHERE cluster<>'none'\n",
    "RETURN cluster, members ORDER BY cluster ASC\n",
    "'''\n",
    "\n",
    "graph.run(query).data()[0]"
   ]
  },
  {
   "cell_type": "code",
   "execution_count": 22,
   "metadata": {},
   "outputs": [
    {
     "data": {
      "text/plain": [
       "906"
      ]
     },
     "execution_count": 22,
     "metadata": {},
     "output_type": "execute_result"
    }
   ],
   "source": [
    "person_clusters = graph.run(query).data()\n",
    "len(person_clusters)"
   ]
  },
  {
   "cell_type": "code",
   "execution_count": 23,
   "metadata": {},
   "outputs": [],
   "source": [
    "write_stock_weight_query = '''\n",
    "MATCH (p:Person)-[r:employ_of]->(s:Stock)\n",
    "RETURN p.name as person_name, r.stock_num as stock_num, s.name as stock_name\n",
    "'''\n",
    "\n",
    "data = graph.run(write_stock_weight_query).data()\n"
   ]
  },
  {
   "cell_type": "code",
   "execution_count": 29,
   "metadata": {},
   "outputs": [],
   "source": [
    "stock_query = '''\n",
    "MATCH (p:Person)-[r:employ_of]->(s:Stock)\n",
    "RETURN DISTINCT s.name as stock_name\n",
    "'''\n",
    "from collections import defaultdict\n",
    "\n",
    "total_stock_nums = defaultdict(int)\n",
    "stock_name = graph.run(stock_query).data()\n",
    "for person in data:\n",
    "    total_stock_nums[person['stock_name']] += person['stock_num']\n",
    "for person in data:\n",
    "    try:\n",
    "        person['stock_ratio'] = person['stock_num']/total_stock_nums[person['stock_name']]\n",
    "    except ZeroDivisionError:\n",
    "        person['stock_ratio'] = 0\n"
   ]
  },
  {
   "cell_type": "code",
   "execution_count": 30,
   "metadata": {},
   "outputs": [
    {
     "data": {
      "text/plain": [
       "68287"
      ]
     },
     "execution_count": 30,
     "metadata": {},
     "output_type": "execute_result"
    }
   ],
   "source": [
    "total_stock_nums[person['stock_name']]"
   ]
  },
  {
   "cell_type": "code",
   "execution_count": 31,
   "metadata": {},
   "outputs": [
    {
     "data": {
      "text/plain": [
       "1737191"
      ]
     },
     "execution_count": 31,
     "metadata": {},
     "output_type": "execute_result"
    }
   ],
   "source": [
    "total_stock_nums['台積電']  "
   ]
  },
  {
   "cell_type": "code",
   "execution_count": 32,
   "metadata": {},
   "outputs": [
    {
     "name": "stdout",
     "output_type": "stream",
     "text": [
      "CPU times: user 256 ms, sys: 4.04 ms, total: 260 ms\n",
      "Wall time: 4min 48s\n"
     ]
    },
    {
     "data": {
      "text/plain": [
       "[]"
      ]
     },
     "execution_count": 32,
     "metadata": {},
     "output_type": "execute_result"
    }
   ],
   "source": [
    "%%time\n",
    "## Person和Stock關聯employ_of線的粗細，用股東總持股當分母，董事持股數當分子\n",
    "\n",
    "write_stock_weight_query = '''\n",
    "UNWIND $nodes AS n\n",
    "MATCH (p:Person)-[r:employ_of]->(s:Stock)\n",
    "WHERE p.name = n.person_name AND s.name = n.stock_name\n",
    "SET r.stock_ratio = n.stock_ratio\n",
    "'''\n",
    "graph.run(write_stock_weight_query, nodes=data).data()"
   ]
  },
  {
   "cell_type": "code",
   "execution_count": 33,
   "metadata": {},
   "outputs": [
    {
     "data": {
      "text/plain": [
       "[(Node('Person', community=75, name='葉如穎', pagerank=1.9142063890838076e-05, person_id='2d61aba76f61235a4f3bdcd80383f0e5'),\n",
       "  employ_of(Node('Person', community=75, name='葉如穎', pagerank=1.9142063890838076e-05, person_id='2d61aba76f61235a4f3bdcd80383f0e5'), Node('Stock', code='3073', market='上櫃', name='凱柏實業', stock_id='3073'), jobs='財務主管', stock_num=0, stock_ratio=0.0),\n",
       "  Node('Stock', code='3073', market='上櫃', name='凱柏實業', stock_id='3073')),\n",
       " (Node('Person', community=75, name='朱乃文', pagerank=1.9142063890838076e-05, person_id='3486f8db30e753af18d157b1e76f76cc'),\n",
       "  employ_of(Node('Person', community=75, name='朱乃文', pagerank=1.9142063890838076e-05, person_id='3486f8db30e753af18d157b1e76f76cc'), Node('Stock', code='3073', market='上櫃', name='凱柏實業', stock_id='3073'), jobs='副理', stock_num=0, stock_ratio=0.0),\n",
       "  Node('Stock', code='3073', market='上櫃', name='凱柏實業', stock_id='3073')),\n",
       " (Node('Person', community=75, name='黃小玲', pagerank=1.9142063890838076e-05, person_id='f419adeadbee0bed49bd1cca8c869cd9'),\n",
       "  employ_of(Node('Person', community=75, name='黃小玲', pagerank=1.9142063890838076e-05, person_id='f419adeadbee0bed49bd1cca8c869cd9'), Node('Stock', code='3073', market='上櫃', name='凱柏實業', stock_id='3073'), jobs='會計主管', stock_num=2, stock_ratio=0.0002830055186076129),\n",
       "  Node('Stock', code='3073', market='上櫃', name='凱柏實業', stock_id='3073')),\n",
       " (Node('Person', community=75, name='徐韋吉', pagerank=1.9142063890838076e-05, person_id='22378c625c2c2bb3ef3780df0306a9bb'),\n",
       "  employ_of(Node('Person', community=75, name='徐韋吉', pagerank=1.9142063890838076e-05, person_id='22378c625c2c2bb3ef3780df0306a9bb'), Node('Stock', code='3073', market='上櫃', name='凱柏實業', stock_id='3073'), jobs='經理', stock_num=0, stock_ratio=0.0),\n",
       "  Node('Stock', code='3073', market='上櫃', name='凱柏實業', stock_id='3073')),\n",
       " (Node('Person', community=75, name='李坤霖', pagerank=3.2417254336672604e-05, person_id='4675fb16be77cc1fd049d0e834b9bfe2'),\n",
       "  employ_of(Node('Person', community=75, name='李坤霖', pagerank=3.2417254336672604e-05, person_id='4675fb16be77cc1fd049d0e834b9bfe2'), Node('Stock', code='3073', market='上櫃', name='凱柏實業', stock_id='3073'), jobs='董事', stock_num=0, stock_ratio=0.0),\n",
       "  Node('Stock', code='3073', market='上櫃', name='凱柏實業', stock_id='3073'))]"
      ]
     },
     "execution_count": 33,
     "metadata": {},
     "output_type": "execute_result"
    }
   ],
   "source": [
    "# 畫出半導體業的股票與董事之間的關係，限制1000個entity\n",
    "query = '''\n",
    "MATCH (s:Stock)-[:industry_of]->(Industry{name:'半導體業'})\n",
    "WITH s\n",
    "MATCH (p:Person)-[r:employ_of]->(s) \n",
    "RETURN * LIMIT 1000\n",
    "'''\n",
    "graph.run(query).to_table()[:5]"
   ]
  },
  {
   "cell_type": "code",
   "execution_count": null,
   "metadata": {},
   "outputs": [],
   "source": []
  }
 ],
 "metadata": {
  "kernelspec": {
   "display_name": "Python 3.8.2 64-bit ('py38')",
   "metadata": {
    "interpreter": {
     "hash": "c90655714ffb9d69d923b994a9a952fe34a64a031cf84cba975d9030ad2b344f"
    }
   },
   "name": "python3"
  },
  "language_info": {
   "codemirror_mode": {
    "name": "ipython",
    "version": 3
   },
   "file_extension": ".py",
   "mimetype": "text/x-python",
   "name": "python",
   "nbconvert_exporter": "python",
   "pygments_lexer": "ipython3",
   "version": "3.8.2"
  },
  "orig_nbformat": 2
 },
 "nbformat": 4,
 "nbformat_minor": 2
}
