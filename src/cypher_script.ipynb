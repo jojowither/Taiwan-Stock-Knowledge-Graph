{
 "metadata": {
  "language_info": {
   "codemirror_mode": {
    "name": "ipython",
    "version": 3
   },
   "file_extension": ".py",
   "mimetype": "text/x-python",
   "name": "python",
   "nbconvert_exporter": "python",
   "pygments_lexer": "ipython3",
   "version": "3.8.2-final"
  },
  "orig_nbformat": 2,
  "kernelspec": {
   "name": "python3",
   "display_name": "Python 3.8.2 64-bit ('py38')",
   "metadata": {
    "interpreter": {
     "hash": "c90655714ffb9d69d923b994a9a952fe34a64a031cf84cba975d9030ad2b344f"
    }
   }
  }
 },
 "nbformat": 4,
 "nbformat_minor": 2,
 "cells": [
  {
   "cell_type": "code",
   "execution_count": 1,
   "metadata": {},
   "outputs": [],
   "source": [
    "from py2neo import Graph\n",
    "from igraph import Graph as IGraph\n",
    "from pprint import pprint"
   ]
  },
  {
   "cell_type": "code",
   "execution_count": 2,
   "metadata": {},
   "outputs": [],
   "source": [
    "graph = Graph('bolt://127.0.0.1:7687', password='jojo')"
   ]
  },
  {
   "cell_type": "code",
   "execution_count": 3,
   "metadata": {},
   "outputs": [
    {
     "output_type": "execute_result",
     "data": {
      "text/plain": [
       "[{'m': Node('Stock', code='2330', market='上市', name='台積電', stock_id='2330')}]"
      ]
     },
     "metadata": {},
     "execution_count": 3
    }
   ],
   "source": [
    "# 查詢台GG\n",
    "query = '''\n",
    "match (m:Stock{code:'2330'}) return m\n",
    "'''\n",
    "graph.run(query).data()"
   ]
  },
  {
   "cell_type": "code",
   "execution_count": 4,
   "metadata": {},
   "outputs": [
    {
     "output_type": "execute_result",
     "data": {
      "text/plain": [
       " count(distinct(n)) \n",
       "--------------------\n",
       "                123 "
      ]
     },
     "metadata": {},
     "execution_count": 4
    }
   ],
   "source": [
    "# Concept(概念股)種類的總數\n",
    "query = '''\n",
    "match (n:Concept) return count(distinct(n))\n",
    "'''\n",
    "\n",
    "graph.run(query)"
   ]
  },
  {
   "cell_type": "code",
   "execution_count": 5,
   "metadata": {},
   "outputs": [
    {
     "output_type": "execute_result",
     "data": {
      "text/plain": [
       "[{'n': Node('Person', name='林錦坤', person_id='ee0bfbd63337a74c1c9353f2f5cff5d3'),\n",
       "  'count(distinct(n))': 1},\n",
       " {'n': Node('Person', name='余振華', person_id='2dc7f8de9ca02c34a3e90b0565b4559a'),\n",
       "  'count(distinct(n))': 1}]"
      ]
     },
     "metadata": {},
     "execution_count": 5
    }
   ],
   "source": [
    "# GG有多少副總在其他公司也是董監事經理人或大股東\n",
    "query = '''\n",
    "MATCH (m:Stock{code:'2330'})<-[:employ_of{jobs:'副總'}]-(n:Person)-[:employ_of]->(q:Stock)\n",
    "RETURN n, count(distinct(n))\n",
    "'''\n",
    "\n",
    "graph.run(query).data()"
   ]
  },
  {
   "cell_type": "code",
   "execution_count": 6,
   "metadata": {},
   "outputs": [
    {
     "output_type": "stream",
     "name": "stdout",
     "text": [
      "[igraph.Vertex(<igraph.Graph object at 0x10f2d9b80>, 0, {'name': Node('Person', name='摩西．蓋弗瑞', person_id='f7e8a7073af3c121a18aba032a2b1a04')}),\n igraph.Vertex(<igraph.Graph object at 0x10f2d9b80>, 1, {'name': 1}),\n igraph.Vertex(<igraph.Graph object at 0x10f2d9b80>, 2, {'name': Node('Person', name='麥克。史賓林', person_id='427f0333d16f224bedea4570e6cd9410')}),\n igraph.Vertex(<igraph.Graph object at 0x10f2d9b80>, 3, {'name': Node('Person', name='陳國慈', person_id='94417b1d3d9bec10492592510c3e3e40')}),\n igraph.Vertex(<igraph.Graph object at 0x10f2d9b80>, 4, {'name': Node('Person', name='施振榮', person_id='33400d8a8fda6a599ca2d92166089417')}),\n igraph.Vertex(<igraph.Graph object at 0x10f2d9b80>, 5, {'name': Node('Person', name='海英俊', person_id='6bcaa268b1b2ad70fc7a641edd421528')}),\n igraph.Vertex(<igraph.Graph object at 0x10f2d9b80>, 6, {'name': Node('Person', name='彼得.邦菲', person_id='f58593da0c0f6602ef06cbcd6195f986')})]\n"
     ]
    }
   ],
   "source": [
    "# GG有多少獨立董事\n",
    "query = '''\n",
    "MATCH (m:Stock{name:'台積電'})<-[:employ_of{jobs:'獨立董事'}]-(n:Person)\n",
    "RETURN n, count(distinct(n))\n",
    "'''\n",
    "ig = IGraph.TupleList(graph.run(query), weights=True)\n",
    "pprint([v for v in ig.vs])\n"
   ]
  },
  {
   "cell_type": "code",
   "execution_count": 7,
   "metadata": {},
   "outputs": [
    {
     "output_type": "execute_result",
     "data": {
      "text/plain": [
       "[{'m': Node('Stock', code='6414', market='上市', name='樺漢', stock_id='6414'),\n",
       "  'count(distinct(m))': 1},\n",
       " {'m': Node('Stock', code='6166', market='上市', name='凌華', stock_id='6166'),\n",
       "  'count(distinct(m))': 1},\n",
       " {'m': Node('Stock', code='3231', market='上市', name='緯創', stock_id='3231'),\n",
       "  'count(distinct(m))': 1},\n",
       " {'m': Node('Stock', code='2395', market='上市', name='研華', stock_id='2395'),\n",
       "  'count(distinct(m))': 1},\n",
       " {'m': Node('Stock', code='2382', market='上市', name='廣達', stock_id='2382'),\n",
       "  'count(distinct(m))': 1},\n",
       " {'m': Node('Stock', code='2377', market='上市', name='微星', stock_id='2377'),\n",
       "  'count(distinct(m))': 1},\n",
       " {'m': Node('Stock', code='2357', market='上市', name='華碩', stock_id='2357'),\n",
       "  'count(distinct(m))': 1},\n",
       " {'m': Node('Stock', code='2356', market='上市', name='英業達', stock_id='2356'),\n",
       "  'count(distinct(m))': 1},\n",
       " {'m': Node('Stock', code='2353', market='上市', name='宏碁', stock_id='2353'),\n",
       "  'count(distinct(m))': 1}]"
      ]
     },
     "metadata": {},
     "execution_count": 7
    }
   ],
   "source": [
    "# 有多少'電腦及週邊設備業'也是'AI概念股'\n",
    "query = '''\n",
    "MATCH (:Concept{name:'AI人工智慧'})<-[:concept_of]-(m:Stock)-[:industry_of]->(:Industry{name:'電腦及週邊設備業'})\n",
    "RETURN m, count(distinct(m))\n",
    "'''\n",
    "graph.run(query).data()"
   ]
  },
  {
   "cell_type": "code",
   "execution_count": 8,
   "metadata": {},
   "outputs": [
    {
     "output_type": "execute_result",
     "data": {
      "text/plain": [
       "[{'p1': Node('Person', name='劉平貴', person_id='9b56a43be3f126da334b781d63da53bb'),\n",
       "  'count(distinct(p1))': 1},\n",
       " {'p1': Node('Person', name='詹鵬弘', person_id='124bc059485cb56ce5d3067dc03a6e6f'),\n",
       "  'count(distinct(p1))': 1},\n",
       " {'p1': Node('Person', name='溫志偉', person_id='e706756e2d1a336602b2e891279af81e'),\n",
       "  'count(distinct(p1))': 1},\n",
       " {'p1': Node('Person', name='陳禧冠', person_id='08881ed4de0d4e8a9f92584f1db92f1e'),\n",
       "  'count(distinct(p1))': 1},\n",
       " {'p1': Node('Person', name='譚仲興', person_id='3cc7b5fa5551f097f639929c06732ccf'),\n",
       "  'count(distinct(p1))': 1},\n",
       " {'p1': Node('Person', name='魏秋瑞', person_id='d89eb6aa1f27216e95679b70773f69df'),\n",
       "  'count(distinct(p1))': 1},\n",
       " {'p1': Node('Person', name='許振昌', person_id='c08d88765a2de2363e4ef38802071926'),\n",
       "  'count(distinct(p1))': 1},\n",
       " {'p1': Node('Person', name='張永南', person_id='8741d5d4928130058cf0cc1e08c70fc7'),\n",
       "  'count(distinct(p1))': 1},\n",
       " {'p1': Node('Person', name='徐睿鈞', person_id='54f137598102a1e321082564ba280b85'),\n",
       "  'count(distinct(p1))': 1},\n",
       " {'p1': Node('Person', name='丁長捷', person_id='0ff517a84f9f9804684e892db01acc5f'),\n",
       "  'count(distinct(p1))': 1}]"
      ]
     },
     "metadata": {},
     "execution_count": 8
    }
   ],
   "source": [
    "# 列出仁寶所有零持股的副總\n",
    "query = '''\n",
    "MATCH (:Stock{name:'仁寶'})<-[:employ_of{jobs:'副總', stock_num:0}]-(p1:Person)\n",
    "RETURN p1, count(distinct(p1))\n",
    "'''\n",
    "graph.run(query).data()"
   ]
  },
  {
   "cell_type": "code",
   "execution_count": 9,
   "metadata": {},
   "outputs": [
    {
     "output_type": "execute_result",
     "data": {
      "text/plain": [
       "[{'min': 0, 'max': 7487, 'avg_characters': 594.4, 'stdev': 1347.043586351018}]"
      ]
     },
     "metadata": {},
     "execution_count": 9
    }
   ],
   "source": [
    "# 列出仁寶副總所有持股的統計\n",
    "query = '''\n",
    "MATCH (:Stock{name:'仁寶'})<-[emp:employ_of{jobs:'副總'}]-(p1:Person)\n",
    "WITH emp.stock_num AS num\n",
    "RETURN min(num) AS min, max(num) AS max, avg(num) AS avg_characters, stdev(num) AS stdev\n",
    "'''\n",
    "graph.run(query).data()"
   ]
  },
  {
   "cell_type": "code",
   "execution_count": 10,
   "metadata": {},
   "outputs": [
    {
     "output_type": "execute_result",
     "data": {
      "text/plain": [
       "              ratio \n",
       "--------------------\n",
       " 0.2857142857142857 "
      ]
     },
     "metadata": {},
     "execution_count": 10
    }
   ],
   "source": [
    "# 仁寶副總有多少比例零持股\n",
    "query = '''\n",
    "MATCH (:Stock{name:'仁寶'})<-[:employ_of{jobs:'副總', stock_num:0}]-(p1:Person)\n",
    "MATCH (:Stock{name:'仁寶'})<-[:employ_of{jobs:'副總'}]-(p2:Person)\n",
    "RETURN count(distinct(p1))*1.0/ count(distinct(p2)) as ratio\n",
    "'''\n",
    "graph.run(query)\n"
   ]
  },
  {
   "cell_type": "code",
   "execution_count": 11,
   "metadata": {},
   "outputs": [
    {
     "output_type": "execute_result",
     "data": {
      "text/plain": [
       "              ratio \n",
       "--------------------\n",
       " 0.8857142857142857 "
      ]
     },
     "metadata": {},
     "execution_count": 11
    }
   ],
   "source": [
    "# 仁寶副總有多少比例持股小於1000\n",
    "query = '''\n",
    "MATCH (:Stock{name:'仁寶'})<-[emp:employ_of{jobs:'副總'}]-(p1:Person)\n",
    "MATCH (:Stock{name:'仁寶'})<-[:employ_of{jobs:'副總'}]-(p2:Person)\n",
    "WHERE emp.stock_num < 1000\n",
    "RETURN count(distinct(p1))*1.0/ count(distinct(p2)) as ratio\n",
    "'''\n",
    "graph.run(query)\n"
   ]
  },
  {
   "cell_type": "code",
   "execution_count": 12,
   "metadata": {},
   "outputs": [
    {
     "output_type": "execute_result",
     "data": {
      "text/plain": [
       " bs                                        | d                                                                                    | s                                                                                                   \n",
       "-------------------------------------------|--------------------------------------------------------------------------------------|-----------------------------------------------------------------------------------------------------\n",
       " (美林)-[:buy_or_sell {amount: 9000}]->(特力)  | (_4400:Dealer {dealer_id: '1b1a8637036ae1e6a4f01618527e6914', name: '\\u7f8e\\u6797'}) | (_14944:Stock {code: '2908', market: '\\u4e0a\\u5e02', name: '\\u7279\\u529b', stock_id: '2908'})       \n",
       " (美林)-[:buy_or_sell {amount: 1146}]->(第一金) | (_4400:Dealer {dealer_id: '1b1a8637036ae1e6a4f01618527e6914', name: '\\u7f8e\\u6797'}) | (_14937:Stock {code: '2892', market: '\\u4e0a\\u5e02', name: '\\u7b2c\\u4e00\\u91d1', stock_id: '2892'}) \n",
       " (美林)-[:buy_or_sell {amount: 1314}]->(永豐金) | (_4400:Dealer {dealer_id: '1b1a8637036ae1e6a4f01618527e6914', name: '\\u7f8e\\u6797'}) | (_14935:Stock {code: '2890', market: '\\u4e0a\\u5e02', name: '\\u6c38\\u8c50\\u91d1', stock_id: '2890'}) "
      ]
     },
     "metadata": {},
     "execution_count": 12
    }
   ],
   "source": [
    "# 隔日沖券商 美林 買超張數超過1000張的股票\n",
    "query = '''\n",
    "MATCH (d:Dealer{name:'美林'})-[bs:buy_or_sell]->(s:Stock)\n",
    "WHERE bs.amount>1000\n",
    "RETURN *\n",
    "'''\n",
    "graph.run(query)"
   ]
  },
  {
   "cell_type": "code",
   "execution_count": 13,
   "metadata": {},
   "outputs": [
    {
     "output_type": "execute_result",
     "data": {
      "text/plain": [
       "[{'concept': ['車用電子相關']},\n",
       " {'concept': ['iTV']},\n",
       " {'concept': ['5G']},\n",
       " {'concept': ['AI人工智慧']},\n",
       " {'concept': ['4G LTE']},\n",
       " {'concept': ['3D感測']},\n",
       " {'concept': ['車聯網']},\n",
       " {'concept': ['3D技術']},\n",
       " {'concept': ['華為']},\n",
       " {'concept': ['網通']},\n",
       " {'concept': ['APPLE概念']},\n",
       " {'concept': ['手機']},\n",
       " {'concept': ['山寨機']}]"
      ]
     },
     "metadata": {},
     "execution_count": 13
    }
   ],
   "source": [
    "# GG跟發哥在概念股上的最短路徑\n",
    "query = '''\n",
    "MATCH (a:Stock {code:'2330'}), (b:Stock {code:'2454'})\n",
    "MATCH p=allShortestPaths((a)-[:concept_of*]-(b))\n",
    "WITH [node IN nodes(p) where node:Concept | node.name] AS concept\n",
    "RETURN concept \n",
    "'''\n",
    "graph.run(query).data()"
   ]
  },
  {
   "cell_type": "code",
   "execution_count": 14,
   "metadata": {},
   "outputs": [
    {
     "output_type": "execute_result",
     "data": {
      "text/plain": [
       "[{'stock': '彰銀', 'degree': 270},\n",
       " {'stock': '臺企銀', 'degree': 228},\n",
       " {'stock': '安泰銀', 'degree': 192},\n",
       " {'stock': '開發金', 'degree': 182},\n",
       " {'stock': '聯邦銀', 'degree': 181},\n",
       " {'stock': '遠東銀', 'degree': 180},\n",
       " {'stock': '凌群', 'degree': 173},\n",
       " {'stock': '上海商銀', 'degree': 166},\n",
       " {'stock': '台中銀', 'degree': 165},\n",
       " {'stock': '中華電', 'degree': 164}]"
      ]
     },
     "metadata": {},
     "execution_count": 14
    }
   ],
   "source": [
    "# 查詢含有最多degree(不考慮方向以及關聯類別)的前10個Stock\n",
    "# 彰銀主要靠董事成員夠多\n",
    "query = '''\n",
    "MATCH (s:Stock)\n",
    "RETURN s.name AS stock, size( (s)-[]-() ) AS degree \n",
    "ORDER BY degree DESC LIMIT 10\n",
    "'''\n",
    "\n",
    "graph.run(query).data()"
   ]
  },
  {
   "cell_type": "code",
   "execution_count": 15,
   "metadata": {},
   "outputs": [
    {
     "output_type": "execute_result",
     "data": {
      "text/plain": [
       "[{'person': '大通先進星光', 'degree': 194},\n",
       " {'person': '富邦人壽保險(股)', 'degree': 193},\n",
       " {'person': '花旗託管挪威', 'degree': 158},\n",
       " {'person': '國泰人壽保險(股)', 'degree': 103},\n",
       " {'person': '摩根梵市場股', 'degree': 88},\n",
       " {'person': '勞工局全權', 'degree': 85},\n",
       " {'person': '南山人壽保險(股)', 'degree': 50},\n",
       " {'person': '匯豐摩根士丹', 'degree': 47},\n",
       " {'person': '台灣人壽保險(股)', 'degree': 47},\n",
       " {'person': '全球人壽保險(股)', 'degree': 37},\n",
       " {'person': '花旗台DFA 核', 'degree': 36},\n",
       " {'person': '花旗次元新興', 'degree': 34},\n",
       " {'person': '公務人員退休', 'degree': 29},\n",
       " {'person': '三商美邦人壽(股)', 'degree': 28},\n",
       " {'person': '花旗(台灣)託', 'degree': 26},\n",
       " {'person': '舊制勞工退休', 'degree': 26},\n",
       " {'person': '中華郵政(股)', 'degree': 24},\n",
       " {'person': '新制勞工退休', 'degree': 23},\n",
       " {'person': '美商摩根-004', 'degree': 22},\n",
       " {'person': '中國信託商業', 'degree': 21},\n",
       " {'person': '新光人壽保險(股)', 'degree': 21},\n",
       " {'person': '兆豐國際商業(股)', 'degree': 19},\n",
       " {'person': '花旗台新加坡', 'degree': 18},\n",
       " {'person': '中國人壽保險(股)', 'degree': 18},\n",
       " {'person': '渣打託管列支', 'degree': 17},\n",
       " {'person': '花旗政府(星)', 'degree': 17},\n",
       " {'person': '大通託管梵加', 'degree': 16},\n",
       " {'person': '摩根託管梵加', 'degree': 16},\n",
       " {'person': '群益金鼎證券', 'degree': 15},\n",
       " {'person': '渣打國際商業', 'degree': 15},\n",
       " {'person': '元大台灣高股', 'degree': 14},\n",
       " {'person': '渣打瑞信文藝', 'degree': 14},\n",
       " {'person': '涂水城', 'degree': 14},\n",
       " {'person': '遠雄人壽保險(股)', 'degree': 13},\n",
       " {'person': '渣打託管歐洲', 'degree': 12}]"
      ]
     },
     "metadata": {},
     "execution_count": 15
    }
   ],
   "source": [
    "# 查詢跟最多股票有關係的前35位董事\n",
    "# 涂水城是大股東\n",
    "query = '''\n",
    "MATCH (p:Person)\n",
    "RETURN p.name AS person, size( (p)-[]-(:Stock) ) AS degree \n",
    "ORDER BY degree DESC LIMIT 35\n",
    "'''\n",
    "\n",
    "graph.run(query).data()"
   ]
  },
  {
   "cell_type": "code",
   "execution_count": 16,
   "metadata": {},
   "outputs": [
    {
     "output_type": "execute_result",
     "data": {
      "text/plain": [
       "[{'person': '富邦人壽保險(股)', 'stockNum': 6021145},\n",
       " {'person': '花旗台積存託', 'stockNum': 5325610},\n",
       " {'person': '大通先進星光', 'stockNum': 5174727},\n",
       " {'person': '經濟部(股)-劉明忠', 'stockNum': 3486011},\n",
       " {'person': '財政部-江瑞堂', 'stockNum': 3475465},\n",
       " {'person': '財政部-許國郎', 'stockNum': 3475465},\n",
       " {'person': '財政部-陳美足', 'stockNum': 3475465},\n",
       " {'person': '財政部-雷仲達', 'stockNum': 3475465},\n",
       " {'person': '財政部-施遵驊', 'stockNum': 3475465},\n",
       " {'person': '財政部-李新仁', 'stockNum': 3475465},\n",
       " {'person': '勞工局全權', 'stockNum': 3421359},\n",
       " {'person': '台灣化學纖維(股)-王文淵', 'stockNum': 3417801},\n",
       " {'person': '花旗託管挪威', 'stockNum': 3375861},\n",
       " {'person': '長庚醫療財團', 'stockNum': 3257043},\n",
       " {'person': '經濟部(股)-曾文生', 'stockNum': 3154709},\n",
       " {'person': '經濟部(股)-翁朝棟', 'stockNum': 3154709},\n",
       " {'person': '國泰人壽保險(股)', 'stockNum': 2872015},\n",
       " {'person': '交通部-張信一', 'stockNum': 2737719},\n",
       " {'person': '交通部-蕭宏宜', 'stockNum': 2737719},\n",
       " {'person': '交通部-黃玉霖', 'stockNum': 2737719},\n",
       " {'person': '交通部-謝繼茂', 'stockNum': 2737719},\n",
       " {'person': '交通部-郭水義', 'stockNum': 2737719},\n",
       " {'person': '交通部-李連權', 'stockNum': 2737719},\n",
       " {'person': '交通部-潘進財', 'stockNum': 2737719},\n",
       " {'person': '交通部-陳信宏', 'stockNum': 2737719},\n",
       " {'person': '臺灣銀行(股)-王昭文', 'stockNum': 2729230},\n",
       " {'person': '臺灣銀行(股)-王安邦', 'stockNum': 2729230},\n",
       " {'person': '臺灣銀行(股)-蔡偉德', 'stockNum': 2729230},\n",
       " {'person': '臺灣銀行(股)-顏佑銘', 'stockNum': 2729230},\n",
       " {'person': '臺灣銀行(股)-鄭士卿', 'stockNum': 2729230},\n",
       " {'person': '臺灣銀行(股)-陳和全', 'stockNum': 2729230},\n",
       " {'person': '台灣塑膠工業(股)-王瑞華', 'stockNum': 2720549},\n",
       " {'person': '台灣塑膠工業(股)-陳寶郎', 'stockNum': 2720549},\n",
       " {'person': '花旗台新加坡', 'stockNum': 2603725},\n",
       " {'person': '萬寶開發(股)', 'stockNum': 2574832}]"
      ]
     },
     "metadata": {},
     "execution_count": 16
    }
   ],
   "source": [
    "# 查詢總持股前35最多的董事\n",
    "query = '''\n",
    "MATCH (p:Person)-[r:employ_of]-(:Stock)\n",
    "RETURN p.name AS person, sum(r.stock_num) as stockNum\n",
    "ORDER BY stockNum DESC LIMIT 35\n",
    "'''\n",
    "\n",
    "graph.run(query).data()"
   ]
  },
  {
   "cell_type": "code",
   "execution_count": 17,
   "metadata": {},
   "outputs": [
    {
     "output_type": "stream",
     "name": "stdout",
     "text": [
      "CPU times: user 797 ms, sys: 10.6 ms, total: 808 ms\nWall time: 15 s\n"
     ]
    },
    {
     "output_type": "execute_result",
     "data": {
      "text/plain": [
       "[{'name': '鴻海', 'pagerank': 0.0045964934531273335},\n",
       " {'name': '台達電', 'pagerank': 0.004310181320021675},\n",
       " {'name': '三星', 'pagerank': 0.003483259001461227},\n",
       " {'name': '宏達電', 'pagerank': 0.003446341125224638},\n",
       " {'name': '台積電', 'pagerank': 0.0027551025841649575},\n",
       " {'name': '瑞昱', 'pagerank': 0.0025400787658382616},\n",
       " {'name': '聯發科', 'pagerank': 0.002481455936974289},\n",
       " {'name': '正崴', 'pagerank': 0.0023928584477215862},\n",
       " {'name': '大立光', 'pagerank': 0.0022379246476795377},\n",
       " {'name': '鴻準', 'pagerank': 0.002173595166571676},\n",
       " {'name': '日月光投控', 'pagerank': 0.002148131312296115},\n",
       " {'name': '廣達', 'pagerank': 0.0020281190833126},\n",
       " {'name': '原相', 'pagerank': 0.001971843639240618},\n",
       " {'name': '仁寶', 'pagerank': 0.0019641993070372674},\n",
       " {'name': '華碩', 'pagerank': 0.0019591473665051926},\n",
       " {'name': '群創', 'pagerank': 0.0019250705015212903},\n",
       " {'name': '緯創', 'pagerank': 0.0018983248139954655},\n",
       " {'name': 'TPK-KY', 'pagerank': 0.0018568000367802826},\n",
       " {'name': '東元', 'pagerank': 0.0018564483536960906},\n",
       " {'name': '偉詮電', 'pagerank': 0.001834549862129348}]"
      ]
     },
     "metadata": {},
     "execution_count": 17
    }
   ],
   "source": [
    "%%time\n",
    "# PageRank: The size of each node is proportional to the number and size of the other nodes pointing to it in the network. \n",
    "# 使用pagerank篩選在所有概念股類別當中，參與這些概念股前20多的股票\n",
    "query = '''\n",
    "MATCH (s:Stock)-[r:concept_of]->(c:Concept)\n",
    "RETURN s.name, c.name\n",
    "'''\n",
    "ig = IGraph.TupleList(graph.run(query), weights=True)\n",
    "\n",
    "pg = ig.pagerank()\n",
    "pgvs = []\n",
    "for p in zip(ig.vs, pg):\n",
    "    pgvs.append({\"name\": p[0][\"name\"], \"pg\": p[1]})\n",
    "\n",
    "write_clusters_query = '''\n",
    "UNWIND $nodes AS n\n",
    "MATCH (s:Stock) WHERE s.name = n.name\n",
    "SET s.pagerank = n.pg\n",
    "'''\n",
    "graph.run(write_clusters_query, nodes=pgvs)\n",
    "\n",
    "\n",
    "query = '''\n",
    "MATCH (s:Stock)--(st:StockType{name:'股票'})\n",
    "WHERE s.pagerank<>'none'\n",
    "RETURN s.name AS name, s.pagerank AS pagerank ORDER BY pagerank DESC LIMIT 20\n",
    "'''\n",
    "graph.run(query).data()"
   ]
  },
  {
   "source": [
    "%%time\n",
    "# 使用各檔股票的概念股來做各檔股票的community detection\n",
    "\n",
    "clusters = IGraph.community_walktrap(ig, steps=3).as_clustering()\n",
    "\n",
    "nodes = [{\"name\": node[\"name\"]} for node in ig.vs]\n",
    "for node in nodes:\n",
    "    idx = ig.vs.find(name=node[\"name\"]).index\n",
    "    node[\"community\"] = clusters.membership[idx]\n",
    "\n",
    "write_clusters_query = '''\n",
    "UNWIND $nodes AS n\n",
    "MATCH (s:Stock) WHERE s.name = n.name\n",
    "SET s.community = toInteger(n.community)\n",
    "'''\n",
    "\n",
    "graph.run(write_clusters_query, nodes=nodes)\n",
    "\n",
    "query = '''\n",
    "MATCH (s:Stock)\n",
    "WITH s.community AS cluster, collect(s.name) AS members\n",
    "WHERE cluster<>'none'\n",
    "RETURN cluster, members ORDER BY cluster ASC\n",
    "'''\n",
    "\n",
    "graph.run(query).data()[0]\n"
   ],
   "cell_type": "code",
   "metadata": {
    "tags": []
   },
   "execution_count": 18,
   "outputs": [
    {
     "output_type": "stream",
     "name": "stdout",
     "text": [
      "CPU times: user 62.8 ms, sys: 3.87 ms, total: 66.7 ms\nWall time: 13.9 s\n"
     ]
    },
    {
     "output_type": "execute_result",
     "data": {
      "text/plain": [
       "{'cluster': 0,\n",
       " 'members': ['捷迅',\n",
       "  '網龍',\n",
       "  '華義',\n",
       "  '艾訊',\n",
       "  '新洲',\n",
       "  '鈊象',\n",
       "  '宇峻',\n",
       "  '歐買尬',\n",
       "  '辣椒',\n",
       "  '數字',\n",
       "  '智冠',\n",
       "  '中菲行',\n",
       "  '大宇資',\n",
       "  '昱泉',\n",
       "  '橘子',\n",
       "  '網家',\n",
       "  '廣積',\n",
       "  '伍豐',\n",
       "  '友通',\n",
       "  '敦陽科',\n",
       "  '東森',\n",
       "  '台驊投控',\n",
       "  '宅配通',\n",
       "  '晶華',\n",
       "  '玉山金',\n",
       "  '永豐金',\n",
       "  '威強電',\n",
       "  '喬鼎',\n",
       "  '晟鈦',\n",
       "  '事欣科',\n",
       "  '聚碩',\n",
       "  '關貿',\n",
       "  '富邦媒']}"
      ]
     },
     "metadata": {},
     "execution_count": 18
    }
   ]
  },
  {
   "cell_type": "code",
   "execution_count": 19,
   "metadata": {},
   "outputs": [
    {
     "output_type": "stream",
     "name": "stdout",
     "text": [
      "CPU times: user 9.49 s, sys: 99.5 ms, total: 9.59 s\nWall time: 13min 45s\n"
     ]
    },
    {
     "output_type": "execute_result",
     "data": {
      "text/plain": [
       "[{'name': '富邦人壽保險(股)', 'pagerank': 0.0016337940285416409},\n",
       " {'name': '大通先進星光', 'pagerank': 0.0015896539158322487},\n",
       " {'name': '花旗託管挪威', 'pagerank': 0.001319890704584411},\n",
       " {'name': '國泰人壽保險(股)', 'pagerank': 0.0008544437127366045},\n",
       " {'name': '摩根梵市場股', 'pagerank': 0.0007249435924771437},\n",
       " {'name': '勞工局全權', 'pagerank': 0.0006965305696453782},\n",
       " {'name': '南山人壽保險(股)', 'pagerank': 0.00041250698393963673},\n",
       " {'name': '匯豐摩根士丹', 'pagerank': 0.0004069461479897839},\n",
       " {'name': '台灣人壽保險(股)', 'pagerank': 0.0003977390481770738},\n",
       " {'name': '全球人壽保險(股)', 'pagerank': 0.0003104576847542618},\n",
       " {'name': '花旗台DFA 核', 'pagerank': 0.00030774778896447305},\n",
       " {'name': '花旗次元新興', 'pagerank': 0.0002851744153518003},\n",
       " {'name': '公務人員退休', 'pagerank': 0.00023828747760839845},\n",
       " {'name': '三商美邦人壽(股)', 'pagerank': 0.00023671636148385588},\n",
       " {'name': '花旗(台灣)託', 'pagerank': 0.00021701151660540204},\n",
       " {'name': '舊制勞工退休', 'pagerank': 0.0002084911336964447},\n",
       " {'name': '中華郵政(股)', 'pagerank': 0.0002073511959648976},\n",
       " {'name': '美商摩根-004', 'pagerank': 0.00018996375019481986},\n",
       " {'name': '中國信託商業', 'pagerank': 0.0001881603139621324},\n",
       " {'name': '新光人壽保險(股)', 'pagerank': 0.00018690703238133618}]"
      ]
     },
     "metadata": {},
     "execution_count": 19
    }
   ],
   "source": [
    "%%time\n",
    "# 使用pagerank篩選在所有股票當中，參與這些股票前20多的董事\n",
    "\n",
    "query = '''\n",
    "MATCH (p:Person)-[r:employ_of]->(s:Stock)\n",
    "RETURN p.name, s.name\n",
    "'''\n",
    "ig = IGraph.TupleList(graph.run(query), weights=True)\n",
    "\n",
    "pg = ig.pagerank()\n",
    "pgvs = []\n",
    "for p in zip(ig.vs, pg):\n",
    "    pgvs.append({\"name\": p[0][\"name\"], \"pg\": p[1]})\n",
    "\n",
    "write_clusters_query = '''\n",
    "UNWIND $nodes AS n\n",
    "MATCH (p:Person) WHERE p.name = n.name\n",
    "SET p.pagerank = n.pg\n",
    "'''\n",
    "graph.run(write_clusters_query, nodes=pgvs)\n",
    "\n",
    "\n",
    "query = '''\n",
    "MATCH (p:Person)\n",
    "RETURN p.name AS name, p.pagerank AS pagerank ORDER BY pagerank DESC LIMIT 20\n",
    "'''\n",
    "graph.run(query).data()\n",
    "\n"
   ]
  },
  {
   "cell_type": "code",
   "execution_count": 20,
   "metadata": {},
   "outputs": [
    {
     "output_type": "execute_result",
     "data": {
      "text/plain": [
       "37622"
      ]
     },
     "metadata": {},
     "execution_count": 20
    }
   ],
   "source": [
    "len(pgvs)"
   ]
  },
  {
   "cell_type": "code",
   "execution_count": 21,
   "metadata": {},
   "outputs": [
    {
     "output_type": "stream",
     "name": "stdout",
     "text": [
      "CPU times: user 42.8 s, sys: 367 ms, total: 43.2 s\nWall time: 15min 5s\n"
     ]
    },
    {
     "output_type": "execute_result",
     "data": {
      "text/plain": [
       "{'cluster': 0,\n",
       " 'members': ['李志弘',\n",
       "  '昇鋒投資(股)-吳新恙',\n",
       "  '許美鳳',\n",
       "  '周佳樺',\n",
       "  '李紹利',\n",
       "  '張智傑',\n",
       "  '林柏仰',\n",
       "  '陸醒華',\n",
       "  '許逸綸',\n",
       "  '三功國際(股)-許俊麒',\n",
       "  '精聚資訊股份(股)',\n",
       "  '吳星澄',\n",
       "  '黃識頻',\n",
       "  '農安生技(股)-鄭依佳',\n",
       "  '三功國際(股)-謝國棟',\n",
       "  '邵士軒',\n",
       "  '蕭裕峰',\n",
       "  '沈子文',\n",
       "  '葉文隆',\n",
       "  '洪碩嬪',\n",
       "  '洪堯智',\n",
       "  '王恒安',\n",
       "  '黃春生',\n",
       "  '興泰實業(股)',\n",
       "  '蔣玲玉',\n",
       "  '吳美紅',\n",
       "  '官耀(木丹)',\n",
       "  '林振錦',\n",
       "  '蕭明珠',\n",
       "  '許俊麒',\n",
       "  '翁仁培',\n",
       "  '林永振',\n",
       "  '黃釋慧',\n",
       "  '劉濤',\n",
       "  '三功國際(股)-黃春生',\n",
       "  '鄧雲棟',\n",
       "  '茂生農經(股)-黃強',\n",
       "  '許忠明',\n",
       "  '許逸群',\n",
       "  '魏恒巍',\n",
       "  '張振瑤',\n",
       "  '許逸揚',\n",
       "  '黃寶慧',\n",
       "  '王金銷',\n",
       "  '李季霖',\n",
       "  '古富政',\n",
       "  '農安生技(股)',\n",
       "  '劉紹蔚',\n",
       "  '葉姿伶',\n",
       "  '三功國際(股)-林曼麗',\n",
       "  '秦慧如',\n",
       "  '美安生化科技(股)',\n",
       "  '邱旭蘭',\n",
       "  '胡聯國',\n",
       "  '李欣然',\n",
       "  '葉雪玲',\n",
       "  '黃大中',\n",
       "  '許逸德',\n",
       "  '泰山元(股)-劉韋辰',\n",
       "  '李建儀',\n",
       "  '雷惠民',\n",
       "  '許守雄',\n",
       "  '黃緹瑩',\n",
       "  '吳星和',\n",
       "  '黃強',\n",
       "  '秦國強',\n",
       "  '蘇玲慧',\n",
       "  '李安宗',\n",
       "  '群盛發(股)',\n",
       "  '澄隆投資(股)-蕭明珠',\n",
       "  '楊俊賢',\n",
       "  '昇鋒投資(股)',\n",
       "  '華紹投資(股)-洪堯昆',\n",
       "  '精誠資訊(股)',\n",
       "  '孫士明',\n",
       "  '葉信宏',\n",
       "  '安達鑫投資(股)-黃識頻',\n",
       "  '華承投資(股)',\n",
       "  '陳月裡',\n",
       "  '韓千山',\n",
       "  '沈雪香',\n",
       "  '誠信投資(股)',\n",
       "  '王盈之',\n",
       "  '基創實業(股)',\n",
       "  '鍾亮宏',\n",
       "  '葉明球',\n",
       "  '有為投資(有)-林文鵬',\n",
       "  '林曼麗',\n",
       "  '林澤鈿',\n",
       "  '陳延芬',\n",
       "  '許逸民',\n",
       "  '安鼎投資(股)-葉文隆',\n",
       "  '安答投資(股)',\n",
       "  '葉誌榮',\n",
       "  '廖致翔',\n",
       "  '謝修平',\n",
       "  '蔡稼光',\n",
       "  '謝國棟',\n",
       "  '林月廷',\n",
       "  '林芳如',\n",
       "  '史守威',\n",
       "  '公誠興業(股)',\n",
       "  '陳重瑞',\n",
       "  '安和投資控股(股)',\n",
       "  '許逸晟',\n",
       "  '三功租賃(股)',\n",
       "  '安達鑫投資(股)-葉姿伶',\n",
       "  '陳盟岳',\n",
       "  '徐卓鳳嬌',\n",
       "  '吳小圓',\n",
       "  '徐維宏',\n",
       "  '林茂盛',\n",
       "  '林添峰',\n",
       "  '張忠賀',\n",
       "  '黃啟曄',\n",
       "  '同安化工企業(股)',\n",
       "  '何睿楠',\n",
       "  '吳尚穎',\n",
       "  '安和投資控股(股)-葉文隆',\n",
       "  '洪堯昆',\n",
       "  '朱慧龍',\n",
       "  '晉昇投資(有)-許逸群',\n",
       "  '李宜荃',\n",
       "  '洪堯浩',\n",
       "  '洪堯欣',\n",
       "  '泰生海洋開發(股)-林月廷',\n",
       "  '黃秀卿',\n",
       "  '戴禎慧',\n",
       "  '朱惠芬',\n",
       "  '楊倉富',\n",
       "  '洪堯棟',\n",
       "  '慧德國際(股)-黃蘊慧',\n",
       "  '黃蘊慧',\n",
       "  '吳柏峻',\n",
       "  '大茂道原(股)',\n",
       "  '茂元國際(股)-葉明球',\n",
       "  '黃大祐',\n",
       "  '謝清雲基金會',\n",
       "  '懷德保險代理(股)-許偉平',\n",
       "  '合瑞實業(股)',\n",
       "  '吳金泉',\n",
       "  '安鼎投資(股)-吳星澄',\n",
       "  '任耀庭',\n",
       "  '杜振發',\n",
       "  '泰生海洋開發(股)-葉文隆',\n",
       "  '葉能律',\n",
       "  '陳祺炆',\n",
       "  '高俊清',\n",
       "  '安鼎投資(股)-謝幸珍',\n",
       "  '王堯風',\n",
       "  '安鼎投資(股)',\n",
       "  '三功國際(股)-王盈之',\n",
       "  '許邦福',\n",
       "  '黃文宏',\n",
       "  '謝林興業(股)',\n",
       "  '王仁志',\n",
       "  '林相妤']}"
      ]
     },
     "metadata": {},
     "execution_count": 21
    }
   ],
   "source": [
    "%%time\n",
    "# 使用各檔股票來做董事\b的community detection\n",
    "# 看看是否有哪些董事是同一群的\n",
    "# 也就是共同都是某些股票的董事/大股東\n",
    "# 理論上只有少數人身兼多家公司董事/大股東\n",
    "\n",
    "\n",
    "clusters = IGraph.community_walktrap(ig, steps=2).as_clustering()\n",
    "\n",
    "nodes = [{\"name\": node[\"name\"]} for node in ig.vs]\n",
    "for node in nodes:\n",
    "    idx = ig.vs.find(name=node[\"name\"]).index\n",
    "    node[\"community\"] = clusters.membership[idx]\n",
    "\n",
    "write_clusters_query = '''\n",
    "UNWIND $nodes AS n\n",
    "MATCH (p:Person) WHERE p.name = n.name\n",
    "SET p.community = toInteger(n.community)\n",
    "'''\n",
    "\n",
    "graph.run(write_clusters_query, nodes=nodes)\n",
    "\n",
    "query = '''\n",
    "MATCH (p:Person)\n",
    "WITH p.community AS cluster, collect(p.name) AS members\n",
    "WHERE cluster<>'none'\n",
    "RETURN cluster, members ORDER BY cluster ASC\n",
    "'''\n",
    "\n",
    "graph.run(query).data()[0]"
   ]
  },
  {
   "cell_type": "code",
   "execution_count": 22,
   "metadata": {},
   "outputs": [
    {
     "output_type": "execute_result",
     "data": {
      "text/plain": [
       "278"
      ]
     },
     "metadata": {},
     "execution_count": 22
    }
   ],
   "source": [
    "person_clusters = graph.run(query).data()\n",
    "len(person_clusters)"
   ]
  },
  {
   "cell_type": "code",
   "execution_count": 23,
   "metadata": {},
   "outputs": [],
   "source": [
    "write_stock_weight_query = '''\n",
    "MATCH (p:Person)-[r:employ_of]->(s:Stock)\n",
    "RETURN p.name as person_name, r.stock_num as stock_num, s.name as stock_name\n",
    "'''\n",
    "\n",
    "data = graph.run(write_stock_weight_query).data()\n"
   ]
  },
  {
   "cell_type": "code",
   "execution_count": 24,
   "metadata": {},
   "outputs": [],
   "source": [
    "stock_query = '''\n",
    "MATCH (p:Person)-[r:employ_of]->(s:Stock)\n",
    "RETURN DISTINCT s.name as stock_name\n",
    "'''\n",
    "from collections import defaultdict\n",
    "\n",
    "total_stock_nums = defaultdict(int)\n",
    "stock_name = graph.run(stock_query).data()\n",
    "for person in data:\n",
    "    total_stock_nums[person['stock_name']] += person['stock_num']\n",
    "for person in data:\n",
    "    person['stock_ratio'] = person['stock_num']/total_stock_nums[person['stock_name']]\n",
    "\n"
   ]
  },
  {
   "cell_type": "code",
   "execution_count": 25,
   "metadata": {},
   "outputs": [
    {
     "output_type": "execute_result",
     "data": {
      "text/plain": [
       "9692484"
      ]
     },
     "metadata": {},
     "execution_count": 25
    }
   ],
   "source": [
    "total_stock_nums['台積電']  # 9692484"
   ]
  },
  {
   "cell_type": "code",
   "execution_count": 26,
   "metadata": {},
   "outputs": [
    {
     "output_type": "stream",
     "name": "stdout",
     "text": [
      "CPU times: user 593 ms, sys: 17 ms, total: 610 ms\nWall time: 8min 38s\n"
     ]
    },
    {
     "output_type": "execute_result",
     "data": {
      "text/plain": [
       "[]"
      ]
     },
     "metadata": {},
     "execution_count": 26
    }
   ],
   "source": [
    "%%time\n",
    "## Person和Stock關聯employ_of線的粗細，用股東總持股當分母，董事持股數當分子\n",
    "\n",
    "write_stock_weight_query = '''\n",
    "UNWIND $nodes AS n\n",
    "MATCH (p:Person)-[r:employ_of]->(s:Stock)\n",
    "WHERE p.name = n.person_name AND s.name = n.stock_name\n",
    "SET r.stock_ratio = n.stock_ratio\n",
    "'''\n",
    "graph.run(write_stock_weight_query, nodes=data).data()"
   ]
  },
  {
   "cell_type": "code",
   "execution_count": 27,
   "metadata": {},
   "outputs": [
    {
     "output_type": "execute_result",
     "data": {
      "text/plain": [
       "[(Node('Person', community=4, name='林淑姿', pagerank=1.3782643398991226e-05, person_id='25801c05d79675b2f86622de08524aaa'),\n",
       "  employ_of(Node('Person', community=4, name='林淑姿', pagerank=1.3782643398991226e-05, person_id='25801c05d79675b2f86622de08524aaa'), Node('Stock', code='3073', market='上櫃', name='天方能源', stock_id='3073'), jobs='大股東', stock_num=124, stock_ratio=0.015848670756646217),\n",
       "  Node('Stock', code='3073', market='上櫃', name='天方能源', stock_id='3073')),\n",
       " (Node('Person', community=4, name='殷右印', pagerank=1.3782643398991226e-05, person_id='b26c26b5e68ec621c41e6e61c8d139ae'),\n",
       "  employ_of(Node('Person', community=4, name='殷右印', pagerank=1.3782643398991226e-05, person_id='b26c26b5e68ec621c41e6e61c8d139ae'), Node('Stock', code='3073', market='上櫃', name='天方能源', stock_id='3073'), jobs='大股東', stock_num=162, stock_ratio=0.020705521472392636),\n",
       "  Node('Stock', code='3073', market='上櫃', name='天方能源', stock_id='3073')),\n",
       " (Node('Person', community=4, name='王格琮', pagerank=1.3782643398991226e-05, person_id='27ba3f9f6cd7a4dd458d58d37123effd'),\n",
       "  employ_of(Node('Person', community=4, name='王格琮', pagerank=1.3782643398991226e-05, person_id='27ba3f9f6cd7a4dd458d58d37123effd'), Node('Stock', code='3073', market='上櫃', name='天方能源', stock_id='3073'), jobs='大股東', stock_num=1019, stock_ratio=0.13024028629856851),\n",
       "  Node('Stock', code='3073', market='上櫃', name='天方能源', stock_id='3073')),\n",
       " (Node('Person', community=4, name='呂玟瑩', pagerank=2.1945862953263532e-05, person_id='72bf9910833b2745fc9f12a1bb945217'),\n",
       "  employ_of(Node('Person', community=4, name='呂玟瑩', pagerank=2.1945862953263532e-05, person_id='72bf9910833b2745fc9f12a1bb945217'), Node('Stock', code='3073', market='上櫃', name='天方能源', stock_id='3073'), jobs='大股東', stock_num=2437, stock_ratio=0.31147750511247446),\n",
       "  Node('Stock', code='3073', market='上櫃', name='天方能源', stock_id='3073')),\n",
       " (Node('Person', community=4, name='捷宏投資(有)', pagerank=1.3782643398991226e-05, person_id='733e35d81b93278e8d63aafce58d80bc'),\n",
       "  employ_of(Node('Person', community=4, name='捷宏投資(有)', pagerank=1.3782643398991226e-05, person_id='733e35d81b93278e8d63aafce58d80bc'), Node('Stock', code='3073', market='上櫃', name='天方能源', stock_id='3073'), jobs='大股東', stock_num=277, stock_ratio=0.0354038854805726),\n",
       "  Node('Stock', code='3073', market='上櫃', name='天方能源', stock_id='3073'))]"
      ]
     },
     "metadata": {},
     "execution_count": 27
    }
   ],
   "source": [
    "# 畫出半導體業的股票與董事之間的關係，限制1000個entity\n",
    "query = '''\n",
    "MATCH (s:Stock)-[:industry_of]->(Industry{name:'半導體業'})\n",
    "WITH s\n",
    "MATCH (p:Person)-[r:employ_of]->(s) \n",
    "RETURN * LIMIT 1000\n",
    "'''\n",
    "graph.run(query).to_table()[:5]"
   ]
  },
  {
   "cell_type": "code",
   "execution_count": null,
   "metadata": {},
   "outputs": [],
   "source": []
  }
 ]
}