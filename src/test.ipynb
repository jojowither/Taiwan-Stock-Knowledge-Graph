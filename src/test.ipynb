{
 "metadata": {
  "language_info": {
   "codemirror_mode": {
    "name": "ipython",
    "version": 3
   },
   "file_extension": ".py",
   "mimetype": "text/x-python",
   "name": "python",
   "nbconvert_exporter": "python",
   "pygments_lexer": "ipython3",
   "version": "3.8.2-final"
  },
  "orig_nbformat": 2,
  "kernelspec": {
   "name": "python3",
   "display_name": "Python 3.8.2 64-bit ('py38')",
   "metadata": {
    "interpreter": {
     "hash": "c90655714ffb9d69d923b994a9a952fe34a64a031cf84cba975d9030ad2b344f"
    }
   }
  }
 },
 "nbformat": 4,
 "nbformat_minor": 2,
 "cells": [
  {
   "cell_type": "code",
   "execution_count": 1,
   "metadata": {},
   "outputs": [],
   "source": [
    "from py2neo import Graph\n",
    "from igraph import Graph as IGraph\n",
    "from pprint import pprint"
   ]
  },
  {
   "cell_type": "code",
   "execution_count": 2,
   "metadata": {},
   "outputs": [],
   "source": [
    "# graph = Graph()\n",
    "graph = Graph('bolt://127.0.0.1:7687', password='jojo')"
   ]
  },
  {
   "cell_type": "code",
   "execution_count": 3,
   "metadata": {},
   "outputs": [
    {
     "output_type": "execute_result",
     "data": {
      "text/plain": [
       "[{'m': Node('Stock', code='2330', community=1, market='上市', name='台積電', pagerank=0.0027551025841649575, stock_id='2330')}]"
      ]
     },
     "metadata": {},
     "execution_count": 3
    }
   ],
   "source": [
    "# 查詢台GG\n",
    "query = '''\n",
    "match (m:Stock{code:'2330'}) return m\n",
    "'''\n",
    "graph.run(query).data()"
   ]
  },
  {
   "cell_type": "code",
   "execution_count": 4,
   "metadata": {},
   "outputs": [
    {
     "output_type": "execute_result",
     "data": {
      "text/plain": [
       " count(distinct(n)) \n",
       "--------------------\n",
       "                123 "
      ]
     },
     "metadata": {},
     "execution_count": 4
    }
   ],
   "source": [
    "# Concept(概念股)種類的總數\n",
    "query = '''\n",
    "match (n:Concept) return count(distinct(n))\n",
    "'''\n",
    "\n",
    "graph.run(query)"
   ]
  },
  {
   "cell_type": "code",
   "execution_count": 5,
   "metadata": {},
   "outputs": [
    {
     "output_type": "execute_result",
     "data": {
      "text/plain": [
       "[{'n': Node('Person', name='林錦坤', person_id='ee0bfbd63337a74c1c9353f2f5cff5d3'),\n",
       "  'count(distinct(n))': 1},\n",
       " {'n': Node('Person', name='余振華', person_id='2dc7f8de9ca02c34a3e90b0565b4559a'),\n",
       "  'count(distinct(n))': 1}]"
      ]
     },
     "metadata": {},
     "execution_count": 5
    }
   ],
   "source": [
    "# GG有多少副總在其他公司也是董監事經理人或大股東\n",
    "query = '''\n",
    "MATCH (m:Stock{code:'2330'})<-[:employ_of{jobs:'副總'}]-(n:Person)-[:employ_of]->(q:Stock)\n",
    "RETURN n, count(distinct(n))\n",
    "'''\n",
    "\n",
    "graph.run(query).data()"
   ]
  },
  {
   "cell_type": "code",
   "execution_count": 6,
   "metadata": {},
   "outputs": [
    {
     "output_type": "stream",
     "name": "stdout",
     "text": [
      "[igraph.Vertex(<igraph.Graph object at 0x1086e4400>, 0, {'name': Node('Person', name='摩西．蓋弗瑞', person_id='f7e8a7073af3c121a18aba032a2b1a04')}),\n igraph.Vertex(<igraph.Graph object at 0x1086e4400>, 1, {'name': 1}),\n igraph.Vertex(<igraph.Graph object at 0x1086e4400>, 2, {'name': Node('Person', name='麥克。史賓林', person_id='427f0333d16f224bedea4570e6cd9410')}),\n igraph.Vertex(<igraph.Graph object at 0x1086e4400>, 3, {'name': Node('Person', name='陳國慈', person_id='94417b1d3d9bec10492592510c3e3e40')}),\n igraph.Vertex(<igraph.Graph object at 0x1086e4400>, 4, {'name': Node('Person', name='施振榮', person_id='33400d8a8fda6a599ca2d92166089417')}),\n igraph.Vertex(<igraph.Graph object at 0x1086e4400>, 5, {'name': Node('Person', name='海英俊', person_id='6bcaa268b1b2ad70fc7a641edd421528')}),\n igraph.Vertex(<igraph.Graph object at 0x1086e4400>, 6, {'name': Node('Person', name='彼得.邦菲', person_id='f58593da0c0f6602ef06cbcd6195f986')})]\n"
     ]
    }
   ],
   "source": [
    "# GG有多少獨立董事\n",
    "query = '''\n",
    "MATCH (m:Stock{name:'台積電'})<-[:employ_of{jobs:'獨立董事'}]-(n:Person)\n",
    "RETURN n, count(distinct(n))\n",
    "'''\n",
    "ig = IGraph.TupleList(graph.run(query), weights=True)\n",
    "pprint([v for v in ig.vs])\n"
   ]
  },
  {
   "cell_type": "code",
   "execution_count": 7,
   "metadata": {},
   "outputs": [
    {
     "output_type": "execute_result",
     "data": {
      "text/plain": [
       "[{'m': Node('Stock', code='6414', community=1, market='上市', name='樺漢', pagerank=0.0013175629953942904, stock_id='6414'),\n",
       "  'count(distinct(m))': 1},\n",
       " {'m': Node('Stock', code='6166', community=1, market='上市', name='凌華', pagerank=0.0007760575850724419, stock_id='6166'),\n",
       "  'count(distinct(m))': 1},\n",
       " {'m': Node('Stock', code='3231', community=1, market='上市', name='緯創', pagerank=0.0018983248139954655, stock_id='3231'),\n",
       "  'count(distinct(m))': 1},\n",
       " {'m': Node('Stock', code='2395', community=1, market='上市', name='研華', pagerank=0.0016824349952384166, stock_id='2395'),\n",
       "  'count(distinct(m))': 1},\n",
       " {'m': Node('Stock', code='2382', community=1, market='上市', name='廣達', pagerank=0.0020281190833126, stock_id='2382'),\n",
       "  'count(distinct(m))': 1},\n",
       " {'m': Node('Stock', code='2377', community=1, market='上市', name='微星', pagerank=0.0011546411326951516, stock_id='2377'),\n",
       "  'count(distinct(m))': 1},\n",
       " {'m': Node('Stock', code='2357', community=1, market='上市', name='華碩', pagerank=0.0019591473665051926, stock_id='2357'),\n",
       "  'count(distinct(m))': 1},\n",
       " {'m': Node('Stock', code='2356', community=1, market='上市', name='英業達', pagerank=0.001723078095711191, stock_id='2356'),\n",
       "  'count(distinct(m))': 1},\n",
       " {'m': Node('Stock', code='2353', community=1, market='上市', name='宏碁', pagerank=0.0016508499173578585, stock_id='2353'),\n",
       "  'count(distinct(m))': 1}]"
      ]
     },
     "metadata": {},
     "execution_count": 7
    }
   ],
   "source": [
    "# 有多少'電腦及週邊設備業'也是'AI概念股'\n",
    "query = '''\n",
    "MATCH (:Concept{name:'AI人工智慧'})<-[:concept_of]-(m:Stock)-[:industry_of]->(:Industry{name:'電腦及週邊設備業'})\n",
    "RETURN m, count(distinct(m))\n",
    "'''\n",
    "graph.run(query).data()"
   ]
  },
  {
   "cell_type": "code",
   "execution_count": 8,
   "metadata": {},
   "outputs": [
    {
     "output_type": "execute_result",
     "data": {
      "text/plain": [
       "[{'p1': Node('Person', name='劉平貴', person_id='9b56a43be3f126da334b781d63da53bb'),\n",
       "  'count(distinct(p1))': 1},\n",
       " {'p1': Node('Person', name='詹鵬弘', person_id='124bc059485cb56ce5d3067dc03a6e6f'),\n",
       "  'count(distinct(p1))': 1},\n",
       " {'p1': Node('Person', name='溫志偉', person_id='e706756e2d1a336602b2e891279af81e'),\n",
       "  'count(distinct(p1))': 1},\n",
       " {'p1': Node('Person', name='陳禧冠', person_id='08881ed4de0d4e8a9f92584f1db92f1e'),\n",
       "  'count(distinct(p1))': 1},\n",
       " {'p1': Node('Person', name='譚仲興', person_id='3cc7b5fa5551f097f639929c06732ccf'),\n",
       "  'count(distinct(p1))': 1},\n",
       " {'p1': Node('Person', name='魏秋瑞', person_id='d89eb6aa1f27216e95679b70773f69df'),\n",
       "  'count(distinct(p1))': 1},\n",
       " {'p1': Node('Person', name='許振昌', person_id='c08d88765a2de2363e4ef38802071926'),\n",
       "  'count(distinct(p1))': 1},\n",
       " {'p1': Node('Person', name='張永南', person_id='8741d5d4928130058cf0cc1e08c70fc7'),\n",
       "  'count(distinct(p1))': 1},\n",
       " {'p1': Node('Person', name='徐睿鈞', person_id='54f137598102a1e321082564ba280b85'),\n",
       "  'count(distinct(p1))': 1},\n",
       " {'p1': Node('Person', name='丁長捷', person_id='0ff517a84f9f9804684e892db01acc5f'),\n",
       "  'count(distinct(p1))': 1}]"
      ]
     },
     "metadata": {},
     "execution_count": 8
    }
   ],
   "source": [
    "# 列出仁寶所有零持股的副總\n",
    "query = '''\n",
    "MATCH (:Stock{name:'仁寶'})<-[:employ_of{jobs:'副總', stock_num:0}]-(p1:Person)\n",
    "RETURN p1, count(distinct(p1))\n",
    "'''\n",
    "graph.run(query).data()"
   ]
  },
  {
   "cell_type": "code",
   "execution_count": 9,
   "metadata": {},
   "outputs": [
    {
     "output_type": "execute_result",
     "data": {
      "text/plain": [
       "[{'min': 0, 'max': 7487, 'avg_characters': 594.4, 'stdev': 1347.043586351018}]"
      ]
     },
     "metadata": {},
     "execution_count": 9
    }
   ],
   "source": [
    "# 列出仁寶副總所有持股的統計\n",
    "query = '''\n",
    "MATCH (:Stock{name:'仁寶'})<-[emp:employ_of{jobs:'副總'}]-(p1:Person)\n",
    "WITH emp.stock_num AS num\n",
    "RETURN min(num) AS min, max(num) AS max, avg(num) AS avg_characters, stdev(num) AS stdev\n",
    "'''\n",
    "graph.run(query).data()"
   ]
  },
  {
   "cell_type": "code",
   "execution_count": 10,
   "metadata": {},
   "outputs": [
    {
     "output_type": "execute_result",
     "data": {
      "text/plain": [
       "              ratio \n",
       "--------------------\n",
       " 0.2857142857142857 "
      ]
     },
     "metadata": {},
     "execution_count": 10
    }
   ],
   "source": [
    "# 仁寶副總有多少比例零持股\n",
    "query = '''\n",
    "MATCH (:Stock{name:'仁寶'})<-[:employ_of{jobs:'副總', stock_num:0}]-(p1:Person)\n",
    "MATCH (:Stock{name:'仁寶'})<-[:employ_of{jobs:'副總'}]-(p2:Person)\n",
    "RETURN count(distinct(p1))*1.0/ count(distinct(p2)) as ratio\n",
    "'''\n",
    "graph.run(query)\n"
   ]
  },
  {
   "cell_type": "code",
   "execution_count": 11,
   "metadata": {},
   "outputs": [
    {
     "output_type": "execute_result",
     "data": {
      "text/plain": [
       "              ratio \n",
       "--------------------\n",
       " 0.8857142857142857 "
      ]
     },
     "metadata": {},
     "execution_count": 11
    }
   ],
   "source": [
    "# 仁寶副總有多少比例持股小於1000\n",
    "query = '''\n",
    "MATCH (:Stock{name:'仁寶'})<-[emp:employ_of{jobs:'副總'}]-(p1:Person)\n",
    "MATCH (:Stock{name:'仁寶'})<-[:employ_of{jobs:'副總'}]-(p2:Person)\n",
    "WHERE emp.stock_num < 1000\n",
    "RETURN count(distinct(p1))*1.0/ count(distinct(p2)) as ratio\n",
    "'''\n",
    "graph.run(query)\n"
   ]
  },
  {
   "cell_type": "code",
   "execution_count": 12,
   "metadata": {},
   "outputs": [],
   "source": [
    "# # Shortest path\n",
    "# query = '''\n",
    "# MATCH (s1:Stock{code:'2330'}), (s2:Stock) WHERE s1.code <> s2.code\n",
    "# MATCH p=shortestPath((s1)-[*]-(s2))\n",
    "# WITH p\n",
    "# WHERE length(p)<5\n",
    "# RETURN length(p) AS len, [x IN nodes(p) | x.name] AS path\n",
    "# ORDER BY len DESC LIMIT 10\n",
    "# '''\n",
    "\n",
    "# graph.run(query)"
   ]
  },
  {
   "cell_type": "code",
   "execution_count": 13,
   "metadata": {},
   "outputs": [
    {
     "output_type": "execute_result",
     "data": {
      "text/plain": [
       "[{'concept': ['4G LTE']},\n",
       " {'concept': ['5G']},\n",
       " {'concept': ['iTV']},\n",
       " {'concept': ['車聯網']},\n",
       " {'concept': ['車用電子相關']},\n",
       " {'concept': ['AI人工智慧']},\n",
       " {'concept': ['網通']},\n",
       " {'concept': ['3D感測']},\n",
       " {'concept': ['華為']},\n",
       " {'concept': ['山寨機']},\n",
       " {'concept': ['3D技術']},\n",
       " {'concept': ['手機']},\n",
       " {'concept': ['APPLE概念']}]"
      ]
     },
     "metadata": {},
     "execution_count": 13
    }
   ],
   "source": [
    "# GG跟發哥在概念股上的最短路徑\n",
    "query = '''\n",
    "MATCH (a:Stock {code:'2330'}), (b:Stock {code:'2454'})\n",
    "MATCH p=allShortestPaths((a)-[:concept_of*]-(b))\n",
    "WITH [node IN nodes(p) where node:Concept | node.name] AS concept\n",
    "RETURN concept \n",
    "'''\n",
    "graph.run(query).data()"
   ]
  },
  {
   "cell_type": "code",
   "execution_count": 14,
   "metadata": {},
   "outputs": [
    {
     "output_type": "execute_result",
     "data": {
      "text/plain": [
       "[{'stock': '彰銀', 'degree': 240},\n",
       " {'stock': '臺企銀', 'degree': 198},\n",
       " {'stock': '安泰銀', 'degree': 169},\n",
       " {'stock': '開發金', 'degree': 152},\n",
       " {'stock': '聯邦銀', 'degree': 151},\n",
       " {'stock': '遠東銀', 'degree': 150},\n",
       " {'stock': '凌群', 'degree': 143},\n",
       " {'stock': '上海商銀', 'degree': 136},\n",
       " {'stock': '台中銀', 'degree': 135},\n",
       " {'stock': '中華電', 'degree': 134}]"
      ]
     },
     "metadata": {},
     "execution_count": 14
    }
   ],
   "source": [
    "# 查詢含有最多degree(不考慮方向以及關聯類別)的前10個Stock\n",
    "# 彰銀主要靠董事成員夠多\n",
    "query = '''\n",
    "MATCH (s:Stock)\n",
    "RETURN s.name AS stock, size( (s)-[]-() ) AS degree \n",
    "ORDER BY degree DESC LIMIT 10\n",
    "'''\n",
    "\n",
    "graph.run(query).data()"
   ]
  },
  {
   "cell_type": "code",
   "execution_count": 15,
   "metadata": {},
   "outputs": [
    {
     "output_type": "execute_result",
     "data": {
      "text/plain": [
       "[{'person': '大通先進星光', 'degree': 194},\n",
       " {'person': '富邦人壽保險(股)', 'degree': 193},\n",
       " {'person': '花旗託管挪威', 'degree': 158},\n",
       " {'person': '國泰人壽保險(股)', 'degree': 103},\n",
       " {'person': '摩根梵市場股', 'degree': 88},\n",
       " {'person': '勞工局全權', 'degree': 85},\n",
       " {'person': '南山人壽保險(股)', 'degree': 50},\n",
       " {'person': '匯豐摩根士丹', 'degree': 47},\n",
       " {'person': '台灣人壽保險(股)', 'degree': 47},\n",
       " {'person': '全球人壽保險(股)', 'degree': 37},\n",
       " {'person': '花旗台DFA 核', 'degree': 36},\n",
       " {'person': '花旗次元新興', 'degree': 34},\n",
       " {'person': '公務人員退休', 'degree': 29},\n",
       " {'person': '三商美邦人壽(股)', 'degree': 28},\n",
       " {'person': '花旗(台灣)託', 'degree': 26},\n",
       " {'person': '舊制勞工退休', 'degree': 26},\n",
       " {'person': '中華郵政(股)', 'degree': 24},\n",
       " {'person': '新制勞工退休', 'degree': 23},\n",
       " {'person': '美商摩根-004', 'degree': 22},\n",
       " {'person': '中國信託商業', 'degree': 21},\n",
       " {'person': '新光人壽保險(股)', 'degree': 21},\n",
       " {'person': '兆豐國際商業(股)', 'degree': 19},\n",
       " {'person': '花旗台新加坡', 'degree': 18},\n",
       " {'person': '中國人壽保險(股)', 'degree': 18},\n",
       " {'person': '渣打託管列支', 'degree': 17},\n",
       " {'person': '花旗政府(星)', 'degree': 17},\n",
       " {'person': '大通託管梵加', 'degree': 16},\n",
       " {'person': '摩根託管梵加', 'degree': 16},\n",
       " {'person': '群益金鼎證券', 'degree': 15},\n",
       " {'person': '渣打國際商業', 'degree': 15},\n",
       " {'person': '元大台灣高股', 'degree': 14},\n",
       " {'person': '渣打瑞信文藝', 'degree': 14},\n",
       " {'person': '涂水城', 'degree': 14},\n",
       " {'person': '遠雄人壽保險(股)', 'degree': 13},\n",
       " {'person': '渣打託管歐洲', 'degree': 12}]"
      ]
     },
     "metadata": {},
     "execution_count": 15
    }
   ],
   "source": [
    "# 查詢跟最多股票有關係的前35位董事\n",
    "# 涂水城是大股東\n",
    "query = '''\n",
    "MATCH (p:Person)\n",
    "RETURN p.name AS person, size( (p)-[]-(:Stock) ) AS degree \n",
    "ORDER BY degree DESC LIMIT 35\n",
    "'''\n",
    "\n",
    "graph.run(query).data()"
   ]
  },
  {
   "cell_type": "code",
   "execution_count": 16,
   "metadata": {},
   "outputs": [
    {
     "output_type": "execute_result",
     "data": {
      "text/plain": [
       "[{'person': '富邦人壽保險(股)', 'stockNum': 6021145},\n",
       " {'person': '花旗台積存託', 'stockNum': 5325610},\n",
       " {'person': '大通先進星光', 'stockNum': 5174727},\n",
       " {'person': '經濟部(股)-劉明忠', 'stockNum': 3486011},\n",
       " {'person': '財政部-江瑞堂', 'stockNum': 3475465},\n",
       " {'person': '財政部-許國郎', 'stockNum': 3475465},\n",
       " {'person': '財政部-陳美足', 'stockNum': 3475465},\n",
       " {'person': '財政部-雷仲達', 'stockNum': 3475465},\n",
       " {'person': '財政部-施遵驊', 'stockNum': 3475465},\n",
       " {'person': '財政部-李新仁', 'stockNum': 3475465},\n",
       " {'person': '勞工局全權', 'stockNum': 3421359},\n",
       " {'person': '台灣化學纖維(股)-王文淵', 'stockNum': 3417801},\n",
       " {'person': '花旗託管挪威', 'stockNum': 3375861},\n",
       " {'person': '長庚醫療財團', 'stockNum': 3257043},\n",
       " {'person': '經濟部(股)-曾文生', 'stockNum': 3154709},\n",
       " {'person': '經濟部(股)-翁朝棟', 'stockNum': 3154709},\n",
       " {'person': '國泰人壽保險(股)', 'stockNum': 2872015},\n",
       " {'person': '交通部-張信一', 'stockNum': 2737719},\n",
       " {'person': '交通部-蕭宏宜', 'stockNum': 2737719},\n",
       " {'person': '交通部-黃玉霖', 'stockNum': 2737719},\n",
       " {'person': '交通部-謝繼茂', 'stockNum': 2737719},\n",
       " {'person': '交通部-郭水義', 'stockNum': 2737719},\n",
       " {'person': '交通部-李連權', 'stockNum': 2737719},\n",
       " {'person': '交通部-潘進財', 'stockNum': 2737719},\n",
       " {'person': '交通部-陳信宏', 'stockNum': 2737719},\n",
       " {'person': '臺灣銀行(股)-王昭文', 'stockNum': 2729230},\n",
       " {'person': '臺灣銀行(股)-王安邦', 'stockNum': 2729230},\n",
       " {'person': '臺灣銀行(股)-蔡偉德', 'stockNum': 2729230},\n",
       " {'person': '臺灣銀行(股)-顏佑銘', 'stockNum': 2729230},\n",
       " {'person': '臺灣銀行(股)-鄭士卿', 'stockNum': 2729230},\n",
       " {'person': '臺灣銀行(股)-陳和全', 'stockNum': 2729230},\n",
       " {'person': '台灣塑膠工業(股)-王瑞華', 'stockNum': 2720549},\n",
       " {'person': '台灣塑膠工業(股)-陳寶郎', 'stockNum': 2720549},\n",
       " {'person': '花旗台新加坡', 'stockNum': 2603725},\n",
       " {'person': '萬寶開發(股)', 'stockNum': 2574832}]"
      ]
     },
     "metadata": {},
     "execution_count": 16
    }
   ],
   "source": [
    "# 查詢總持股前35最多的董事\n",
    "query = '''\n",
    "MATCH (p:Person)-[r:employ_of]-(:Stock)\n",
    "RETURN p.name AS person, sum(r.stock_num) as stockNum\n",
    "ORDER BY stockNum DESC LIMIT 35\n",
    "'''\n",
    "\n",
    "graph.run(query).data()"
   ]
  },
  {
   "cell_type": "code",
   "execution_count": 17,
   "metadata": {},
   "outputs": [],
   "source": [
    "# query = '''CALL gds.graph.drop('myGraph', false) '''\n",
    "# query = '''\n",
    "# CALL gds.graph.create('myGraph', 'Person', 'employ_of') YIELD graphName\n",
    "# CALL gds.betweenness.stream('myGraph')\n",
    "# YIELD nodeId, score\n",
    "# RETURN gds.util.asNode(nodeId).name AS name, score\n",
    "# ORDER BY score DESC\n",
    "# '''\n",
    "\n",
    "# graph.run(query)"
   ]
  },
  {
   "cell_type": "code",
   "execution_count": 18,
   "metadata": {},
   "outputs": [
    {
     "output_type": "execute_result",
     "data": {
      "text/plain": [
       "[{'name': '鴻海', 'pagerank': 0.0045964934531273335},\n",
       " {'name': '台達電', 'pagerank': 0.004310181320021675},\n",
       " {'name': '三星', 'pagerank': 0.003483259001461227},\n",
       " {'name': '宏達電', 'pagerank': 0.003446341125224638},\n",
       " {'name': '台積電', 'pagerank': 0.0027551025841649575},\n",
       " {'name': '瑞昱', 'pagerank': 0.0025400787658382616},\n",
       " {'name': '聯發科', 'pagerank': 0.002481455936974289},\n",
       " {'name': '正崴', 'pagerank': 0.0023928584477215862},\n",
       " {'name': '大立光', 'pagerank': 0.0022379246476795377},\n",
       " {'name': '鴻準', 'pagerank': 0.002173595166571676},\n",
       " {'name': '日月光投控', 'pagerank': 0.002148131312296115},\n",
       " {'name': '廣達', 'pagerank': 0.0020281190833126},\n",
       " {'name': '原相', 'pagerank': 0.001971843639240618},\n",
       " {'name': '仁寶', 'pagerank': 0.0019641993070372674},\n",
       " {'name': '華碩', 'pagerank': 0.0019591473665051926},\n",
       " {'name': '群創', 'pagerank': 0.0019250705015212903},\n",
       " {'name': '緯創', 'pagerank': 0.0018983248139954655},\n",
       " {'name': 'TPK-KY', 'pagerank': 0.0018568000367802826},\n",
       " {'name': '東元', 'pagerank': 0.0018564483536960906},\n",
       " {'name': '偉詮電', 'pagerank': 0.001834549862129348}]"
      ]
     },
     "metadata": {},
     "execution_count": 18
    }
   ],
   "source": [
    "# PageRank: The size of each node is proportional to the number and size of the other nodes pointing to it in the network. \n",
    "# 使用pagerank篩選在所有概念股類別當中，參與這些概念股前20多的股票\n",
    "query = '''\n",
    "MATCH (s:Stock)-[r:concept_of]->(c:Concept)\n",
    "RETURN s.name, c.name\n",
    "'''\n",
    "ig = IGraph.TupleList(graph.run(query), weights=True)\n",
    "\n",
    "pg = ig.pagerank()\n",
    "pgvs = []\n",
    "for p in zip(ig.vs, pg):\n",
    "    pgvs.append({\"name\": p[0][\"name\"], \"pg\": p[1]})\n",
    "\n",
    "write_clusters_query = '''\n",
    "UNWIND $nodes AS n\n",
    "MATCH (s:Stock) WHERE s.name = n.name\n",
    "SET s.pagerank = n.pg\n",
    "'''\n",
    "graph.run(write_clusters_query, nodes=pgvs)\n",
    "\n",
    "\n",
    "query = '''\n",
    "MATCH (s:Stock)--(st:StockType{name:'股票'})\n",
    "WHERE s.pagerank<>'none'\n",
    "RETURN s.name AS name, s.pagerank AS pagerank ORDER BY pagerank DESC LIMIT 20\n",
    "'''\n",
    "graph.run(query).data()"
   ]
  },
  {
   "source": [
    "# 使用各檔股票的概念股來做各檔股票的community detection\n",
    "\n",
    "clusters = IGraph.community_walktrap(ig, steps=3).as_clustering()\n",
    "\n",
    "nodes = [{\"name\": node[\"name\"]} for node in ig.vs]\n",
    "for node in nodes:\n",
    "    idx = ig.vs.find(name=node[\"name\"]).index\n",
    "    node[\"community\"] = clusters.membership[idx]\n",
    "\n",
    "write_clusters_query = '''\n",
    "UNWIND $nodes AS n\n",
    "MATCH (s:Stock) WHERE s.name = n.name\n",
    "SET s.community = toInteger(n.community)\n",
    "'''\n",
    "\n",
    "graph.run(write_clusters_query, nodes=nodes)\n",
    "\n",
    "query = '''\n",
    "MATCH (s:Stock)\n",
    "WITH s.community AS cluster, collect(s.name) AS members\n",
    "WHERE cluster<>'none'\n",
    "RETURN cluster, members ORDER BY cluster ASC\n",
    "'''\n",
    "\n",
    "graph.run(query).data()[:3]\n"
   ],
   "cell_type": "code",
   "metadata": {
    "tags": []
   },
   "execution_count": 19,
   "outputs": [
    {
     "output_type": "execute_result",
     "data": {
      "text/plain": [
       "[{'cluster': 0,\n",
       "  'members': ['捷迅',\n",
       "   '網龍',\n",
       "   '華義',\n",
       "   '艾訊',\n",
       "   '新洲',\n",
       "   '鈊象',\n",
       "   '宇峻',\n",
       "   '歐買尬',\n",
       "   '辣椒',\n",
       "   '數字',\n",
       "   '智冠',\n",
       "   '中菲行',\n",
       "   '大宇資',\n",
       "   '昱泉',\n",
       "   '橘子',\n",
       "   '網家',\n",
       "   '廣積',\n",
       "   '伍豐',\n",
       "   '友通',\n",
       "   '敦陽科',\n",
       "   '東森',\n",
       "   '台驊投控',\n",
       "   '宅配通',\n",
       "   '晶華',\n",
       "   '玉山金',\n",
       "   '永豐金',\n",
       "   '威強電',\n",
       "   '喬鼎',\n",
       "   '晟鈦',\n",
       "   '事欣科',\n",
       "   '聚碩',\n",
       "   '關貿',\n",
       "   '富邦媒']},\n",
       " {'cluster': 1,\n",
       "  'members': ['協禧',\n",
       "   '僑威',\n",
       "   '聯亞',\n",
       "   '穩懋',\n",
       "   '新揚科',\n",
       "   '璟德',\n",
       "   '波若威',\n",
       "   '亞信',\n",
       "   '樺晟',\n",
       "   '順達',\n",
       "   '原相',\n",
       "   '金麗科',\n",
       "   '光環',\n",
       "   '鑫創',\n",
       "   '威剛',\n",
       "   '台星科',\n",
       "   '宇環',\n",
       "   '微端',\n",
       "   '尼克森',\n",
       "   '建舜電',\n",
       "   '雙鴻',\n",
       "   '尚立',\n",
       "   '上詮',\n",
       "   '精材',\n",
       "   '崇越電',\n",
       "   '旭軟',\n",
       "   '致振',\n",
       "   '力致',\n",
       "   '昇達科',\n",
       "   '位速',\n",
       "   '矽瑪',\n",
       "   '鴻翊',\n",
       "   '聚積',\n",
       "   '力旺',\n",
       "   '兆利',\n",
       "   '禾瑞亞',\n",
       "   '神準',\n",
       "   '磐儀',\n",
       "   '鼎翰',\n",
       "   '安可',\n",
       "   '富晶通',\n",
       "   '新鉅科',\n",
       "   '艾恩特',\n",
       "   '精聯',\n",
       "   '湧德',\n",
       "   '營邦',\n",
       "   '漢磊',\n",
       "   '台微體',\n",
       "   '鐿鈦',\n",
       "   '永捷',\n",
       "   '熒茂',\n",
       "   '聯光通',\n",
       "   '前鼎',\n",
       "   '新復興',\n",
       "   '友輝',\n",
       "   '亞電',\n",
       "   'IET-KY',\n",
       "   '廣穎',\n",
       "   '華星光',\n",
       "   '環宇-KY',\n",
       "   '智晶',\n",
       "   '笙科',\n",
       "   '信驊',\n",
       "   '世界',\n",
       "   '鈺創',\n",
       "   '台林',\n",
       "   '協益',\n",
       "   '中光電',\n",
       "   '宣德',\n",
       "   '通泰',\n",
       "   '松普',\n",
       "   '同亨',\n",
       "   '創惟',\n",
       "   '新普',\n",
       "   '上奇',\n",
       "   '信音',\n",
       "   '萬旭',\n",
       "   '茂達',\n",
       "   '耕興',\n",
       "   '頎邦',\n",
       "   '撼訊',\n",
       "   '欣技',\n",
       "   '華電網',\n",
       "   '久正',\n",
       "   '亞通',\n",
       "   '幃翔',\n",
       "   '萬潤',\n",
       "   '廣明',\n",
       "   '旺玖',\n",
       "   '驊訊',\n",
       "   '立端',\n",
       "   '久元',\n",
       "   '普萊德',\n",
       "   '台燿',\n",
       "   '良維',\n",
       "   '沛亨',\n",
       "   '晶焱',\n",
       "   '統新',\n",
       "   '神盾',\n",
       "   '宇智',\n",
       "   '互動',\n",
       "   '東典光電',\n",
       "   '展匯科',\n",
       "   '鈺太',\n",
       "   '光菱',\n",
       "   '榮群',\n",
       "   '九暘',\n",
       "   '晶采',\n",
       "   '安國',\n",
       "   '元太',\n",
       "   '宏捷科',\n",
       "   '擎亞',\n",
       "   '天宇',\n",
       "   '加高',\n",
       "   '新漢',\n",
       "   '華宏',\n",
       "   '泰藝',\n",
       "   '群聯',\n",
       "   '東元',\n",
       "   '信錦',\n",
       "   '聲寶',\n",
       "   '華榮',\n",
       "   '三洋電',\n",
       "   '川湖',\n",
       "   '光寶科',\n",
       "   '聯電',\n",
       "   '華通',\n",
       "   '台揚',\n",
       "   '中環',\n",
       "   '仁寶',\n",
       "   '廣宇',\n",
       "   '台積電',\n",
       "   '精英',\n",
       "   '友訊',\n",
       "   '旺宏',\n",
       "   '智邦',\n",
       "   '錸德',\n",
       "   '宏碁',\n",
       "   '鴻準',\n",
       "   '英業達',\n",
       "   '華碩',\n",
       "   '致茂',\n",
       "   '矽統',\n",
       "   '昆盈',\n",
       "   '燿華',\n",
       "   '金像電',\n",
       "   '菱生',\n",
       "   '技嘉',\n",
       "   '微星',\n",
       "   '廣達',\n",
       "   '台光電',\n",
       "   '群光',\n",
       "   '精元',\n",
       "   '威盛',\n",
       "   '正崴',\n",
       "   '億光',\n",
       "   '研華',\n",
       "   '浩鑫',\n",
       "   '南亞科',\n",
       "   '友達',\n",
       "   '中華電',\n",
       "   '環科',\n",
       "   '精技',\n",
       "   '仲琦',\n",
       "   '新巨',\n",
       "   '燦坤',\n",
       "   '聯昌',\n",
       "   '偉詮電',\n",
       "   '美律',\n",
       "   '兆勁',\n",
       "   '京元電子',\n",
       "   '神腦',\n",
       "   '創見',\n",
       "   '凌群',\n",
       "   '聯發科',\n",
       "   '全新',\n",
       "   '奇力新',\n",
       "   '飛宏',\n",
       "   '義隆',\n",
       "   '光群雷',\n",
       "   '麗臺',\n",
       "   '華經',\n",
       "   '資通',\n",
       "   '可成',\n",
       "   '鉅祥',\n",
       "   '連宇',\n",
       "   '兆赫',\n",
       "   '瑞軒',\n",
       "   '普安',\n",
       "   '宏達電',\n",
       "   '台新金',\n",
       "   '晶豪科',\n",
       "   '大立光',\n",
       "   '晟銘電',\n",
       "   '聯陽',\n",
       "   '全漢',\n",
       "   '奇鋐',\n",
       "   '零壹',\n",
       "   '聯詠',\n",
       "   '智原',\n",
       "   '欣興',\n",
       "   '全台',\n",
       "   '揚智',\n",
       "   '晶技',\n",
       "   '科風',\n",
       "   '健鼎',\n",
       "   '台灣大',\n",
       "   '和鑫',\n",
       "   '鈺德',\n",
       "   '力特',\n",
       "   '立德',\n",
       "   '銘異',\n",
       "   '建漢',\n",
       "   '聯傑',\n",
       "   '耀登',\n",
       "   '正達',\n",
       "   '景碩',\n",
       "   '全科',\n",
       "   '緯創',\n",
       "   '虹冠電',\n",
       "   '閎暉',\n",
       "   '同泰',\n",
       "   '泰碩',\n",
       "   '新日興',\n",
       "   '明泰',\n",
       "   '玉晶光',\n",
       "   '融程電',\n",
       "   '譁裕',\n",
       "   '榮創',\n",
       "   '創意',\n",
       "   '聯鈞',\n",
       "   '晶彩科',\n",
       "   '敦泰',\n",
       "   '聯穎',\n",
       "   '力銘',\n",
       "   '智易',\n",
       "   '谷崧',\n",
       "   '洋華',\n",
       "   '達邁',\n",
       "   '健策',\n",
       "   'TPK-KY',\n",
       "   '亞太電',\n",
       "   '海華',\n",
       "   '大聯大',\n",
       "   '合勤控',\n",
       "   '日月光投控',\n",
       "   '遠傳',\n",
       "   '正文',\n",
       "   '致伸',\n",
       "   '新唐',\n",
       "   '泰鼎-KY',\n",
       "   '和碩',\n",
       "   '嘉彰',\n",
       "   '凌通',\n",
       "   '臻鼎-KY',\n",
       "   '誠美材',\n",
       "   '立積',\n",
       "   '眾達-KY',\n",
       "   '三星',\n",
       "   '訊連',\n",
       "   '達興材料',\n",
       "   '中磊',\n",
       "   '松翰',\n",
       "   '達運',\n",
       "   '柏承',\n",
       "   '友勁',\n",
       "   '百一',\n",
       "   '嘉聯益',\n",
       "   '鈞寶',\n",
       "   '凌華',\n",
       "   '宏齊',\n",
       "   '瑞儀',\n",
       "   '大豐電',\n",
       "   '盛群',\n",
       "   '飛捷',\n",
       "   '今國光',\n",
       "   '聯茂',\n",
       "   '精誠',\n",
       "   '超眾',\n",
       "   '力成',\n",
       "   '迅杰',\n",
       "   '定穎',\n",
       "   '矽格',\n",
       "   '台郡',\n",
       "   '同欣電',\n",
       "   '台表科',\n",
       "   '康舒',\n",
       "   '啟碁',\n",
       "   '群電',\n",
       "   '樺漢',\n",
       "   '瑞祺電通',\n",
       "   '光聖',\n",
       "   '訊芯-KY',\n",
       "   'GIS-KY',\n",
       "   '晶心科',\n",
       "   '研揚',\n",
       "   '緯穎',\n",
       "   '鋐寶科技',\n",
       "   '惠特',\n",
       "   '台通',\n",
       "   '矽創',\n",
       "   '南電',\n",
       "   '致新',\n",
       "   '華冠',\n",
       "   '瀚荃',\n",
       "   '錸寶',\n",
       "   '凌巨',\n",
       "   '至上',\n",
       "   '振樺電',\n",
       "   '南茂',\n",
       "   '達方',\n",
       "   '勤誠',\n",
       "   '志超',\n",
       "   '明基材',\n",
       "   '中視',\n",
       "   '晨訊科-DR']},\n",
       " {'cluster': 2,\n",
       "  'members': ['和勤',\n",
       "   '世德',\n",
       "   '公準',\n",
       "   '茂訊',\n",
       "   '台嘉碩',\n",
       "   '千如',\n",
       "   '欣銓',\n",
       "   '鼎天',\n",
       "   '加百裕',\n",
       "   '先進光',\n",
       "   '崧騰',\n",
       "   '長盛',\n",
       "   '環天科',\n",
       "   '凡甲',\n",
       "   '同致',\n",
       "   '西勝',\n",
       "   '德微',\n",
       "   '江興鍛',\n",
       "   '淳紳',\n",
       "   '晟田',\n",
       "   '美琪瑪',\n",
       "   '新盛力',\n",
       "   '亞泰',\n",
       "   '立凱-KY',\n",
       "   '宜鼎',\n",
       "   '應華',\n",
       "   '台半',\n",
       "   '高技',\n",
       "   '普誠',\n",
       "   '統振',\n",
       "   '中探針',\n",
       "   '元山',\n",
       "   '胡連',\n",
       "   '佳邦',\n",
       "   '廣錠',\n",
       "   '威潤',\n",
       "   '聚和',\n",
       "   '富致',\n",
       "   'M31',\n",
       "   '長園科',\n",
       "   '精星',\n",
       "   '朋程',\n",
       "   '金居',\n",
       "   '永裕',\n",
       "   '堤維西',\n",
       "   '江申',\n",
       "   '車王電',\n",
       "   '和大',\n",
       "   '倉佑',\n",
       "   '中電',\n",
       "   '中碳',\n",
       "   '國際中橡',\n",
       "   '裕隆',\n",
       "   '劍麟',\n",
       "   '為升',\n",
       "   '艾姆勒',\n",
       "   '台達電',\n",
       "   '金寶',\n",
       "   '楠梓電',\n",
       "   '鴻海',\n",
       "   '國巨',\n",
       "   '光磊',\n",
       "   '華邦電',\n",
       "   '順德',\n",
       "   '敬鵬',\n",
       "   '瑞昱',\n",
       "   '凌陽',\n",
       "   '建準',\n",
       "   '興勤',\n",
       "   '建通',\n",
       "   '立隆電',\n",
       "   '美隆電',\n",
       "   '強茂',\n",
       "   '希華',\n",
       "   '華新科',\n",
       "   '怡利電',\n",
       "   '漢翔',\n",
       "   '健和興',\n",
       "   '亞光',\n",
       "   '鴻名',\n",
       "   '信邦',\n",
       "   '禾伸堂',\n",
       "   '文曄',\n",
       "   '益登',\n",
       "   '華晶科',\n",
       "   '日電貿',\n",
       "   '麗清',\n",
       "   '群創',\n",
       "   '維熹',\n",
       "   '晶相光',\n",
       "   '宏致',\n",
       "   '貿聯-KY',\n",
       "   '神達',\n",
       "   '拓凱',\n",
       "   '康普',\n",
       "   '佳凌',\n",
       "   '界霖',\n",
       "   '競國',\n",
       "   '精成科',\n",
       "   '詮欣',\n",
       "   '聚鼎',\n",
       "   '華孚',\n",
       "   '聯嘉',\n",
       "   '興能高',\n",
       "   '帝寶',\n",
       "   '昇陽半導體',\n",
       "   '雷虎',\n",
       "   '華東',\n",
       "   '福懋科',\n",
       "   '富鼎']}]"
      ]
     },
     "metadata": {},
     "execution_count": 19
    }
   ]
  },
  {
   "cell_type": "code",
   "execution_count": 20,
   "metadata": {},
   "outputs": [
    {
     "output_type": "execute_result",
     "data": {
      "text/plain": [
       "[{'name': '富邦人壽保險(股)', 'pagerank': 0.0016337940285416409},\n",
       " {'name': '大通先進星光', 'pagerank': 0.0015896539158322487},\n",
       " {'name': '花旗託管挪威', 'pagerank': 0.001319890704584411},\n",
       " {'name': '國泰人壽保險(股)', 'pagerank': 0.0008544437127366045},\n",
       " {'name': '摩根梵市場股', 'pagerank': 0.0007249435924771437},\n",
       " {'name': '勞工局全權', 'pagerank': 0.0006965305696453782},\n",
       " {'name': '南山人壽保險(股)', 'pagerank': 0.00041250698393963673},\n",
       " {'name': '匯豐摩根士丹', 'pagerank': 0.0004069461479897839},\n",
       " {'name': '台灣人壽保險(股)', 'pagerank': 0.0003977390481770738},\n",
       " {'name': '全球人壽保險(股)', 'pagerank': 0.0003104576847542618},\n",
       " {'name': '花旗台DFA 核', 'pagerank': 0.00030774778896447305},\n",
       " {'name': '花旗次元新興', 'pagerank': 0.0002851744153518003},\n",
       " {'name': '公務人員退休', 'pagerank': 0.00023828747760839845},\n",
       " {'name': '三商美邦人壽(股)', 'pagerank': 0.00023671636148385588},\n",
       " {'name': '花旗(台灣)託', 'pagerank': 0.00021701151660540204},\n",
       " {'name': '舊制勞工退休', 'pagerank': 0.0002084911336964447},\n",
       " {'name': '中華郵政(股)', 'pagerank': 0.0002073511959648976},\n",
       " {'name': '美商摩根-004', 'pagerank': 0.00018996375019481986},\n",
       " {'name': '中國信託商業', 'pagerank': 0.0001881603139621324},\n",
       " {'name': '新光人壽保險(股)', 'pagerank': 0.00018690703238133618}]"
      ]
     },
     "metadata": {},
     "execution_count": 20
    }
   ],
   "source": [
    "# 使用pagerank篩選在所有股票當中，參與這些股票前20多的董事\n",
    "\n",
    "query = '''\n",
    "MATCH (p:Person)-[r:employ_of]->(s:Stock)\n",
    "RETURN p.name, s.name\n",
    "'''\n",
    "ig = IGraph.TupleList(graph.run(query), weights=True)\n",
    "\n",
    "pg = ig.pagerank()\n",
    "pgvs = []\n",
    "for p in zip(ig.vs, pg):\n",
    "    pgvs.append({\"name\": p[0][\"name\"], \"pg\": p[1]})\n",
    "\n",
    "write_clusters_query = '''\n",
    "UNWIND $nodes AS n\n",
    "MATCH (p:Person) WHERE p.name = n.name\n",
    "SET p.pagerank = n.pg\n",
    "'''\n",
    "graph.run(write_clusters_query, nodes=pgvs)\n",
    "\n",
    "\n",
    "query = '''\n",
    "MATCH (p:Person)\n",
    "RETURN p.name AS name, p.pagerank AS pagerank ORDER BY pagerank DESC LIMIT 20\n",
    "'''\n",
    "graph.run(query).data()\n",
    "\n"
   ]
  },
  {
   "cell_type": "code",
   "execution_count": 21,
   "metadata": {},
   "outputs": [
    {
     "output_type": "execute_result",
     "data": {
      "text/plain": [
       "37622"
      ]
     },
     "metadata": {},
     "execution_count": 21
    }
   ],
   "source": [
    "len(pgvs)"
   ]
  },
  {
   "cell_type": "code",
   "execution_count": 22,
   "metadata": {},
   "outputs": [
    {
     "output_type": "execute_result",
     "data": {
      "text/plain": [
       "[{'cluster': 0,\n",
       "  'members': ['魏恒巍',\n",
       "   '黃寶慧',\n",
       "   '葉雪玲',\n",
       "   '黃大中',\n",
       "   '黃緹瑩',\n",
       "   '黃強',\n",
       "   '李安宗',\n",
       "   '陳月裡',\n",
       "   '韓千山',\n",
       "   '鍾亮宏',\n",
       "   '葉明球',\n",
       "   '徐卓鳳嬌',\n",
       "   '徐維宏',\n",
       "   '黃啟曄',\n",
       "   '吳尚穎',\n",
       "   '慧德國際(股)-黃蘊慧',\n",
       "   '黃蘊慧',\n",
       "   '大茂道原(股)',\n",
       "   '茂元國際(股)-葉明球',\n",
       "   '黃大祐']},\n",
       " {'cluster': 1,\n",
       "  'members': ['高逸清',\n",
       "   '龔錫勳',\n",
       "   '林喬立',\n",
       "   '辛匡鳳心',\n",
       "   '馮文傑',\n",
       "   '方藝民',\n",
       "   '李佑昌',\n",
       "   '林劭穎',\n",
       "   '勁永國際(股)',\n",
       "   '李宗禧',\n",
       "   '董克廉',\n",
       "   '廖珮君',\n",
       "   '黃佳華',\n",
       "   '陳悠純',\n",
       "   '華保投資(有)',\n",
       "   '林書良',\n",
       "   '莊大衛',\n",
       "   '江丞栩',\n",
       "   '華康投資(股)-林鴻鈞',\n",
       "   '蔡志文',\n",
       "   '辛華熙',\n",
       "   '羅振玉',\n",
       "   '李坤明',\n",
       "   '勁富國際股份(股)-林坤煌',\n",
       "   '李慶瑤',\n",
       "   '陳書獎',\n",
       "   '精璞投資(股)',\n",
       "   '陳昭蓉',\n",
       "   '莊世金']},\n",
       " {'cluster': 2,\n",
       "  'members': ['黃瓊敏',\n",
       "   '王筱君',\n",
       "   '李政道',\n",
       "   '永宜投資(股)',\n",
       "   '張志強',\n",
       "   '吳清德',\n",
       "   '吳定國',\n",
       "   '林密',\n",
       "   '匯豐託管帕納',\n",
       "   '吳淑蕊',\n",
       "   '宜達投資(股)',\n",
       "   '王聖斌',\n",
       "   '吳劭娟',\n",
       "   '鄭宗記',\n",
       "   '吳奎雍',\n",
       "   '簡君竹',\n",
       "   '吳劭珮',\n",
       "   '鄭兆凱',\n",
       "   '張榮銘']}]"
      ]
     },
     "metadata": {},
     "execution_count": 22
    }
   ],
   "source": [
    "# 使用各檔股票來做董事\b的community detection\n",
    "# 看看是否有哪些董事是同一群的\n",
    "# 也就是共同都是某些股票的董事/大股東\n",
    "# 理論上只有少數人身兼多家公司董事/大股東\n",
    "\n",
    "\n",
    "clusters = IGraph.community_walktrap(ig, steps=3).as_clustering()\n",
    "\n",
    "nodes = [{\"name\": node[\"name\"]} for node in ig.vs]\n",
    "for node in nodes:\n",
    "    idx = ig.vs.find(name=node[\"name\"]).index\n",
    "    node[\"community\"] = clusters.membership[idx]\n",
    "\n",
    "write_clusters_query = '''\n",
    "UNWIND $nodes AS n\n",
    "MATCH (p:Person) WHERE p.name = n.name\n",
    "SET p.community = toInteger(n.community)\n",
    "'''\n",
    "\n",
    "graph.run(write_clusters_query, nodes=nodes)\n",
    "\n",
    "query = '''\n",
    "MATCH (p:Person)\n",
    "WITH p.community AS cluster, collect(p.name) AS members\n",
    "WHERE cluster<>'none'\n",
    "RETURN cluster, members ORDER BY cluster ASC\n",
    "'''\n",
    "\n",
    "graph.run(query).data()[:3]"
   ]
  },
  {
   "cell_type": "code",
   "execution_count": 23,
   "metadata": {},
   "outputs": [
    {
     "output_type": "execute_result",
     "data": {
      "text/plain": [
       "1411"
      ]
     },
     "metadata": {},
     "execution_count": 23
    }
   ],
   "source": [
    "person_clusters = graph.run(query).data()\n",
    "len(person_clusters)"
   ]
  },
  {
   "cell_type": "code",
   "execution_count": 92,
   "metadata": {},
   "outputs": [],
   "source": [
    "write_stock_weight_query = '''\n",
    "MATCH (p:Person)-[r:employ_of]->(s:Stock)\n",
    "RETURN p.name as person_name, r.stock_num as stock_num, s.name as stock_name\n",
    "'''\n",
    "\n",
    "data = graph.run(write_stock_weight_query).data()\n"
   ]
  },
  {
   "cell_type": "code",
   "execution_count": 94,
   "metadata": {},
   "outputs": [],
   "source": [
    "stock_query = '''\n",
    "MATCH (p:Person)-[r:employ_of]->(s:Stock)\n",
    "RETURN DISTINCT s.name as stock_name\n",
    "'''\n",
    "from collections import defaultdict\n",
    "\n",
    "total_stock_nums = defaultdict(int)\n",
    "stock_name = graph.run(stock_query).data()\n",
    "for person in data:\n",
    "    total_stock_nums[person['stock_name']] += person['stock_num']\n"
   ]
  },
  {
   "cell_type": "code",
   "execution_count": 98,
   "metadata": {},
   "outputs": [
    {
     "output_type": "execute_result",
     "data": {
      "text/plain": [
       "9692484"
      ]
     },
     "metadata": {},
     "execution_count": 98
    }
   ],
   "source": [
    "total_stock_nums['台積電']"
   ]
  },
  {
   "cell_type": "code",
   "execution_count": 107,
   "metadata": {},
   "outputs": [],
   "source": [
    "# total2node = []\n",
    "# for k,v in total_stock_nums.items():\n",
    "#     total2node.append({'name': k, 'total':v})\n",
    "\n",
    "for rel in data:\n",
    "    rel['stock_ratio'] = rel['stock_num']/total_stock_nums[rel['stock_name']]"
   ]
  },
  {
   "cell_type": "code",
   "execution_count": 112,
   "metadata": {},
   "outputs": [
    {
     "output_type": "execute_result",
     "data": {
      "text/plain": [
       "[]"
      ]
     },
     "metadata": {},
     "execution_count": 112
    }
   ],
   "source": [
    "## Person和Stock關聯employ_of線的粗細，用股東總持股當分母，董事持股數當分子\n",
    "\n",
    "write_stock_weight_query = '''\n",
    "UNWIND $nodes AS n\n",
    "MATCH (p:Person)-[r:employ_of]->(s:Stock)\n",
    "WHERE p.name = n.person_name AND s.name = n.stock_name\n",
    "SET r.stock_ratio = n.stock_ratio\n",
    "'''\n",
    "graph.run(write_stock_weight_query, nodes=data).data()"
   ]
  },
  {
   "cell_type": "code",
   "execution_count": null,
   "metadata": {},
   "outputs": [],
   "source": []
  },
  {
   "cell_type": "code",
   "execution_count": null,
   "metadata": {},
   "outputs": [],
   "source": []
  },
  {
   "cell_type": "code",
   "execution_count": null,
   "metadata": {},
   "outputs": [],
   "source": []
  },
  {
   "cell_type": "code",
   "execution_count": null,
   "metadata": {},
   "outputs": [],
   "source": []
  },
  {
   "cell_type": "code",
   "execution_count": null,
   "metadata": {},
   "outputs": [],
   "source": []
  }
 ]
}