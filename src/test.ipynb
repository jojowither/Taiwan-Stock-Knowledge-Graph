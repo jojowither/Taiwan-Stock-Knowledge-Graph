{
 "metadata": {
  "language_info": {
   "codemirror_mode": {
    "name": "ipython",
    "version": 3
   },
   "file_extension": ".py",
   "mimetype": "text/x-python",
   "name": "python",
   "nbconvert_exporter": "python",
   "pygments_lexer": "ipython3",
   "version": "3.8.2-final"
  },
  "orig_nbformat": 2,
  "kernelspec": {
   "name": "python3",
   "display_name": "Python 3.8.2 64-bit ('py38')",
   "metadata": {
    "interpreter": {
     "hash": "c90655714ffb9d69d923b994a9a952fe34a64a031cf84cba975d9030ad2b344f"
    }
   }
  }
 },
 "nbformat": 4,
 "nbformat_minor": 2,
 "cells": [
  {
   "cell_type": "code",
   "execution_count": 2,
   "metadata": {},
   "outputs": [],
   "source": [
    "from py2neo import Graph\n",
    "from igraph import Graph as IGraph\n",
    "from pprint import pprint"
   ]
  },
  {
   "cell_type": "code",
   "execution_count": 3,
   "metadata": {},
   "outputs": [],
   "source": [
    "# graph = Graph()\n",
    "graph = Graph('bolt://127.0.0.1:7687', password='jojo')"
   ]
  },
  {
   "cell_type": "code",
   "execution_count": 4,
   "metadata": {},
   "outputs": [
    {
     "output_type": "execute_result",
     "data": {
      "text/plain": [
       "[{'m': Node('Stock', code='2330', market='上市', name='台積電', stock_id='2330')}]"
      ]
     },
     "metadata": {},
     "execution_count": 4
    }
   ],
   "source": [
    "# 查詢台GG\n",
    "query = '''\n",
    "match (m:Stock{code:'2330'}) return m\n",
    "'''\n",
    "graph.run(query).data()"
   ]
  },
  {
   "cell_type": "code",
   "execution_count": 4,
   "metadata": {},
   "outputs": [
    {
     "output_type": "execute_result",
     "data": {
      "text/plain": [
       " count(distinct(n)) \n",
       "--------------------\n",
       "                123 "
      ]
     },
     "metadata": {},
     "execution_count": 4
    }
   ],
   "source": [
    "# Concept(概念股)種類的總數\n",
    "query = '''\n",
    "match (n:Concept) return count(distinct(n))\n",
    "'''\n",
    "\n",
    "graph.run(query)"
   ]
  },
  {
   "cell_type": "code",
   "execution_count": 47,
   "metadata": {},
   "outputs": [
    {
     "output_type": "execute_result",
     "data": {
      "text/plain": [
       "[{'n': Node('Person', name='林錦坤', person_id='ee0bfbd63337a74c1c9353f2f5cff5d3'),\n",
       "  'count(distinct(n))': 1},\n",
       " {'n': Node('Person', name='余振華', person_id='2dc7f8de9ca02c34a3e90b0565b4559a'),\n",
       "  'count(distinct(n))': 1}]"
      ]
     },
     "metadata": {},
     "execution_count": 47
    }
   ],
   "source": [
    "# GG有多少副總在其他公司也是董監事經理人或大股東\n",
    "query = '''\n",
    "MATCH (m:Stock{code:'2330'})<-[:employ_of{jobs:'副總'}]-(n:Person)-[:employ_of]->(q:Stock)\n",
    "RETURN n, count(distinct(n))\n",
    "'''\n",
    "\n",
    "graph.run(query).data()"
   ]
  },
  {
   "cell_type": "code",
   "execution_count": 7,
   "metadata": {},
   "outputs": [
    {
     "output_type": "stream",
     "name": "stdout",
     "text": [
      "[igraph.Vertex(<igraph.Graph object at 0x1136635e0>, 0, {'name': Node('Person', name='摩西．蓋弗瑞', person_id='f7e8a7073af3c121a18aba032a2b1a04')}),\n igraph.Vertex(<igraph.Graph object at 0x1136635e0>, 1, {'name': 1}),\n igraph.Vertex(<igraph.Graph object at 0x1136635e0>, 2, {'name': Node('Person', name='麥克。史賓林', person_id='427f0333d16f224bedea4570e6cd9410')}),\n igraph.Vertex(<igraph.Graph object at 0x1136635e0>, 3, {'name': Node('Person', name='陳國慈', person_id='94417b1d3d9bec10492592510c3e3e40')}),\n igraph.Vertex(<igraph.Graph object at 0x1136635e0>, 4, {'name': Node('Person', name='施振榮', person_id='33400d8a8fda6a599ca2d92166089417')}),\n igraph.Vertex(<igraph.Graph object at 0x1136635e0>, 5, {'name': Node('Person', name='海英俊', person_id='6bcaa268b1b2ad70fc7a641edd421528')}),\n igraph.Vertex(<igraph.Graph object at 0x1136635e0>, 6, {'name': Node('Person', name='彼得.邦菲', person_id='f58593da0c0f6602ef06cbcd6195f986')})]\n"
     ]
    }
   ],
   "source": [
    "# GG有多少獨立董事\n",
    "query = '''\n",
    "MATCH (m:Stock{name:'台積電'})<-[:employ_of{jobs:'獨立董事'}]-(n:Person)\n",
    "RETURN n, count(distinct(n))\n",
    "'''\n",
    "ig = IGraph.TupleList(graph.run(query), weights=True)\n",
    "pprint([v for v in ig.vs])\n"
   ]
  },
  {
   "cell_type": "code",
   "execution_count": 37,
   "metadata": {},
   "outputs": [
    {
     "output_type": "execute_result",
     "data": {
      "text/plain": [
       "[{'m': Node('Stock', code='6414', market='上市', name='樺漢', stock_id='6414'),\n",
       "  'count(distinct(m))': 1},\n",
       " {'m': Node('Stock', code='6166', market='上市', name='凌華', stock_id='6166'),\n",
       "  'count(distinct(m))': 1},\n",
       " {'m': Node('Stock', code='3231', market='上市', name='緯創', stock_id='3231'),\n",
       "  'count(distinct(m))': 1},\n",
       " {'m': Node('Stock', code='2395', market='上市', name='研華', stock_id='2395'),\n",
       "  'count(distinct(m))': 1},\n",
       " {'m': Node('Stock', code='2382', market='上市', name='廣達', stock_id='2382'),\n",
       "  'count(distinct(m))': 1},\n",
       " {'m': Node('Stock', code='2377', market='上市', name='微星', stock_id='2377'),\n",
       "  'count(distinct(m))': 1},\n",
       " {'m': Node('Stock', code='2357', market='上市', name='華碩', stock_id='2357'),\n",
       "  'count(distinct(m))': 1},\n",
       " {'m': Node('Stock', code='2356', market='上市', name='英業達', stock_id='2356'),\n",
       "  'count(distinct(m))': 1},\n",
       " {'m': Node('Stock', code='2353', market='上市', name='宏碁', stock_id='2353'),\n",
       "  'count(distinct(m))': 1}]"
      ]
     },
     "metadata": {},
     "execution_count": 37
    }
   ],
   "source": [
    "# 有多少'電腦及週邊設備業'也是'AI概念股'\n",
    "query = '''\n",
    "MATCH (:Concept{name:'AI人工智慧'})<-[:concept_of]-(m:Stock)-[:industry_of]->(:Industry{name:'電腦及週邊設備業'})\n",
    "RETURN m, count(distinct(m))\n",
    "'''\n",
    "graph.run(query).data()"
   ]
  },
  {
   "cell_type": "code",
   "execution_count": 38,
   "metadata": {},
   "outputs": [
    {
     "output_type": "execute_result",
     "data": {
      "text/plain": [
       "[{'p1': Node('Person', name='劉平貴', person_id='9b56a43be3f126da334b781d63da53bb'),\n",
       "  'count(distinct(p1))': 1},\n",
       " {'p1': Node('Person', name='詹鵬弘', person_id='124bc059485cb56ce5d3067dc03a6e6f'),\n",
       "  'count(distinct(p1))': 1},\n",
       " {'p1': Node('Person', name='溫志偉', person_id='e706756e2d1a336602b2e891279af81e'),\n",
       "  'count(distinct(p1))': 1},\n",
       " {'p1': Node('Person', name='陳禧冠', person_id='08881ed4de0d4e8a9f92584f1db92f1e'),\n",
       "  'count(distinct(p1))': 1},\n",
       " {'p1': Node('Person', name='譚仲興', person_id='3cc7b5fa5551f097f639929c06732ccf'),\n",
       "  'count(distinct(p1))': 1},\n",
       " {'p1': Node('Person', name='魏秋瑞', person_id='d89eb6aa1f27216e95679b70773f69df'),\n",
       "  'count(distinct(p1))': 1},\n",
       " {'p1': Node('Person', name='許振昌', person_id='c08d88765a2de2363e4ef38802071926'),\n",
       "  'count(distinct(p1))': 1},\n",
       " {'p1': Node('Person', name='張永南', person_id='8741d5d4928130058cf0cc1e08c70fc7'),\n",
       "  'count(distinct(p1))': 1},\n",
       " {'p1': Node('Person', name='徐睿鈞', person_id='54f137598102a1e321082564ba280b85'),\n",
       "  'count(distinct(p1))': 1},\n",
       " {'p1': Node('Person', name='丁長捷', person_id='0ff517a84f9f9804684e892db01acc5f'),\n",
       "  'count(distinct(p1))': 1}]"
      ]
     },
     "metadata": {},
     "execution_count": 38
    }
   ],
   "source": [
    "# 列出仁寶所有零持股的副總\n",
    "query = '''\n",
    "MATCH (:Stock{name:'仁寶'})<-[:employ_of{jobs:'副總', stock_num:0}]-(p1:Person)\n",
    "RETURN p1, count(distinct(p1))\n",
    "'''\n",
    "graph.run(query).data()"
   ]
  },
  {
   "cell_type": "code",
   "execution_count": 54,
   "metadata": {},
   "outputs": [
    {
     "output_type": "execute_result",
     "data": {
      "text/plain": [
       "[{'min': 0, 'max': 7487, 'avg_characters': 594.4, 'stdev': 1347.043586351018}]"
      ]
     },
     "metadata": {},
     "execution_count": 54
    }
   ],
   "source": [
    "# 列出仁寶副總所有持股的統計\n",
    "query = '''\n",
    "MATCH (:Stock{name:'仁寶'})<-[emp:employ_of{jobs:'副總'}]-(p1:Person)\n",
    "WITH emp.stock_num AS num\n",
    "RETURN min(num) AS min, max(num) AS max, avg(num) AS avg_characters, stdev(num) AS stdev\n",
    "'''\n",
    "graph.run(query).data()"
   ]
  },
  {
   "cell_type": "code",
   "execution_count": 23,
   "metadata": {},
   "outputs": [
    {
     "output_type": "execute_result",
     "data": {
      "text/plain": [
       "              ratio \n",
       "--------------------\n",
       " 0.2857142857142857 "
      ]
     },
     "metadata": {},
     "execution_count": 23
    }
   ],
   "source": [
    "# 仁寶副總有多少比例零持股\n",
    "query = '''\n",
    "MATCH (:Stock{name:'仁寶'})<-[:employ_of{jobs:'副總', stock_num:0}]-(p1:Person)\n",
    "MATCH (:Stock{name:'仁寶'})<-[:employ_of{jobs:'副總'}]-(p2:Person)\n",
    "RETURN count(distinct(p1))*1.0/ count(distinct(p2)) as ratio\n",
    "'''\n",
    "graph.run(query)\n"
   ]
  },
  {
   "cell_type": "code",
   "execution_count": 55,
   "metadata": {},
   "outputs": [
    {
     "output_type": "execute_result",
     "data": {
      "text/plain": [
       "              ratio \n",
       "--------------------\n",
       " 0.8857142857142857 "
      ]
     },
     "metadata": {},
     "execution_count": 55
    }
   ],
   "source": [
    "# 仁寶副總有多少比例持股小於1000\n",
    "query = '''\n",
    "MATCH (:Stock{name:'仁寶'})<-[emp:employ_of{jobs:'副總'}]-(p1:Person)\n",
    "MATCH (:Stock{name:'仁寶'})<-[:employ_of{jobs:'副總'}]-(p2:Person)\n",
    "WHERE emp.stock_num < 1000\n",
    "RETURN count(distinct(p1))*1.0/ count(distinct(p2)) as ratio\n",
    "'''\n",
    "graph.run(query)\n"
   ]
  },
  {
   "cell_type": "code",
   "execution_count": 68,
   "metadata": {},
   "outputs": [],
   "source": [
    "# # Shortest path\n",
    "# query = '''\n",
    "# MATCH (s1:Stock{code:'2330'}), (s2:Stock) WHERE s1.code <> s2.code\n",
    "# MATCH p=shortestPath((s1)-[*]-(s2))\n",
    "# WITH p\n",
    "# WHERE length(p)<5\n",
    "# RETURN length(p) AS len, [x IN nodes(p) | x.name] AS path\n",
    "# ORDER BY len DESC LIMIT 10\n",
    "# '''\n",
    "\n",
    "# graph.run(query)"
   ]
  },
  {
   "cell_type": "code",
   "execution_count": 102,
   "metadata": {},
   "outputs": [
    {
     "output_type": "execute_result",
     "data": {
      "text/plain": [
       "[{'concept': ['4G LTE']},\n",
       " {'concept': ['5G']},\n",
       " {'concept': ['iTV']},\n",
       " {'concept': ['車聯網']},\n",
       " {'concept': ['車用電子相關']},\n",
       " {'concept': ['AI人工智慧']},\n",
       " {'concept': ['網通']},\n",
       " {'concept': ['3D感測']},\n",
       " {'concept': ['華為']},\n",
       " {'concept': ['山寨機']},\n",
       " {'concept': ['3D技術']},\n",
       " {'concept': ['手機']},\n",
       " {'concept': ['APPLE概念']}]"
      ]
     },
     "metadata": {},
     "execution_count": 102
    }
   ],
   "source": [
    "# GG跟發哥在概念股上的最短路徑\n",
    "query = '''\n",
    "MATCH (a:Stock {code:'2330'}), (b:Stock {code:'2454'})\n",
    "MATCH p=allShortestPaths((a)-[:concept_of*]-(b))\n",
    "WITH [node IN nodes(p) where node:Concept | node.name] AS concept\n",
    "RETURN concept \n",
    "'''\n",
    "graph.run(query).data()"
   ]
  },
  {
   "cell_type": "code",
   "execution_count": 112,
   "metadata": {},
   "outputs": [
    {
     "output_type": "execute_result",
     "data": {
      "text/plain": [
       "[{'stock': '彰銀', 'degree': 240},\n",
       " {'stock': '臺企銀', 'degree': 198},\n",
       " {'stock': '安泰銀', 'degree': 169},\n",
       " {'stock': '開發金', 'degree': 152},\n",
       " {'stock': '聯邦銀', 'degree': 151},\n",
       " {'stock': '遠東銀', 'degree': 150},\n",
       " {'stock': '凌群', 'degree': 143},\n",
       " {'stock': '上海商銀', 'degree': 136},\n",
       " {'stock': '台中銀', 'degree': 135},\n",
       " {'stock': '中華電', 'degree': 134}]"
      ]
     },
     "metadata": {},
     "execution_count": 112
    }
   ],
   "source": [
    "# 查詢含有最多degree(不考慮方向以及關聯類別)的前10個Stock\n",
    "# 彰銀主要靠董事成員夠多\n",
    "query = '''\n",
    "MATCH (s:Stock)\n",
    "RETURN s.name AS stock, size( (s)-[]-() ) AS degree \n",
    "ORDER BY degree DESC LIMIT 10\n",
    "'''\n",
    "\n",
    "graph.run(query).data()"
   ]
  },
  {
   "cell_type": "code",
   "execution_count": 126,
   "metadata": {},
   "outputs": [
    {
     "output_type": "execute_result",
     "data": {
      "text/plain": [
       "[{'person': '大通先進星光', 'degree': 194},\n",
       " {'person': '富邦人壽保險(股)', 'degree': 193},\n",
       " {'person': '花旗託管挪威', 'degree': 158},\n",
       " {'person': '國泰人壽保險(股)', 'degree': 103},\n",
       " {'person': '摩根梵市場股', 'degree': 88},\n",
       " {'person': '勞工局全權', 'degree': 85},\n",
       " {'person': '南山人壽保險(股)', 'degree': 50},\n",
       " {'person': '匯豐摩根士丹', 'degree': 47},\n",
       " {'person': '台灣人壽保險(股)', 'degree': 47},\n",
       " {'person': '全球人壽保險(股)', 'degree': 37},\n",
       " {'person': '花旗台DFA 核', 'degree': 36},\n",
       " {'person': '花旗次元新興', 'degree': 34},\n",
       " {'person': '公務人員退休', 'degree': 29},\n",
       " {'person': '三商美邦人壽(股)', 'degree': 28},\n",
       " {'person': '花旗(台灣)託', 'degree': 26},\n",
       " {'person': '舊制勞工退休', 'degree': 26},\n",
       " {'person': '中華郵政(股)', 'degree': 24},\n",
       " {'person': '新制勞工退休', 'degree': 23},\n",
       " {'person': '美商摩根-004', 'degree': 22},\n",
       " {'person': '中國信託商業', 'degree': 21},\n",
       " {'person': '新光人壽保險(股)', 'degree': 21},\n",
       " {'person': '兆豐國際商業(股)', 'degree': 19},\n",
       " {'person': '花旗台新加坡', 'degree': 18},\n",
       " {'person': '中國人壽保險(股)', 'degree': 18},\n",
       " {'person': '渣打託管列支', 'degree': 17},\n",
       " {'person': '花旗政府(星)', 'degree': 17},\n",
       " {'person': '大通託管梵加', 'degree': 16},\n",
       " {'person': '摩根託管梵加', 'degree': 16},\n",
       " {'person': '群益金鼎證券', 'degree': 15},\n",
       " {'person': '渣打國際商業', 'degree': 15},\n",
       " {'person': '元大台灣高股', 'degree': 14},\n",
       " {'person': '渣打瑞信文藝', 'degree': 14},\n",
       " {'person': '涂水城', 'degree': 14},\n",
       " {'person': '遠雄人壽保險(股)', 'degree': 13},\n",
       " {'person': '渣打託管歐洲', 'degree': 12}]"
      ]
     },
     "metadata": {},
     "execution_count": 126
    }
   ],
   "source": [
    "# 查詢跟最多股票有關係的前35位董事\n",
    "# 涂水城是大股東\n",
    "query = '''\n",
    "MATCH (p:Person)\n",
    "RETURN p.name AS person, size( (p)-[]-(:Stock) ) AS degree \n",
    "ORDER BY degree DESC LIMIT 35\n",
    "'''\n",
    "\n",
    "graph.run(query).data()"
   ]
  },
  {
   "cell_type": "code",
   "execution_count": 131,
   "metadata": {},
   "outputs": [
    {
     "output_type": "execute_result",
     "data": {
      "text/plain": [
       "[{'person': '富邦人壽保險(股)', 'stockNum': 6021145},\n",
       " {'person': '花旗台積存託', 'stockNum': 5325610},\n",
       " {'person': '大通先進星光', 'stockNum': 5174727},\n",
       " {'person': '經濟部(股)-劉明忠', 'stockNum': 3486011},\n",
       " {'person': '財政部-江瑞堂', 'stockNum': 3475465},\n",
       " {'person': '財政部-許國郎', 'stockNum': 3475465},\n",
       " {'person': '財政部-陳美足', 'stockNum': 3475465},\n",
       " {'person': '財政部-雷仲達', 'stockNum': 3475465},\n",
       " {'person': '財政部-施遵驊', 'stockNum': 3475465},\n",
       " {'person': '財政部-李新仁', 'stockNum': 3475465},\n",
       " {'person': '勞工局全權', 'stockNum': 3421359},\n",
       " {'person': '台灣化學纖維(股)-王文淵', 'stockNum': 3417801},\n",
       " {'person': '花旗託管挪威', 'stockNum': 3375861},\n",
       " {'person': '長庚醫療財團', 'stockNum': 3257043},\n",
       " {'person': '經濟部(股)-曾文生', 'stockNum': 3154709},\n",
       " {'person': '經濟部(股)-翁朝棟', 'stockNum': 3154709},\n",
       " {'person': '國泰人壽保險(股)', 'stockNum': 2872015},\n",
       " {'person': '交通部-張信一', 'stockNum': 2737719},\n",
       " {'person': '交通部-蕭宏宜', 'stockNum': 2737719},\n",
       " {'person': '交通部-黃玉霖', 'stockNum': 2737719},\n",
       " {'person': '交通部-謝繼茂', 'stockNum': 2737719},\n",
       " {'person': '交通部-郭水義', 'stockNum': 2737719},\n",
       " {'person': '交通部-李連權', 'stockNum': 2737719},\n",
       " {'person': '交通部-潘進財', 'stockNum': 2737719},\n",
       " {'person': '交通部-陳信宏', 'stockNum': 2737719},\n",
       " {'person': '臺灣銀行(股)-王昭文', 'stockNum': 2729230},\n",
       " {'person': '臺灣銀行(股)-王安邦', 'stockNum': 2729230},\n",
       " {'person': '臺灣銀行(股)-蔡偉德', 'stockNum': 2729230},\n",
       " {'person': '臺灣銀行(股)-顏佑銘', 'stockNum': 2729230},\n",
       " {'person': '臺灣銀行(股)-鄭士卿', 'stockNum': 2729230},\n",
       " {'person': '臺灣銀行(股)-陳和全', 'stockNum': 2729230},\n",
       " {'person': '台灣塑膠工業(股)-王瑞華', 'stockNum': 2720549},\n",
       " {'person': '台灣塑膠工業(股)-陳寶郎', 'stockNum': 2720549},\n",
       " {'person': '花旗台新加坡', 'stockNum': 2603725},\n",
       " {'person': '萬寶開發(股)', 'stockNum': 2574832}]"
      ]
     },
     "metadata": {},
     "execution_count": 131
    }
   ],
   "source": [
    "# 查詢總持股前35最多的董事\n",
    "query = '''\n",
    "MATCH (p:Person)-[r:employ_of]-(:Stock)\n",
    "RETURN p.name AS person, sum(r.stock_num) as stockNum\n",
    "ORDER BY stockNum DESC LIMIT 35\n",
    "'''\n",
    "\n",
    "graph.run(query).data()"
   ]
  },
  {
   "cell_type": "code",
   "execution_count": 160,
   "metadata": {},
   "outputs": [],
   "source": [
    "# query = '''CALL gds.graph.drop('myGraph', false) '''\n",
    "# query = '''\n",
    "# CALL gds.graph.create('myGraph', 'Person', 'employ_of') YIELD graphName\n",
    "# CALL gds.betweenness.stream('myGraph')\n",
    "# YIELD nodeId, score\n",
    "# RETURN gds.util.asNode(nodeId).name AS name, score\n",
    "# ORDER BY score DESC\n",
    "# '''\n",
    "\n",
    "# graph.run(query)"
   ]
  },
  {
   "cell_type": "code",
   "execution_count": 5,
   "metadata": {},
   "outputs": [],
   "source": [
    "query = '''\n",
    "MATCH (s:Stock)-[r:concept_of]->(c:Concept)\n",
    "RETURN s.name, c.name\n",
    "'''\n",
    "\n",
    "ig = IGraph.TupleList(graph.run(query), weights=True)\n",
    "pprint([v for v in ig.vs])"
   ]
  },
  {
   "cell_type": "code",
   "execution_count": 12,
   "metadata": {
    "tags": [
     "outputPrepend"
    ]
   },
   "outputs": [
    {
     "output_type": "stream",
     "name": "stdout",
     "text": [
      ", {'name': '復盛應用'}), 0.0005066601740148362)\n(igraph.Vertex(<igraph.Graph object at 0x10c4eb9a0>, 850, {'name': '燃料電池'}), 0.0009670530684484466)\n(igraph.Vertex(<igraph.Graph object at 0x10c4eb9a0>, 851, {'name': '海德威'}), 0.0005295311472742489)\n(igraph.Vertex(<igraph.Graph object at 0x10c4eb9a0>, 852, {'name': '永光'}), 0.0003482199949334943)\n(igraph.Vertex(<igraph.Graph object at 0x10c4eb9a0>, 853, {'name': '博奕觀光'}), 0.0009878409695590238)\n(igraph.Vertex(<igraph.Graph object at 0x10c4eb9a0>, 854, {'name': 'TPP'}), 0.0040452624064963374)\n(igraph.Vertex(<igraph.Graph object at 0x10c4eb9a0>, 855, {'name': '金洲'}), 0.0003146448701642983)\n(igraph.Vertex(<igraph.Graph object at 0x10c4eb9a0>, 856, {'name': '如興'}), 0.0003146448701642983)\n(igraph.Vertex(<igraph.Graph object at 0x10c4eb9a0>, 857, {'name': '弘裕'}), 0.0003146448701642983)\n(igraph.Vertex(<igraph.Graph object at 0x10c4eb9a0>, 858, {'name': '南緯'}), 0.0003146448701642983)\n(igraph.Vertex(<igraph.Graph object at 0x10c4eb9a0>, 859, {'name': '折疊手機'}), 0.002699510064825961)\n(igraph.Vertex(<igraph.Graph object at 0x10c4eb9a0>, 860, {'name': '5G'}), 0.0061939323201276215)\n(igraph.Vertex(<igraph.Graph object at 0x10c4eb9a0>, 861, {'name': '中概外銷收成股'}), 0.002268427230883686)\n(igraph.Vertex(<igraph.Graph object at 0x10c4eb9a0>, 862, {'name': '漢平'}), 0.00038365480848795766)\n(igraph.Vertex(<igraph.Graph object at 0x10c4eb9a0>, 863, {'name': '一詮'}), 0.00038365480848795766)\n(igraph.Vertex(<igraph.Graph object at 0x10c4eb9a0>, 864, {'name': '高林股'}), 0.00038365480848795766)\n(igraph.Vertex(<igraph.Graph object at 0x10c4eb9a0>, 865, {'name': '中天'}), 0.00034850187277747185)\n(igraph.Vertex(<igraph.Graph object at 0x10c4eb9a0>, 866, {'name': '生技'}), 0.002663043769155416)\n(igraph.Vertex(<igraph.Graph object at 0x10c4eb9a0>, 867, {'name': '優盛'}), 0.0006834202038192874)\n(igraph.Vertex(<igraph.Graph object at 0x10c4eb9a0>, 868, {'name': '懷特'}), 0.00034850187277747185)\n(igraph.Vertex(<igraph.Graph object at 0x10c4eb9a0>, 869, {'name': '東洋'}), 0.00034850187277747185)\n(igraph.Vertex(<igraph.Graph object at 0x10c4eb9a0>, 870, {'name': '永信'}), 0.0005073369072265502)\n(igraph.Vertex(<igraph.Graph object at 0x10c4eb9a0>, 871, {'name': '合世'}), 0.0006834202038190317)\n(igraph.Vertex(<igraph.Graph object at 0x10c4eb9a0>, 872, {'name': '杏輝'}), 0.0008079051301243827)\n(igraph.Vertex(<igraph.Graph object at 0x10c4eb9a0>, 873, {'name': '五鼎'}), 0.00034850187277747185)\n(igraph.Vertex(<igraph.Graph object at 0x10c4eb9a0>, 874, {'name': '生達'}), 0.0005073369072265502)\n(igraph.Vertex(<igraph.Graph object at 0x10c4eb9a0>, 875, {'name': '中化'}), 0.000680392901068573)\n(igraph.Vertex(<igraph.Graph object at 0x10c4eb9a0>, 876, {'name': '無人機'}), 0.003745611996464351)\n(igraph.Vertex(<igraph.Graph object at 0x10c4eb9a0>, 877, {'name': '晟田'}), 0.0002564272963523053)\n(igraph.Vertex(<igraph.Graph object at 0x10c4eb9a0>, 878, {'name': '拓凱'}), 0.0002564272963523053)\n(igraph.Vertex(<igraph.Graph object at 0x10c4eb9a0>, 879, {'name': '茂訊'}), 0.0002564272963523053)\n(igraph.Vertex(<igraph.Graph object at 0x10c4eb9a0>, 880, {'name': '漢翔'}), 0.0002564272963523053)\n(igraph.Vertex(<igraph.Graph object at 0x10c4eb9a0>, 881, {'name': '讀取辨識'}), 0.0012719856865763047)\n(igraph.Vertex(<igraph.Graph object at 0x10c4eb9a0>, 882, {'name': '鴻翊'}), 0.0003543407560006913)\n(igraph.Vertex(<igraph.Graph object at 0x10c4eb9a0>, 883, {'name': '英國GDR'}), 0.0008684276425351432)\n(igraph.Vertex(<igraph.Graph object at 0x10c4eb9a0>, 884, {'name': '中國十三五'}), 0.0035338449911372144)\n(igraph.Vertex(<igraph.Graph object at 0x10c4eb9a0>, 885, {'name': '茂迪'}), 0.0007266097068935455)\n(igraph.Vertex(<igraph.Graph object at 0x10c4eb9a0>, 886, {'name': '巨路'}), 0.0006935846344813723)\n(igraph.Vertex(<igraph.Graph object at 0x10c4eb9a0>, 887, {'name': '聯合'}), 0.00040083206618145284)\n(igraph.Vertex(<igraph.Graph object at 0x10c4eb9a0>, 888, {'name': '碩禾'}), 0.0007160607523728264)\n(igraph.Vertex(<igraph.Graph object at 0x10c4eb9a0>, 889, {'name': '盛餘'}), 0.0002733198371258837)\n(igraph.Vertex(<igraph.Graph object at 0x10c4eb9a0>, 890, {'name': '燁輝'}), 0.00040083206618145284)\n(igraph.Vertex(<igraph.Graph object at 0x10c4eb9a0>, 891, {'name': '美國ADR'}), 0.0007604964013797123)\n(igraph.Vertex(<igraph.Graph object at 0x10c4eb9a0>, 892, {'name': '無線充電'}), 0.0037488818403904976)\n(igraph.Vertex(<igraph.Graph object at 0x10c4eb9a0>, 893, {'name': '福華'}), 0.0003240323702289626)\n(igraph.Vertex(<igraph.Graph object at 0x10c4eb9a0>, 894, {'name': '太陽能'}), 0.005119373713150719)\n(igraph.Vertex(<igraph.Graph object at 0x10c4eb9a0>, 895, {'name': '元晶'}), 0.0003240323702289626)\n(igraph.Vertex(<igraph.Graph object at 0x10c4eb9a0>, 896, {'name': '中美晶'}), 0.00046209355380475673)\n(igraph.Vertex(<igraph.Graph object at 0x10c4eb9a0>, 897, {'name': '磐亞'}), 0.0003240323702289626)\n(igraph.Vertex(<igraph.Graph object at 0x10c4eb9a0>, 898, {'name': '新晶投控'}), 0.0003240323702289626)\n(igraph.Vertex(<igraph.Graph object at 0x10c4eb9a0>, 899, {'name': '達能'}), 0.0003240323702289626)\n(igraph.Vertex(<igraph.Graph object at 0x10c4eb9a0>, 900, {'name': '聯合再生'}), 0.0005960110876558465)\n(igraph.Vertex(<igraph.Graph object at 0x10c4eb9a0>, 901, {'name': '台勝科'}), 0.0003240323702289626)\n(igraph.Vertex(<igraph.Graph object at 0x10c4eb9a0>, 902, {'name': '統懋'}), 0.0003240323702289626)\n(igraph.Vertex(<igraph.Graph object at 0x10c4eb9a0>, 903, {'name': '鼎元'}), 0.0005097338169022049)\n(igraph.Vertex(<igraph.Graph object at 0x10c4eb9a0>, 904, {'name': '茂矽'}), 0.0003240323702289626)\n(igraph.Vertex(<igraph.Graph object at 0x10c4eb9a0>, 905, {'name': '中釉'}), 0.00045154459928453173)\n(igraph.Vertex(<igraph.Graph object at 0x10c4eb9a0>, 906, {'name': '台玻'}), 0.00045154459928453173)\n(igraph.Vertex(<igraph.Graph object at 0x10c4eb9a0>, 907, {'name': '日勝化'}), 0.0003240323702289626)\n(igraph.Vertex(<igraph.Graph object at 0x10c4eb9a0>, 908, {'name': '4K2K TV'}), 0.0012166581932712892)\n(igraph.Vertex(<igraph.Graph object at 0x10c4eb9a0>, 909, {'name': '南茂'}), 0.00025762782503047955)\n(igraph.Vertex(<igraph.Graph object at 0x10c4eb9a0>, 910, {'name': '鎂合金機殼'}), 0.0006278952115029232)\n(igraph.Vertex(<igraph.Graph object at 0x10c4eb9a0>, 911, {'name': '人臉辨識'}), 0.0011549210616018108)\n(igraph.Vertex(<igraph.Graph object at 0x10c4eb9a0>, 912, {'name': '浩鑫'}), 0.0003443943077351685)\n(igraph.Vertex(<igraph.Graph object at 0x10c4eb9a0>, 913, {'name': '廣運'}), 0.0003552275520729049)\n(igraph.Vertex(<igraph.Graph object at 0x10c4eb9a0>, 914, {'name': '高雄經貿園區'}), 0.0032500968757660778)\n(igraph.Vertex(<igraph.Graph object at 0x10c4eb9a0>, 915, {'name': '聯上發'}), 0.0003552275520729049)\n(igraph.Vertex(<igraph.Graph object at 0x10c4eb9a0>, 916, {'name': '國化'}), 0.0003552275520729049)\n(igraph.Vertex(<igraph.Graph object at 0x10c4eb9a0>, 917, {'name': '東聯'}), 0.0003552275520729049)\n(igraph.Vertex(<igraph.Graph object at 0x10c4eb9a0>, 918, {'name': '台達化'}), 0.0003552275520729049)\n(igraph.Vertex(<igraph.Graph object at 0x10c4eb9a0>, 919, {'name': '東泥'}), 0.0003552275520729049)\n(igraph.Vertex(<igraph.Graph object at 0x10c4eb9a0>, 920, {'name': '小米手機'}), 0.0019955398588271203)\n(igraph.Vertex(<igraph.Graph object at 0x10c4eb9a0>, 921, {'name': '穿戴裝置'}), 0.0045673489309057645)\n(igraph.Vertex(<igraph.Graph object at 0x10c4eb9a0>, 922, {'name': '錸寶'}), 0.00024764680143603437)\n(igraph.Vertex(<igraph.Graph object at 0x10c4eb9a0>, 923, {'name': '智晶'}), 0.00024764680143603437)\n(igraph.Vertex(<igraph.Graph object at 0x10c4eb9a0>, 924, {'name': '鑫創'}), 0.00024764680143603437)\n(igraph.Vertex(<igraph.Graph object at 0x10c4eb9a0>, 925, {'name': '麗臺'}), 0.00024764680143603437)\n(igraph.Vertex(<igraph.Graph object at 0x10c4eb9a0>, 926, {'name': '三倍券'}), 0.003919016425878877)\n(igraph.Vertex(<igraph.Graph object at 0x10c4eb9a0>, 927, {'name': '豆府'}), 0.0004529727960644156)\n(igraph.Vertex(<igraph.Graph object at 0x10c4eb9a0>, 928, {'name': '雲品'}), 0.0004529727960644156)\n(igraph.Vertex(<igraph.Graph object at 0x10c4eb9a0>, 929, {'name': '六角'}), 0.0005804850251199848)\n(igraph.Vertex(<igraph.Graph object at 0x10c4eb9a0>, 930, {'name': '瓦城'}), 0.0004529727960644156)\n(igraph.Vertex(<igraph.Graph object at 0x10c4eb9a0>, 931, {'name': '王品'}), 0.0004529727960644156)\n(igraph.Vertex(<igraph.Graph object at 0x10c4eb9a0>, 932, {'name': '國賓'}), 0.0004529727960644156)\n(igraph.Vertex(<igraph.Graph object at 0x10c4eb9a0>, 933, {'name': '華園'}), 0.0004529727960644156)\n(igraph.Vertex(<igraph.Graph object at 0x10c4eb9a0>, 934, {'name': '台灣高鐵'}), 0.0004529727960644156)\n(igraph.Vertex(<igraph.Graph object at 0x10c4eb9a0>, 935, {'name': '黑松'}), 0.0004529727960644156)\n(igraph.Vertex(<igraph.Graph object at 0x10c4eb9a0>, 936, {'name': '大統益'}), 0.0004529727960644156)\n(igraph.Vertex(<igraph.Graph object at 0x10c4eb9a0>, 937, {'name': '聯華'}), 0.0004529727960644156)\n(igraph.Vertex(<igraph.Graph object at 0x10c4eb9a0>, 938, {'name': '泰山'}), 0.0004529727960644156)\n(igraph.Vertex(<igraph.Graph object at 0x10c4eb9a0>, 939, {'name': '卜蜂'}), 0.0004529727960644156)\n(igraph.Vertex(<igraph.Graph object at 0x10c4eb9a0>, 940, {'name': 'iPhone X新機系列'}), 0.004226805964612548)\n(igraph.Vertex(<igraph.Graph object at 0x10c4eb9a0>, 941, {'name': '長榮航'}), 0.0004437245743771182)\n(igraph.Vertex(<igraph.Graph object at 0x10c4eb9a0>, 942, {'name': '三通'}), 0.0010205360437256434)\n(igraph.Vertex(<igraph.Graph object at 0x10c4eb9a0>, 943, {'name': '萬海'}), 0.0005638600271133165)\n(igraph.Vertex(<igraph.Graph object at 0x10c4eb9a0>, 944, {'name': '陽明'}), 0.0004437245743771182)\n(igraph.Vertex(<igraph.Graph object at 0x10c4eb9a0>, 945, {'name': '長榮'}), 0.0004437245743771182)\n(igraph.Vertex(<igraph.Graph object at 0x10c4eb9a0>, 946, {'name': '欣陸'}), 0.0004262316763203991)\n(igraph.Vertex(<igraph.Graph object at 0x10c4eb9a0>, 947, {'name': '基礎建設'}), 0.00307529422486581)\n(igraph.Vertex(<igraph.Graph object at 0x10c4eb9a0>, 948, {'name': '達欣工'}), 0.0003060962235842007)\n(igraph.Vertex(<igraph.Graph object at 0x10c4eb9a0>, 949, {'name': '中工'}), 0.0003060962235842007)\n(igraph.Vertex(<igraph.Graph object at 0x10c4eb9a0>, 950, {'name': '中鴻'}), 0.0003060962235842007)\n(igraph.Vertex(<igraph.Graph object at 0x10c4eb9a0>, 951, {'name': '泰博'}), 0.00047763954892999014)\n(igraph.Vertex(<igraph.Graph object at 0x10c4eb9a0>, 952, {'name': '溫度量測'}), 0.0012429409171252047)\n(igraph.Vertex(<igraph.Graph object at 0x10c4eb9a0>, 953, {'name': '豪展'}), 0.00047763954892999014)\n(igraph.Vertex(<igraph.Graph object at 0x10c4eb9a0>, 954, {'name': '熱映'}), 0.00047763954892999014)\n(igraph.Vertex(<igraph.Graph object at 0x10c4eb9a0>, 955, {'name': 'LED光源'}), 0.0034955566432653858)\n(igraph.Vertex(<igraph.Graph object at 0x10c4eb9a0>, 956, {'name': '立碁'}), 0.00032842266456167255)\n(igraph.Vertex(<igraph.Graph object at 0x10c4eb9a0>, 957, {'name': '長華*'}), 0.00032842266456167255)\n(igraph.Vertex(<igraph.Graph object at 0x10c4eb9a0>, 958, {'name': '華上'}), 0.00032842266456167255)\n(igraph.Vertex(<igraph.Graph object at 0x10c4eb9a0>, 959, {'name': '光鼎'}), 0.00032842266456167255)\n(igraph.Vertex(<igraph.Graph object at 0x10c4eb9a0>, 960, {'name': '華興'}), 0.00032842266456167255)\n(igraph.Vertex(<igraph.Graph object at 0x10c4eb9a0>, 961, {'name': '艾笛森'}), 0.00046234019841251363)\n(igraph.Vertex(<igraph.Graph object at 0x10c4eb9a0>, 962, {'name': '新世紀'}), 0.0004664838481374668)\n(igraph.Vertex(<igraph.Graph object at 0x10c4eb9a0>, 963, {'name': '泰谷'}), 0.00032842266456167255)\n(igraph.Vertex(<igraph.Graph object at 0x10c4eb9a0>, 964, {'name': 'Wii U'}), 0.0013127253145963859)\n(igraph.Vertex(<igraph.Graph object at 0x10c4eb9a0>, 965, {'name': '3D技術'}), 0.005966747271696457)\n(igraph.Vertex(<igraph.Graph object at 0x10c4eb9a0>, 966, {'name': '久正'}), 0.00024622601749925784)\n(igraph.Vertex(<igraph.Graph object at 0x10c4eb9a0>, 967, {'name': '撼訊'}), 0.00024622601749925784)\n(igraph.Vertex(<igraph.Graph object at 0x10c4eb9a0>, 968, {'name': '鈺德'}), 0.00024622601749925784)\n(igraph.Vertex(<igraph.Graph object at 0x10c4eb9a0>, 969, {'name': '晶豪科'}), 0.00024622601749925784)\n(igraph.Vertex(<igraph.Graph object at 0x10c4eb9a0>, 970, {'name': '印度設廠'}), 0.0014133582674873211)\n(igraph.Vertex(<igraph.Graph object at 0x10c4eb9a0>, 971, {'name': 'LiDAR'}), 0.0006063122121874641)\n(igraph.Vertex(<igraph.Graph object at 0x10c4eb9a0>, 972, {'name': '自行車相關'}), 0.0006044811727255591)\n(igraph.Vertex(<igraph.Graph object at 0x10c4eb9a0>, 973, {'name': '愛地雅'}), 0.0004520520670695363)\n(igraph.Vertex(<igraph.Graph object at 0x10c4eb9a0>, 974, {'name': '防疫環保'}), 0.014388585473643346)\n(igraph.Vertex(<igraph.Graph object at 0x10c4eb9a0>, 975, {'name': '台康生技'}), 0.00030155625233750855)\n(igraph.Vertex(<igraph.Graph object at 0x10c4eb9a0>, 976, {'name': '申豐'}), 0.00030155625233750855)\n(igraph.Vertex(<igraph.Graph object at 0x10c4eb9a0>, 977, {'name': '高端疫苗'}), 0.00030155625233750855)\n(igraph.Vertex(<igraph.Graph object at 0x10c4eb9a0>, 978, {'name': '瑞智'}), 0.00030155625233750855)\n(igraph.Vertex(<igraph.Graph object at 0x10c4eb9a0>, 979, {'name': '國光生'}), 0.00030155625233750855)\n(igraph.Vertex(<igraph.Graph object at 0x10c4eb9a0>, 980, {'name': '亞諾法'}), 0.00030155625233750855)\n(igraph.Vertex(<igraph.Graph object at 0x10c4eb9a0>, 981, {'name': '晶宇'}), 0.00030155625233750855)\n(igraph.Vertex(<igraph.Graph object at 0x10c4eb9a0>, 982, {'name': '太醫'}), 0.00030155625233750855)\n(igraph.Vertex(<igraph.Graph object at 0x10c4eb9a0>, 983, {'name': '雃博'}), 0.00030155625233750855)\n(igraph.Vertex(<igraph.Graph object at 0x10c4eb9a0>, 984, {'name': '佳醫'}), 0.0004290684813930777)\n(igraph.Vertex(<igraph.Graph object at 0x10c4eb9a0>, 985, {'name': '永日'}), 0.00030155625233750855)\n(igraph.Vertex(<igraph.Graph object at 0x10c4eb9a0>, 986, {'name': '凱美'}), 0.00030155625233750855)\n(igraph.Vertex(<igraph.Graph object at 0x10c4eb9a0>, 987, {'name': '南帝'}), 0.00030155625233750855)\n(igraph.Vertex(<igraph.Graph object at 0x10c4eb9a0>, 988, {'name': '神隆'}), 0.0004290684813930777)\n(igraph.Vertex(<igraph.Graph object at 0x10c4eb9a0>, 989, {'name': '中化生'}), 0.0004290684813930777)\n(igraph.Vertex(<igraph.Graph object at 0x10c4eb9a0>, 990, {'name': '寶齡富錦'}), 0.00047461224617953137)\n(igraph.Vertex(<igraph.Graph object at 0x10c4eb9a0>, 991, {'name': '毛寶'}), 0.00047461224617953137)\n(igraph.Vertex(<igraph.Graph object at 0x10c4eb9a0>, 992, {'name': '花仙子'}), 0.00047461224617953137)\n(igraph.Vertex(<igraph.Graph object at 0x10c4eb9a0>, 993, {'name': '和桐'}), 0.00047461224617953137)\n(igraph.Vertex(<igraph.Graph object at 0x10c4eb9a0>, 994, {'name': '農金'}), 0.003691234212513486)\n(igraph.Vertex(<igraph.Graph object at 0x10c4eb9a0>, 995, {'name': '瑞基'}), 0.0003170295001457796)\n(igraph.Vertex(<igraph.Graph object at 0x10c4eb9a0>, 996, {'name': '連展投控'}), 0.0003170295001457796)\n(igraph.Vertex(<igraph.Graph object at 0x10c4eb9a0>, 997, {'name': '映興'}), 0.0003170295001457796)\n(igraph.Vertex(<igraph.Graph object at 0x10c4eb9a0>, 998, {'name': '中華化'}), 0.0003170295001457796)\n(igraph.Vertex(<igraph.Graph object at 0x10c4eb9a0>, 999, {'name': '興農'}), 0.0003170295001457796)\n(igraph.Vertex(<igraph.Graph object at 0x10c4eb9a0>, 1000, {'name': '東鹼'}), 0.0003170295001457796)\n(igraph.Vertex(<igraph.Graph object at 0x10c4eb9a0>, 1001, {'name': '中砂'}), 0.0003170295001457796)\n(igraph.Vertex(<igraph.Graph object at 0x10c4eb9a0>, 1002, {'name': '福壽'}), 0.00045509068372157383)\n(igraph.Vertex(<igraph.Graph object at 0x10c4eb9a0>, 1003, {'name': 'iPad mini'}), 0.0029634817003855404)\n(igraph.Vertex(<igraph.Graph object at 0x10c4eb9a0>, 1004, {'name': '碳權'}), 0.0009763170669926196)\n(igraph.Vertex(<igraph.Graph object at 0x10c4eb9a0>, 1005, {'name': '皇田'}), 0.00027023344694399943)\n(igraph.Vertex(<igraph.Graph object at 0x10c4eb9a0>, 1006, {'name': '中國'}), 0.02790267600514904)\n(igraph.Vertex(<igraph.Graph object at 0x10c4eb9a0>, 1007, {'name': '茂順'}), 0.00027023344694399943)\n(igraph.Vertex(<igraph.Graph object at 0x10c4eb9a0>, 1008, {'name': '成霖'}), 0.00027023344694399943)\n(igraph.Vertex(<igraph.Graph object at 0x10c4eb9a0>, 1009, {'name': '盛弘'}), 0.00027023344694399943)\n(igraph.Vertex(<igraph.Graph object at 0x10c4eb9a0>, 1010, {'name': '博大'}), 0.00027023344694399943)\n(igraph.Vertex(<igraph.Graph object at 0x10c4eb9a0>, 1011, {'name': '群益期'}), 0.00027023344694399943)\n(igraph.Vertex(<igraph.Graph object at 0x10c4eb9a0>, 1012, {'name': '群益證'}), 0.00027023344694399943)\n(igraph.Vertex(<igraph.Graph object at 0x10c4eb9a0>, 1013, {'name': '合庫金'}), 0.00027023344694399943)\n(igraph.Vertex(<igraph.Graph object at 0x10c4eb9a0>, 1014, {'name': '中菲'}), 0.00027023344694399943)\n(igraph.Vertex(<igraph.Graph object at 0x10c4eb9a0>, 1015, {'name': '智崴'}), 0.00027023344694399943)\n(igraph.Vertex(<igraph.Graph object at 0x10c4eb9a0>, 1016, {'name': '強新'}), 0.00027023344694399943)\n(igraph.Vertex(<igraph.Graph object at 0x10c4eb9a0>, 1017, {'name': '雙美'}), 0.00027023344694399943)\n(igraph.Vertex(<igraph.Graph object at 0x10c4eb9a0>, 1018, {'name': '承業醫'}), 0.00027023344694399943)\n(igraph.Vertex(<igraph.Graph object at 0x10c4eb9a0>, 1019, {'name': '元創精密'}), 0.00027023344694399943)\n(igraph.Vertex(<igraph.Graph object at 0x10c4eb9a0>, 1020, {'name': '基亞'}), 0.00027023344694399943)\n(igraph.Vertex(<igraph.Graph object at 0x10c4eb9a0>, 1021, {'name': '大毅'}), 0.00027023344694399943)\n(igraph.Vertex(<igraph.Graph object at 0x10c4eb9a0>, 1022, {'name': '圓剛'}), 0.00027023344694399943)\n(igraph.Vertex(<igraph.Graph object at 0x10c4eb9a0>, 1023, {'name': '映泰'}), 0.00027023344694399943)\n(igraph.Vertex(<igraph.Graph object at 0x10c4eb9a0>, 1024, {'name': '裕日車'}), 0.00027023344694399943)\n(igraph.Vertex(<igraph.Graph object at 0x10c4eb9a0>, 1025, {'name': '華豐'}), 0.00027023344694399943)\n(igraph.Vertex(<igraph.Graph object at 0x10c4eb9a0>, 1026, {'name': '和成'}), 0.00027023344694399943)\n(igraph.Vertex(<igraph.Graph object at 0x10c4eb9a0>, 1027, {'name': '冠軍'}), 0.00027023344694399943)\n(igraph.Vertex(<igraph.Graph object at 0x10c4eb9a0>, 1028, {'name': '杏昌'}), 0.00027023344694399943)\n(igraph.Vertex(<igraph.Graph object at 0x10c4eb9a0>, 1029, {'name': '正道'}), 0.00027023344694399943)\n(igraph.Vertex(<igraph.Graph object at 0x10c4eb9a0>, 1030, {'name': '物聯網'}), 0.004870623753115467)\n(igraph.Vertex(<igraph.Graph object at 0x10c4eb9a0>, 1031, {'name': '研揚'}), 0.000246221972641919)\n(igraph.Vertex(<igraph.Graph object at 0x10c4eb9a0>, 1032, {'name': '晶心科'}), 0.000246221972641919)\n(igraph.Vertex(<igraph.Graph object at 0x10c4eb9a0>, 1033, {'name': '磐儀'}), 0.000246221972641919)\n(igraph.Vertex(<igraph.Graph object at 0x10c4eb9a0>, 1034, {'name': '端子連接器被動元件'}), 0.0028077169196546697)\n(igraph.Vertex(<igraph.Graph object at 0x10c4eb9a0>, 1035, {'name': '空汙防治'}), 0.0023632505973721148)\n(igraph.Vertex(<igraph.Graph object at 0x10c4eb9a0>, 1036, {'name': 'XBOX One'}), 0.00169207194299944)\n(igraph.Vertex(<igraph.Graph object at 0x10c4eb9a0>, 1037, {'name': 'AppleCar'}), 0.002202405823231609)\n(igraph.Vertex(<igraph.Graph object at 0x10c4eb9a0>, 1038, {'name': '新兆元能源'}), 0.002598798749666691)\n(igraph.Vertex(<igraph.Graph object at 0x10c4eb9a0>, 1039, {'name': '台塑化'}), 0.0002998528036820136)\n(igraph.Vertex(<igraph.Graph object at 0x10c4eb9a0>, 1040, {'name': '川普稅改'}), 0.0009243034458460416)\n(igraph.Vertex(<igraph.Graph object at 0x10c4eb9a0>, 1041, {'name': '零售消費'}), 0.0006843595633572534)\n(igraph.Vertex(<igraph.Graph object at 0x10c4eb9a0>, 1042, {'name': '凱碩'}), 0.0002597840423312746)\n(igraph.Vertex(<igraph.Graph object at 0x10c4eb9a0>, 1043, {'name': '智慧電網'}), 0.002341256488861555)\n(igraph.Vertex(<igraph.Graph object at 0x10c4eb9a0>, 1044, {'name': '榮群'}), 0.000257106706941047)\n(igraph.Vertex(<igraph.Graph object at 0x10c4eb9a0>, 1045, {'name': '光纖設備'}), 0.0034988502533807426)\n(igraph.Vertex(<igraph.Graph object at 0x10c4eb9a0>, 1046, {'name': '華電網'}), 0.000257106706941047)\n(igraph.Vertex(<igraph.Graph object at 0x10c4eb9a0>, 1047, {'name': '台林'}), 0.000257106706941047)\n(igraph.Vertex(<igraph.Graph object at 0x10c4eb9a0>, 1048, {'name': '環科'}), 0.000257106706941047)\n(igraph.Vertex(<igraph.Graph object at 0x10c4eb9a0>, 1049, {'name': '華榮'}), 0.000257106706941047)\n(igraph.Vertex(<igraph.Graph object at 0x10c4eb9a0>, 1050, {'name': '清潔抗菌'}), 0.0016287622949859673)\n"
     ]
    },
    {
     "output_type": "execute_result",
     "data": {
      "text/plain": [
       "(No data)"
      ]
     },
     "metadata": {},
     "execution_count": 12
    }
   ],
   "source": [
    "pg = ig.pagerank()\n",
    "pgvs = []\n",
    "for p in zip(ig.vs, pg):\n",
    "    print(p)\n",
    "    pg_value = p[1] if p[1]!=None else 0\n",
    "    if pg_value == 0:\n",
    "        breakpoint()\n",
    "    # pg_value = 0\n",
    "    # if p[1]!=None:\n",
    "    #     pg_value = p[1]\n",
    "    pgvs.append({\"name\": p[0][\"name\"], \"pg\": pg_value})\n",
    "\n",
    "write_clusters_query = '''\n",
    "UNWIND $nodes AS n\n",
    "MATCH (s:Stock) WHERE s.name = n.name\n",
    "SET s.pagerank = n.pg\n",
    "'''\n",
    "\n",
    "graph.run(write_clusters_query, nodes=pgvs)"
   ]
  },
  {
   "cell_type": "code",
   "execution_count": 15,
   "metadata": {},
   "outputs": [
    {
     "output_type": "execute_result",
     "data": {
      "text/plain": [
       "[{'name': '櫃200T永昌9C購02', 'pagerank': None},\n",
       " {'name': '櫃200T永昌9C購03', 'pagerank': None},\n",
       " {'name': '櫃200T永昌9C購04', 'pagerank': None},\n",
       " {'name': '兆利康和9C購01', 'pagerank': None},\n",
       " {'name': '穩懋永昌9C購01', 'pagerank': None},\n",
       " {'name': '統新統一01購01', 'pagerank': None},\n",
       " {'name': '環球晶第一01購01', 'pagerank': None},\n",
       " {'name': '穩懋元富02購01', 'pagerank': None},\n",
       " {'name': '穩懋元富02購02', 'pagerank': None},\n",
       " {'name': '櫃200T永昌9C購01', 'pagerank': None}]"
      ]
     },
     "metadata": {},
     "execution_count": 15
    }
   ],
   "source": [
    "query = '''\n",
    "MATCH (s:Stock)\n",
    "RETURN s.name AS name, s.pagerank AS pagerank ORDER BY pagerank DESC LIMIT 10\n",
    "'''\n",
    "graph.run(query).data()"
   ]
  },
  {
   "cell_type": "code",
   "execution_count": null,
   "metadata": {},
   "outputs": [],
   "source": []
  },
  {
   "cell_type": "code",
   "execution_count": null,
   "metadata": {},
   "outputs": [],
   "source": []
  }
 ]
}